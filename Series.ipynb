{
 "cells": [
  {
   "cell_type": "markdown",
   "metadata": {},
   "source": [
    "## Import Libraries"
   ]
  },
  {
   "cell_type": "code",
   "execution_count": 2,
   "metadata": {},
   "outputs": [],
   "source": [
    "import pandas as pd\n",
    "import numpy as np\n",
    "import matplotlib.pyplot as plt\n",
    "%matplotlib inline"
   ]
  },
  {
   "cell_type": "code",
   "execution_count": 4,
   "metadata": {},
   "outputs": [
    {
     "data": {
      "text/plain": [
       "'0.23.2'"
      ]
     },
     "execution_count": 4,
     "metadata": {},
     "output_type": "execute_result"
    }
   ],
   "source": [
    "pd.__version__"
   ]
  },
  {
   "cell_type": "markdown",
   "metadata": {},
   "source": [
    "## Python Crash Course"
   ]
  },
  {
   "cell_type": "code",
   "execution_count": 5,
   "metadata": {},
   "outputs": [],
   "source": [
    "nums = [1, 5, 10, 20]"
   ]
  },
  {
   "cell_type": "code",
   "execution_count": 6,
   "metadata": {},
   "outputs": [
    {
     "data": {
      "text/plain": [
       "list"
      ]
     },
     "execution_count": 6,
     "metadata": {},
     "output_type": "execute_result"
    }
   ],
   "source": [
    "type(nums)"
   ]
  },
  {
   "cell_type": "code",
   "execution_count": 7,
   "metadata": {},
   "outputs": [
    {
     "data": {
      "text/plain": [
       "4"
      ]
     },
     "execution_count": 7,
     "metadata": {},
     "output_type": "execute_result"
    }
   ],
   "source": [
    "len(nums)"
   ]
  },
  {
   "cell_type": "code",
   "execution_count": 12,
   "metadata": {},
   "outputs": [
    {
     "data": {
      "text/plain": [
       "5"
      ]
     },
     "execution_count": 12,
     "metadata": {},
     "output_type": "execute_result"
    }
   ],
   "source": [
    "nums[1]"
   ]
  },
  {
   "cell_type": "code",
   "execution_count": 14,
   "metadata": {},
   "outputs": [
    {
     "data": {
      "text/plain": [
       "{'aaa': 12, 'bbb': 20, 'ccc': 30}"
      ]
     },
     "execution_count": 14,
     "metadata": {},
     "output_type": "execute_result"
    }
   ],
   "source": [
    "my_dict = {'aaa':12,\n",
    "           'bbb':20,\n",
    "           'ccc':30\n",
    "          }\n",
    "my_dict"
   ]
  },
  {
   "cell_type": "code",
   "execution_count": 15,
   "metadata": {},
   "outputs": [
    {
     "data": {
      "text/plain": [
       "12"
      ]
     },
     "execution_count": 15,
     "metadata": {},
     "output_type": "execute_result"
    }
   ],
   "source": [
    "my_dict['aaa']"
   ]
  },
  {
   "cell_type": "code",
   "execution_count": 16,
   "metadata": {},
   "outputs": [
    {
     "data": {
      "text/plain": [
       "30"
      ]
     },
     "execution_count": 16,
     "metadata": {},
     "output_type": "execute_result"
    }
   ],
   "source": [
    "my_dict['ccc']"
   ]
  },
  {
   "cell_type": "code",
   "execution_count": 17,
   "metadata": {},
   "outputs": [
    {
     "data": {
      "text/plain": [
       "True"
      ]
     },
     "execution_count": 17,
     "metadata": {},
     "output_type": "execute_result"
    }
   ],
   "source": [
    "1 == 1"
   ]
  },
  {
   "cell_type": "code",
   "execution_count": 18,
   "metadata": {},
   "outputs": [
    {
     "data": {
      "text/plain": [
       "False"
      ]
     },
     "execution_count": 18,
     "metadata": {},
     "output_type": "execute_result"
    }
   ],
   "source": [
    "1 == 2"
   ]
  },
  {
   "cell_type": "code",
   "execution_count": 19,
   "metadata": {},
   "outputs": [
    {
     "data": {
      "text/plain": [
       "True"
      ]
     },
     "execution_count": 19,
     "metadata": {},
     "output_type": "execute_result"
    }
   ],
   "source": [
    "1 != 2"
   ]
  },
  {
   "cell_type": "code",
   "execution_count": 21,
   "metadata": {},
   "outputs": [
    {
     "data": {
      "text/plain": [
       "True"
      ]
     },
     "execution_count": 21,
     "metadata": {},
     "output_type": "execute_result"
    }
   ],
   "source": [
    "\"aaa\" == \"aaa\""
   ]
  },
  {
   "cell_type": "code",
   "execution_count": 22,
   "metadata": {},
   "outputs": [
    {
     "data": {
      "text/plain": [
       "True"
      ]
     },
     "execution_count": 22,
     "metadata": {},
     "output_type": "execute_result"
    }
   ],
   "source": [
    "\"Aaa\" != \"aaa\""
   ]
  },
  {
   "cell_type": "code",
   "execution_count": 23,
   "metadata": {},
   "outputs": [
    {
     "data": {
      "text/plain": [
       "True"
      ]
     },
     "execution_count": 23,
     "metadata": {},
     "output_type": "execute_result"
    }
   ],
   "source": [
    "\"Aaa\" == \"Aaa\""
   ]
  },
  {
   "cell_type": "code",
   "execution_count": 26,
   "metadata": {},
   "outputs": [
    {
     "data": {
      "text/plain": [
       "True"
      ]
     },
     "execution_count": 26,
     "metadata": {},
     "output_type": "execute_result"
    }
   ],
   "source": [
    "8 <= 10"
   ]
  },
  {
   "cell_type": "code",
   "execution_count": null,
   "metadata": {},
   "outputs": [],
   "source": [
    "def c_to_f(cTemp):\n",
    "    "
   ]
  },
  {
   "cell_type": "code",
   "execution_count": 4,
   "metadata": {},
   "outputs": [],
   "source": [
    "ice_cream = [\"Chocolate\", \"Vanilla\", \"Strawberry\", \"RumRaisin\"]"
   ]
  },
  {
   "cell_type": "code",
   "execution_count": 5,
   "metadata": {},
   "outputs": [
    {
     "data": {
      "text/plain": [
       "0     Chocolate\n",
       "1       Vanilla\n",
       "2    Strawberry\n",
       "3     RumRaisin\n",
       "dtype: object"
      ]
     },
     "execution_count": 5,
     "metadata": {},
     "output_type": "execute_result"
    }
   ],
   "source": [
    "pd.Series(ice_cream)"
   ]
  },
  {
   "cell_type": "code",
   "execution_count": 6,
   "metadata": {},
   "outputs": [
    {
     "data": {
      "text/plain": [
       "0     4\n",
       "1     8\n",
       "2    15\n",
       "3    23\n",
       "4    42\n",
       "dtype: int64"
      ]
     },
     "execution_count": 6,
     "metadata": {},
     "output_type": "execute_result"
    }
   ],
   "source": [
    "lottary = [4, 8 ,15 ,23 ,42]\n",
    "pd.Series(lottary)"
   ]
  },
  {
   "cell_type": "code",
   "execution_count": 7,
   "metadata": {},
   "outputs": [
    {
     "data": {
      "text/plain": [
       "0     True\n",
       "1    False\n",
       "2    False\n",
       "3     True\n",
       "dtype: bool"
      ]
     },
     "execution_count": 7,
     "metadata": {},
     "output_type": "execute_result"
    }
   ],
   "source": [
    "regist = [True, False, False, True]\n",
    "pd.Series(regist)"
   ]
  },
  {
   "cell_type": "code",
   "execution_count": 8,
   "metadata": {},
   "outputs": [
    {
     "data": {
      "text/plain": [
       "aaa    An animal\n",
       "bbb      A fruit\n",
       "ccc      A color\n",
       "dtype: object"
      ]
     },
     "execution_count": 8,
     "metadata": {},
     "output_type": "execute_result"
    }
   ],
   "source": [
    "webster = {\"aaa\": \"An animal\",\n",
    "           \"bbb\": \"A fruit\",\n",
    "           \"ccc\": \"A color\"\n",
    "}\n",
    "pd.Series(webster)"
   ]
  },
  {
   "cell_type": "code",
   "execution_count": 11,
   "metadata": {},
   "outputs": [
    {
     "data": {
      "text/plain": [
       "0        Smart\n",
       "1     Handsome\n",
       "2     Charming\n",
       "3    Brilliant\n",
       "4       Humble\n",
       "dtype: object"
      ]
     },
     "execution_count": 11,
     "metadata": {},
     "output_type": "execute_result"
    }
   ],
   "source": [
    "about_me = [\"Smart\", \"Handsome\", \"Charming\", \"Brilliant\", \"Humble\"]\n",
    "s = pd.Series(about_me)\n",
    "s"
   ]
  },
  {
   "cell_type": "markdown",
   "metadata": {},
   "source": [
    "## Attributes"
   ]
  },
  {
   "cell_type": "code",
   "execution_count": 12,
   "metadata": {},
   "outputs": [
    {
     "data": {
      "text/plain": [
       "array(['Smart', 'Handsome', 'Charming', 'Brilliant', 'Humble'],\n",
       "      dtype=object)"
      ]
     },
     "execution_count": 12,
     "metadata": {},
     "output_type": "execute_result"
    }
   ],
   "source": [
    "s.values"
   ]
  },
  {
   "cell_type": "code",
   "execution_count": 13,
   "metadata": {},
   "outputs": [
    {
     "data": {
      "text/plain": [
       "RangeIndex(start=0, stop=5, step=1)"
      ]
     },
     "execution_count": 13,
     "metadata": {},
     "output_type": "execute_result"
    }
   ],
   "source": [
    "s.index"
   ]
  },
  {
   "cell_type": "code",
   "execution_count": 14,
   "metadata": {},
   "outputs": [
    {
     "data": {
      "text/plain": [
       "dtype('O')"
      ]
     },
     "execution_count": 14,
     "metadata": {},
     "output_type": "execute_result"
    }
   ],
   "source": [
    "s.dtype"
   ]
  },
  {
   "cell_type": "code",
   "execution_count": 19,
   "metadata": {},
   "outputs": [
    {
     "data": {
      "text/plain": [
       "0    2.5\n",
       "1    1.2\n",
       "2    3.0\n",
       "dtype: float64"
      ]
     },
     "execution_count": 19,
     "metadata": {},
     "output_type": "execute_result"
    }
   ],
   "source": [
    "prices = [2.5, 1.2, 3.0]\n",
    "s = pd.Series(prices)\n",
    "s"
   ]
  },
  {
   "cell_type": "markdown",
   "metadata": {},
   "source": [
    "## Methods\n",
    "- Methos require parenthesis\n",
    "- Method do some operation. Attributes do nothing."
   ]
  },
  {
   "cell_type": "code",
   "execution_count": 20,
   "metadata": {},
   "outputs": [
    {
     "data": {
      "text/plain": [
       "6.7"
      ]
     },
     "execution_count": 20,
     "metadata": {},
     "output_type": "execute_result"
    }
   ],
   "source": [
    "s.sum()"
   ]
  },
  {
   "cell_type": "code",
   "execution_count": 21,
   "metadata": {},
   "outputs": [
    {
     "data": {
      "text/plain": [
       "9.0"
      ]
     },
     "execution_count": 21,
     "metadata": {},
     "output_type": "execute_result"
    }
   ],
   "source": [
    "s.product()"
   ]
  },
  {
   "cell_type": "code",
   "execution_count": 22,
   "metadata": {},
   "outputs": [
    {
     "data": {
      "text/plain": [
       "2.2333333333333334"
      ]
     },
     "execution_count": 22,
     "metadata": {},
     "output_type": "execute_result"
    }
   ],
   "source": [
    "s.mean()"
   ]
  },
  {
   "cell_type": "markdown",
   "metadata": {},
   "source": [
    "## Params and Arguments\n",
    "- params are variables. arguments are the value that are passed into params."
   ]
  },
  {
   "cell_type": "code",
   "execution_count": 4,
   "metadata": {},
   "outputs": [
    {
     "data": {
      "text/plain": [
       "Mon            Apple\n",
       "Thes          Orange\n",
       "Weds           Grape\n",
       "Thurs      Blueberry\n",
       "Friday    Watermelom\n",
       "dtype: object"
      ]
     },
     "execution_count": 4,
     "metadata": {},
     "output_type": "execute_result"
    }
   ],
   "source": [
    "fruits = [\"Apple\", \"Orange\", \"Grape\", \"Blueberry\", \"Watermelom\"]\n",
    "weekends = [\"Mon\", \"Thes\", \"Weds\", \"Thurs\", \"Friday\"]\n",
    "# Three different way to do the same thing\n",
    "pd.Series(fruits, weekends)\n",
    "pd.Series(index = weekends, data = fruits)\n",
    "pd.Series(fruits, index = weekends)"
   ]
  },
  {
   "cell_type": "code",
   "execution_count": 2,
   "metadata": {},
   "outputs": [],
   "source": [
    "import zipfile\n",
    "zip_ref = zipfile.ZipFile(\"pandas.zip\", 'r')\n",
    "zip_ref.extractall()\n",
    "zip_ref.close()"
   ]
  },
  {
   "cell_type": "markdown",
   "metadata": {},
   "source": [
    "## Data Frame"
   ]
  },
  {
   "cell_type": "code",
   "execution_count": 1,
   "metadata": {},
   "outputs": [],
   "source": [
    "import pandas as pd"
   ]
  },
  {
   "cell_type": "code",
   "execution_count": 14,
   "metadata": {},
   "outputs": [],
   "source": [
    "pokemon = pd.read_csv(\"pokemon.csv\", usecols=[\"Pokemon\"], squeeze=True)\n",
    "# squeese = True turn datafram into panda series object\n",
    "# by usecols we can specify the columns "
   ]
  },
  {
   "cell_type": "code",
   "execution_count": 15,
   "metadata": {},
   "outputs": [],
   "source": [
    "google= pd.read_csv(\"google_stock_price.csv\", squeeze= True)"
   ]
  },
  {
   "cell_type": "code",
   "execution_count": 18,
   "metadata": {},
   "outputs": [
    {
     "data": {
      "text/plain": [
       "0     Bulbasaur\n",
       "1       Ivysaur\n",
       "2      Venusaur\n",
       "3    Charmander\n",
       "4    Charmeleon\n",
       "Name: Pokemon, dtype: object"
      ]
     },
     "execution_count": 18,
     "metadata": {},
     "output_type": "execute_result"
    }
   ],
   "source": [
    "pokemon.head(5)"
   ]
  },
  {
   "cell_type": "code",
   "execution_count": 21,
   "metadata": {},
   "outputs": [
    {
     "data": {
      "text/plain": [
       "3007    772.88\n",
       "3008    771.07\n",
       "3009    773.18\n",
       "3010    771.61\n",
       "3011    782.22\n",
       "Name: Stock Price, dtype: float64"
      ]
     },
     "execution_count": 21,
     "metadata": {},
     "output_type": "execute_result"
    }
   ],
   "source": [
    "google.tail(5)"
   ]
  },
  {
   "cell_type": "code",
   "execution_count": 22,
   "metadata": {},
   "outputs": [
    {
     "data": {
      "text/plain": [
       "721"
      ]
     },
     "execution_count": 22,
     "metadata": {},
     "output_type": "execute_result"
    }
   ],
   "source": [
    "len(pokemon)"
   ]
  },
  {
   "cell_type": "code",
   "execution_count": 23,
   "metadata": {},
   "outputs": [
    {
     "data": {
      "text/plain": [
       "3012"
      ]
     },
     "execution_count": 23,
     "metadata": {},
     "output_type": "execute_result"
    }
   ],
   "source": [
    "len(google)"
   ]
  },
  {
   "cell_type": "code",
   "execution_count": 24,
   "metadata": {},
   "outputs": [
    {
     "data": {
      "text/plain": [
       "pandas.core.series.Series"
      ]
     },
     "execution_count": 24,
     "metadata": {},
     "output_type": "execute_result"
    }
   ],
   "source": [
    "type(google)"
   ]
  },
  {
   "cell_type": "code",
   "execution_count": 26,
   "metadata": {},
   "outputs": [
    {
     "data": {
      "text/plain": [
       "['Abomasnow',\n",
       " 'Abra',\n",
       " 'Absol',\n",
       " 'Accelgor',\n",
       " 'Aegislash',\n",
       " 'Aerodactyl',\n",
       " 'Aggron',\n",
       " 'Aipom',\n",
       " 'Alakazam',\n",
       " 'Alomomola',\n",
       " 'Altaria',\n",
       " 'Amaura',\n",
       " 'Ambipom',\n",
       " 'Amoonguss',\n",
       " 'Ampharos',\n",
       " 'Anorith',\n",
       " 'Arbok',\n",
       " 'Arcanine',\n",
       " 'Arceus',\n",
       " 'Archen',\n",
       " 'Archeops',\n",
       " 'Ariados',\n",
       " 'Armaldo',\n",
       " 'Aromatisse',\n",
       " 'Aron',\n",
       " 'Articuno',\n",
       " 'Audino',\n",
       " 'Aurorus',\n",
       " 'Avalugg',\n",
       " 'Axew',\n",
       " 'Azelf',\n",
       " 'Azumarill',\n",
       " 'Azurill',\n",
       " 'Bagon',\n",
       " 'Baltoy',\n",
       " 'Banette',\n",
       " 'Barbaracle',\n",
       " 'Barboach',\n",
       " 'Basculin',\n",
       " 'Bastiodon',\n",
       " 'Bayleef',\n",
       " 'Beartic',\n",
       " 'Beautifly',\n",
       " 'Beedrill',\n",
       " 'Beheeyem',\n",
       " 'Beldum',\n",
       " 'Bellossom',\n",
       " 'Bellsprout',\n",
       " 'Bergmite',\n",
       " 'Bibarel',\n",
       " 'Bidoof',\n",
       " 'Binacle',\n",
       " 'Bisharp',\n",
       " 'Blastoise',\n",
       " 'Blaziken',\n",
       " 'Blissey',\n",
       " 'Blitzle',\n",
       " 'Boldore',\n",
       " 'Bonsly',\n",
       " 'Bouffalant',\n",
       " 'Braixen',\n",
       " 'Braviary',\n",
       " 'Breloom',\n",
       " 'Bronzong',\n",
       " 'Bronzor',\n",
       " 'Budew',\n",
       " 'Buizel',\n",
       " 'Bulbasaur',\n",
       " 'Buneary',\n",
       " 'Bunnelby',\n",
       " 'Burmy',\n",
       " 'Butterfree',\n",
       " 'Cacnea',\n",
       " 'Cacturne',\n",
       " 'Camerupt',\n",
       " 'Carbink',\n",
       " 'Carnivine',\n",
       " 'Carracosta',\n",
       " 'Carvanha',\n",
       " 'Cascoon',\n",
       " 'Castform',\n",
       " 'Caterpie',\n",
       " 'Celebi',\n",
       " 'Chandelure',\n",
       " 'Chansey',\n",
       " 'Charizard',\n",
       " 'Charmander',\n",
       " 'Charmeleon',\n",
       " 'Chatot',\n",
       " 'Cherrim',\n",
       " 'Cherubi',\n",
       " 'Chesnaught',\n",
       " 'Chespin',\n",
       " 'Chikorita',\n",
       " 'Chimchar',\n",
       " 'Chimecho',\n",
       " 'Chinchou',\n",
       " 'Chingling',\n",
       " 'Cinccino',\n",
       " 'Clamperl',\n",
       " 'Clauncher',\n",
       " 'Clawitzer',\n",
       " 'Claydol',\n",
       " 'Clefable',\n",
       " 'Clefairy',\n",
       " 'Cleffa',\n",
       " 'Cloyster',\n",
       " 'Cobalion',\n",
       " 'Cofagrigus',\n",
       " 'Combee',\n",
       " 'Combusken',\n",
       " 'Conkeldurr',\n",
       " 'Corphish',\n",
       " 'Corsola',\n",
       " 'Cottonee',\n",
       " 'Cradily',\n",
       " 'Cranidos',\n",
       " 'Crawdaunt',\n",
       " 'Cresselia',\n",
       " 'Croagunk',\n",
       " 'Crobat',\n",
       " 'Croconaw',\n",
       " 'Crustle',\n",
       " 'Cryogonal',\n",
       " 'Cubchoo',\n",
       " 'Cubone',\n",
       " 'Cyndaquil',\n",
       " 'Darkrai',\n",
       " 'Darmanitan',\n",
       " 'Darumaka',\n",
       " 'Dedenne',\n",
       " 'Deerling',\n",
       " 'Deino',\n",
       " 'Delcatty',\n",
       " 'Delibird',\n",
       " 'Delphox',\n",
       " 'Deoxys',\n",
       " 'Dewgong',\n",
       " 'Dewott',\n",
       " 'Dialga',\n",
       " 'Diancie',\n",
       " 'Diggersby',\n",
       " 'Diglett',\n",
       " 'Ditto',\n",
       " 'Dodrio',\n",
       " 'Doduo',\n",
       " 'Donphan',\n",
       " 'Doublade',\n",
       " 'Dragalge',\n",
       " 'Dragonair',\n",
       " 'Dragonite',\n",
       " 'Drapion',\n",
       " 'Dratini',\n",
       " 'Drifblim',\n",
       " 'Drifloon',\n",
       " 'Drilbur',\n",
       " 'Drowzee',\n",
       " 'Druddigon',\n",
       " 'Ducklett',\n",
       " 'Dugtrio',\n",
       " 'Dunsparce',\n",
       " 'Duosion',\n",
       " 'Durant',\n",
       " 'Dusclops',\n",
       " 'Dusknoir',\n",
       " 'Duskull',\n",
       " 'Dustox',\n",
       " 'Dwebble',\n",
       " 'Eelektrik',\n",
       " 'Eelektross',\n",
       " 'Eevee',\n",
       " 'Ekans',\n",
       " 'Electabuzz',\n",
       " 'Electivire',\n",
       " 'Electrike',\n",
       " 'Electrode',\n",
       " 'Elekid',\n",
       " 'Elgyem',\n",
       " 'Emboar',\n",
       " 'Emolga',\n",
       " 'Empoleon',\n",
       " 'Entei',\n",
       " 'Escavalier',\n",
       " 'Espeon',\n",
       " 'Espurr',\n",
       " 'Excadrill',\n",
       " 'Exeggcute',\n",
       " 'Exeggutor',\n",
       " 'Exploud',\n",
       " \"Farfetch'd\",\n",
       " 'Fearow',\n",
       " 'Feebas',\n",
       " 'Fennekin',\n",
       " 'Feraligatr',\n",
       " 'Ferroseed',\n",
       " 'Ferrothorn',\n",
       " 'Finneon',\n",
       " 'Flaaffy',\n",
       " 'Flabébé',\n",
       " 'Flareon',\n",
       " 'Fletchinder',\n",
       " 'Fletchling',\n",
       " 'Floatzel',\n",
       " 'Floette',\n",
       " 'Florges',\n",
       " 'Flygon',\n",
       " 'Foongus',\n",
       " 'Forretress',\n",
       " 'Fraxure',\n",
       " 'Frillish',\n",
       " 'Froakie',\n",
       " 'Frogadier',\n",
       " 'Froslass',\n",
       " 'Furfrou',\n",
       " 'Furret',\n",
       " 'Gabite',\n",
       " 'Gallade',\n",
       " 'Galvantula',\n",
       " 'Garbodor',\n",
       " 'Garchomp',\n",
       " 'Gardevoir',\n",
       " 'Gastly',\n",
       " 'Gastrodon',\n",
       " 'Genesect',\n",
       " 'Gengar',\n",
       " 'Geodude',\n",
       " 'Gible',\n",
       " 'Gigalith',\n",
       " 'Girafarig',\n",
       " 'Giratina',\n",
       " 'Glaceon',\n",
       " 'Glalie',\n",
       " 'Glameow',\n",
       " 'Gligar',\n",
       " 'Gliscor',\n",
       " 'Gloom',\n",
       " 'Gogoat',\n",
       " 'Golbat',\n",
       " 'Goldeen',\n",
       " 'Golduck',\n",
       " 'Golem',\n",
       " 'Golett',\n",
       " 'Golurk',\n",
       " 'Goodra',\n",
       " 'Goomy',\n",
       " 'Gorebyss',\n",
       " 'Gothita',\n",
       " 'Gothitelle',\n",
       " 'Gothorita',\n",
       " 'Gourgeist',\n",
       " 'Granbull',\n",
       " 'Graveler',\n",
       " 'Greninja',\n",
       " 'Grimer',\n",
       " 'Grotle',\n",
       " 'Groudon',\n",
       " 'Grovyle',\n",
       " 'Growlithe',\n",
       " 'Grumpig',\n",
       " 'Gulpin',\n",
       " 'Gurdurr',\n",
       " 'Gyarados',\n",
       " 'Happiny',\n",
       " 'Hariyama',\n",
       " 'Haunter',\n",
       " 'Hawlucha',\n",
       " 'Haxorus',\n",
       " 'Heatmor',\n",
       " 'Heatran',\n",
       " 'Heliolisk',\n",
       " 'Helioptile',\n",
       " 'Heracross',\n",
       " 'Herdier',\n",
       " 'Hippopotas',\n",
       " 'Hippowdon',\n",
       " 'Hitmonchan',\n",
       " 'Hitmonlee',\n",
       " 'Hitmontop',\n",
       " 'Ho-oh',\n",
       " 'Honchkrow',\n",
       " 'Honedge',\n",
       " 'Hoopa',\n",
       " 'Hoothoot',\n",
       " 'Hoppip',\n",
       " 'Horsea',\n",
       " 'Houndoom',\n",
       " 'Houndour',\n",
       " 'Huntail',\n",
       " 'Hydreigon',\n",
       " 'Hypno',\n",
       " 'Igglybuff',\n",
       " 'Illumise',\n",
       " 'Infernape',\n",
       " 'Inkay',\n",
       " 'Ivysaur',\n",
       " 'Jellicent',\n",
       " 'Jigglypuff',\n",
       " 'Jirachi',\n",
       " 'Jolteon',\n",
       " 'Joltik',\n",
       " 'Jumpluff',\n",
       " 'Jynx',\n",
       " 'Kabuto',\n",
       " 'Kabutops',\n",
       " 'Kadabra',\n",
       " 'Kakuna',\n",
       " 'Kangaskhan',\n",
       " 'Karrablast',\n",
       " 'Kecleon',\n",
       " 'Keldeo',\n",
       " 'Kingdra',\n",
       " 'Kingler',\n",
       " 'Kirlia',\n",
       " 'Klang',\n",
       " 'Klefki',\n",
       " 'Klink',\n",
       " 'Klinklang',\n",
       " 'Koffing',\n",
       " 'Krabby',\n",
       " 'Kricketot',\n",
       " 'Kricketune',\n",
       " 'Krokorok',\n",
       " 'Krookodile',\n",
       " 'Kyogre',\n",
       " 'Kyurem',\n",
       " 'Lairon',\n",
       " 'Lampent',\n",
       " 'Landorus',\n",
       " 'Lanturn',\n",
       " 'Lapras',\n",
       " 'Larvesta',\n",
       " 'Larvitar',\n",
       " 'Latias',\n",
       " 'Latios',\n",
       " 'Leafeon',\n",
       " 'Leavanny',\n",
       " 'Ledian',\n",
       " 'Ledyba',\n",
       " 'Lickilicky',\n",
       " 'Lickitung',\n",
       " 'Liepard',\n",
       " 'Lileep',\n",
       " 'Lilligant',\n",
       " 'Lillipup',\n",
       " 'Linoone',\n",
       " 'Litleo',\n",
       " 'Litwick',\n",
       " 'Lombre',\n",
       " 'Lopunny',\n",
       " 'Lotad',\n",
       " 'Loudred',\n",
       " 'Lucario',\n",
       " 'Ludicolo',\n",
       " 'Lugia',\n",
       " 'Lumineon',\n",
       " 'Lunatone',\n",
       " 'Luvdisc',\n",
       " 'Luxio',\n",
       " 'Luxray',\n",
       " 'Machamp',\n",
       " 'Machoke',\n",
       " 'Machop',\n",
       " 'Magby',\n",
       " 'Magcargo',\n",
       " 'Magikarp',\n",
       " 'Magmar',\n",
       " 'Magmortar',\n",
       " 'Magnemite',\n",
       " 'Magneton',\n",
       " 'Magnezone',\n",
       " 'Makuhita',\n",
       " 'Malamar',\n",
       " 'Mamoswine',\n",
       " 'Manaphy',\n",
       " 'Mandibuzz',\n",
       " 'Manectric',\n",
       " 'Mankey',\n",
       " 'Mantine',\n",
       " 'Mantyke',\n",
       " 'Maractus',\n",
       " 'Mareep',\n",
       " 'Marill',\n",
       " 'Marowak',\n",
       " 'Marshtomp',\n",
       " 'Masquerain',\n",
       " 'Mawile',\n",
       " 'Medicham',\n",
       " 'Meditite',\n",
       " 'Meganium',\n",
       " 'Meloetta',\n",
       " 'Meowstic',\n",
       " 'Meowth',\n",
       " 'Mesprit',\n",
       " 'Metagross',\n",
       " 'Metang',\n",
       " 'Metapod',\n",
       " 'Mew',\n",
       " 'Mewtwo',\n",
       " 'Mienfoo',\n",
       " 'Mienshao',\n",
       " 'Mightyena',\n",
       " 'Milotic',\n",
       " 'Miltank',\n",
       " 'Mime Jr.',\n",
       " 'Minccino',\n",
       " 'Minun',\n",
       " 'Misdreavus',\n",
       " 'Mismagius',\n",
       " 'Moltres',\n",
       " 'Monferno',\n",
       " 'Mothim',\n",
       " 'Mr. Mime',\n",
       " 'Mudkip',\n",
       " 'Muk',\n",
       " 'Munchlax',\n",
       " 'Munna',\n",
       " 'Murkrow',\n",
       " 'Musharna',\n",
       " 'Natu',\n",
       " 'Nidoking',\n",
       " 'Nidoqueen',\n",
       " 'Nidoran',\n",
       " 'Nidoran♂',\n",
       " 'Nidorina',\n",
       " 'Nidorino',\n",
       " 'Nincada',\n",
       " 'Ninetales',\n",
       " 'Ninjask',\n",
       " 'Noctowl',\n",
       " 'Noibat',\n",
       " 'Noivern',\n",
       " 'Nosepass',\n",
       " 'Numel',\n",
       " 'Nuzleaf',\n",
       " 'Octillery',\n",
       " 'Oddish',\n",
       " 'Omanyte',\n",
       " 'Omastar',\n",
       " 'Onix',\n",
       " 'Oshawott',\n",
       " 'Pachirisu',\n",
       " 'Palkia',\n",
       " 'Palpitoad',\n",
       " 'Pancham',\n",
       " 'Pangoro',\n",
       " 'Panpour',\n",
       " 'Pansage',\n",
       " 'Pansear',\n",
       " 'Paras',\n",
       " 'Parasect',\n",
       " 'Patrat',\n",
       " 'Pawniard',\n",
       " 'Pelipper',\n",
       " 'Persian',\n",
       " 'Petilil',\n",
       " 'Phanpy',\n",
       " 'Phantump',\n",
       " 'Phione',\n",
       " 'Pichu',\n",
       " 'Pidgeot',\n",
       " 'Pidgeotto',\n",
       " 'Pidgey',\n",
       " 'Pidove',\n",
       " 'Pignite',\n",
       " 'Pikachu',\n",
       " 'Piloswine',\n",
       " 'Pineco',\n",
       " 'Pinsir',\n",
       " 'Piplup',\n",
       " 'Plusle',\n",
       " 'Politoed',\n",
       " 'Poliwag',\n",
       " 'Poliwhirl',\n",
       " 'Poliwrath',\n",
       " 'Ponyta',\n",
       " 'Poochyena',\n",
       " 'Porygon',\n",
       " 'Porygon-Z',\n",
       " 'Porygon2',\n",
       " 'Primeape',\n",
       " 'Prinplup',\n",
       " 'Probopass',\n",
       " 'Psyduck',\n",
       " 'Pumpkaboo',\n",
       " 'Pupitar',\n",
       " 'Purrloin',\n",
       " 'Purugly',\n",
       " 'Pyroar',\n",
       " 'Quagsire',\n",
       " 'Quilava',\n",
       " 'Quilladin',\n",
       " 'Qwilfish',\n",
       " 'Raichu',\n",
       " 'Raikou',\n",
       " 'Ralts',\n",
       " 'Rampardos',\n",
       " 'Rapidash',\n",
       " 'Raticate',\n",
       " 'Rattata',\n",
       " 'Rayquaza',\n",
       " 'Regice',\n",
       " 'Regigigas',\n",
       " 'Regirock',\n",
       " 'Registeel',\n",
       " 'Relicanth',\n",
       " 'Remoraid',\n",
       " 'Reshiram',\n",
       " 'Reuniclus',\n",
       " 'Rhydon',\n",
       " 'Rhyhorn',\n",
       " 'Rhyperior',\n",
       " 'Riolu',\n",
       " 'Roggenrola',\n",
       " 'Roselia',\n",
       " 'Roserade',\n",
       " 'Rotom',\n",
       " 'Rufflet',\n",
       " 'Sableye',\n",
       " 'Salamence',\n",
       " 'Samurott',\n",
       " 'Sandile',\n",
       " 'Sandshrew',\n",
       " 'Sandslash',\n",
       " 'Sawk',\n",
       " 'Sawsbuck',\n",
       " 'Scatterbug',\n",
       " 'Sceptile',\n",
       " 'Scizor',\n",
       " 'Scolipede',\n",
       " 'Scrafty',\n",
       " 'Scraggy',\n",
       " 'Scyther',\n",
       " 'Seadra',\n",
       " 'Seaking',\n",
       " 'Sealeo',\n",
       " 'Seedot',\n",
       " 'Seel',\n",
       " 'Seismitoad',\n",
       " 'Sentret',\n",
       " 'Serperior',\n",
       " 'Servine',\n",
       " 'Seviper',\n",
       " 'Sewaddle',\n",
       " 'Sharpedo',\n",
       " 'Shaymin',\n",
       " 'Shedinja',\n",
       " 'Shelgon',\n",
       " 'Shellder',\n",
       " 'Shellos',\n",
       " 'Shelmet',\n",
       " 'Shieldon',\n",
       " 'Shiftry',\n",
       " 'Shinx',\n",
       " 'Shroomish',\n",
       " 'Shuckle',\n",
       " 'Shuppet',\n",
       " 'Sigilyph',\n",
       " 'Silcoon',\n",
       " 'Simipour',\n",
       " 'Simisage',\n",
       " 'Simisear',\n",
       " 'Skarmory',\n",
       " 'Skiddo',\n",
       " 'Skiploom',\n",
       " 'Skitty',\n",
       " 'Skorupi',\n",
       " 'Skrelp',\n",
       " 'Skuntank',\n",
       " 'Slaking',\n",
       " 'Slakoth',\n",
       " 'Sliggoo',\n",
       " 'Slowbro',\n",
       " 'Slowking',\n",
       " 'Slowpoke',\n",
       " 'Slugma',\n",
       " 'Slurpuff',\n",
       " 'Smeargle',\n",
       " 'Smoochum',\n",
       " 'Sneasel',\n",
       " 'Snivy',\n",
       " 'Snorlax',\n",
       " 'Snorunt',\n",
       " 'Snover',\n",
       " 'Snubbull',\n",
       " 'Solosis',\n",
       " 'Solrock',\n",
       " 'Spearow',\n",
       " 'Spewpa',\n",
       " 'Spheal',\n",
       " 'Spinarak',\n",
       " 'Spinda',\n",
       " 'Spiritomb',\n",
       " 'Spoink',\n",
       " 'Spritzee',\n",
       " 'Squirtle',\n",
       " 'Stantler',\n",
       " 'Staraptor',\n",
       " 'Staravia',\n",
       " 'Starly',\n",
       " 'Starmie',\n",
       " 'Staryu',\n",
       " 'Steelix',\n",
       " 'Stoutland',\n",
       " 'Stunfisk',\n",
       " 'Stunky',\n",
       " 'Sudowoodo',\n",
       " 'Suicune',\n",
       " 'Sunflora',\n",
       " 'Sunkern',\n",
       " 'Surskit',\n",
       " 'Swablu',\n",
       " 'Swadloon',\n",
       " 'Swalot',\n",
       " 'Swampert',\n",
       " 'Swanna',\n",
       " 'Swellow',\n",
       " 'Swinub',\n",
       " 'Swirlix',\n",
       " 'Swoobat',\n",
       " 'Sylveon',\n",
       " 'Taillow',\n",
       " 'Talonflame',\n",
       " 'Tangela',\n",
       " 'Tangrowth',\n",
       " 'Tauros',\n",
       " 'Teddiursa',\n",
       " 'Tentacool',\n",
       " 'Tentacruel',\n",
       " 'Tepig',\n",
       " 'Terrakion',\n",
       " 'Throh',\n",
       " 'Thundurus',\n",
       " 'Timburr',\n",
       " 'Tirtouga',\n",
       " 'Togekiss',\n",
       " 'Togepi',\n",
       " 'Togetic',\n",
       " 'Torchic',\n",
       " 'Torkoal',\n",
       " 'Tornadus',\n",
       " 'Torterra',\n",
       " 'Totodile',\n",
       " 'Toxicroak',\n",
       " 'Tranquill',\n",
       " 'Trapinch',\n",
       " 'Treecko',\n",
       " 'Trevenant',\n",
       " 'Tropius',\n",
       " 'Trubbish',\n",
       " 'Turtwig',\n",
       " 'Tympole',\n",
       " 'Tynamo',\n",
       " 'Typhlosion',\n",
       " 'Tyranitar',\n",
       " 'Tyrantrum',\n",
       " 'Tyrogue',\n",
       " 'Tyrunt',\n",
       " 'Umbreon',\n",
       " 'Unfezant',\n",
       " 'Unown',\n",
       " 'Ursaring',\n",
       " 'Uxie',\n",
       " 'Vanillish',\n",
       " 'Vanillite',\n",
       " 'Vanilluxe',\n",
       " 'Vaporeon',\n",
       " 'Venipede',\n",
       " 'Venomoth',\n",
       " 'Venonat',\n",
       " 'Venusaur',\n",
       " 'Vespiquen',\n",
       " 'Vibrava',\n",
       " 'Victini',\n",
       " 'Victreebel',\n",
       " 'Vigoroth',\n",
       " 'Vileplume',\n",
       " 'Virizion',\n",
       " 'Vivillon',\n",
       " 'Volbeat',\n",
       " 'Volcanion',\n",
       " 'Volcarona',\n",
       " 'Voltorb',\n",
       " 'Vullaby',\n",
       " 'Vulpix',\n",
       " 'Wailmer',\n",
       " 'Wailord',\n",
       " 'Walrein',\n",
       " 'Wartortle',\n",
       " 'Watchog',\n",
       " 'Weavile',\n",
       " 'Weedle',\n",
       " 'Weepinbell',\n",
       " 'Weezing',\n",
       " 'Whimsicott',\n",
       " 'Whirlipede',\n",
       " 'Whiscash',\n",
       " 'Whismur',\n",
       " 'Wigglytuff',\n",
       " 'Wingull',\n",
       " 'Wobbuffet',\n",
       " 'Woobat',\n",
       " 'Wooper',\n",
       " 'Wormadam',\n",
       " 'Wurmple',\n",
       " 'Wynaut',\n",
       " 'Xatu',\n",
       " 'Xerneas',\n",
       " 'Yamask',\n",
       " 'Yanma',\n",
       " 'Yanmega',\n",
       " 'Yveltal',\n",
       " 'Zangoose',\n",
       " 'Zapdos',\n",
       " 'Zebstrika',\n",
       " 'Zekrom',\n",
       " 'Zigzagoon',\n",
       " 'Zoroark',\n",
       " 'Zorua',\n",
       " 'Zubat',\n",
       " 'Zweilous',\n",
       " 'Zygarde']"
      ]
     },
     "execution_count": 26,
     "metadata": {},
     "output_type": "execute_result"
    }
   ],
   "source": [
    "sorted(pokemon)"
   ]
  },
  {
   "cell_type": "code",
   "execution_count": 25,
   "metadata": {},
   "outputs": [],
   "source": [
    "pokemon = pd.read_csv('pokemon.csv', usecols=['Pokemon'], squeeze=True)"
   ]
  },
  {
   "cell_type": "code",
   "execution_count": 6,
   "metadata": {},
   "outputs": [
    {
     "data": {
      "text/plain": [
       "459    Abomasnow\n",
       "62          Abra\n",
       "358        Absol\n",
       "616     Accelgor\n",
       "680    Aegislash\n",
       "Name: Pokemon, dtype: object"
      ]
     },
     "execution_count": 6,
     "metadata": {},
     "output_type": "execute_result"
    }
   ],
   "source": [
    "pokemon.sort_values().head()"
   ]
  },
  {
   "cell_type": "code",
   "execution_count": 7,
   "metadata": {},
   "outputs": [
    {
     "data": {
      "text/plain": [
       "459    Abomasnow\n",
       "62          Abra\n",
       "358        Absol\n",
       "616     Accelgor\n",
       "680    Aegislash\n",
       "Name: Pokemon, dtype: object"
      ]
     },
     "execution_count": 7,
     "metadata": {},
     "output_type": "execute_result"
    }
   ],
   "source": [
    "pokemon.sort_values(ascending = True).head()"
   ]
  },
  {
   "cell_type": "code",
   "execution_count": 9,
   "metadata": {},
   "outputs": [
    {
     "data": {
      "text/plain": [
       "680    Aegislash\n",
       "616     Accelgor\n",
       "358        Absol\n",
       "62          Abra\n",
       "459    Abomasnow\n",
       "Name: Pokemon, dtype: object"
      ]
     },
     "execution_count": 9,
     "metadata": {},
     "output_type": "execute_result"
    }
   ],
   "source": [
    "pokemon.sort_values(ascending = False).tail()"
   ]
  },
  {
   "cell_type": "code",
   "execution_count": 10,
   "metadata": {},
   "outputs": [],
   "source": [
    "#google= pd.read_csv(\"google_stock_price.csv\", squeeze= True)\n",
    "google = pd.read_csv(\"google_stock_price.csv\", squeeze = True)"
   ]
  },
  {
   "cell_type": "code",
   "execution_count": 15,
   "metadata": {},
   "outputs": [
    {
     "data": {
      "text/plain": [
       "3011    782.22\n",
       "Name: Stock Price, dtype: float64"
      ]
     },
     "execution_count": 15,
     "metadata": {},
     "output_type": "execute_result"
    }
   ],
   "source": [
    "google.sort_values(ascending = False).head(1)"
   ]
  },
  {
   "cell_type": "code",
   "execution_count": 17,
   "metadata": {},
   "outputs": [
    {
     "data": {
      "text/plain": [
       "0    50.12\n",
       "1    54.10\n",
       "2    54.65\n",
       "Name: Stock Price, dtype: float64"
      ]
     },
     "execution_count": 17,
     "metadata": {},
     "output_type": "execute_result"
    }
   ],
   "source": [
    "google.head(3)"
   ]
  },
  {
   "cell_type": "code",
   "execution_count": 19,
   "metadata": {},
   "outputs": [],
   "source": [
    "google = google.sort_values()"
   ]
  },
  {
   "cell_type": "code",
   "execution_count": 20,
   "metadata": {},
   "outputs": [
    {
     "data": {
      "text/plain": [
       "11    49.95\n",
       "9     50.07\n",
       "0     50.12\n",
       "10    50.70\n",
       "12    50.74\n",
       "Name: Stock Price, dtype: float64"
      ]
     },
     "execution_count": 20,
     "metadata": {},
     "output_type": "execute_result"
    }
   ],
   "source": [
    "google.head()"
   ]
  },
  {
   "cell_type": "markdown",
   "metadata": {},
   "source": [
    "## Overwright serieis by：　inplace = True"
   ]
  },
  {
   "cell_type": "code",
   "execution_count": 23,
   "metadata": {},
   "outputs": [],
   "source": [
    "google.sort_values(ascending = False, inplace = True) "
   ]
  },
  {
   "cell_type": "code",
   "execution_count": 24,
   "metadata": {},
   "outputs": [
    {
     "data": {
      "text/plain": [
       "3011    782.22\n",
       "2859    776.60\n",
       "3009    773.18\n",
       "3007    772.88\n",
       "3010    771.61\n",
       "Name: Stock Price, dtype: float64"
      ]
     },
     "execution_count": 24,
     "metadata": {},
     "output_type": "execute_result"
    }
   ],
   "source": [
    "google.head()"
   ]
  },
  {
   "cell_type": "code",
   "execution_count": 27,
   "metadata": {},
   "outputs": [],
   "source": [
    "pokemon.sort_values(ascending = False, inplace = True)"
   ]
  },
  {
   "cell_type": "code",
   "execution_count": 35,
   "metadata": {},
   "outputs": [
    {
     "data": {
      "text/plain": [
       "0     Bulbasaur\n",
       "1       Ivysaur\n",
       "2      Venusaur\n",
       "3    Charmander\n",
       "4    Charmeleon\n",
       "Name: Pokemon, dtype: object"
      ]
     },
     "execution_count": 35,
     "metadata": {},
     "output_type": "execute_result"
    }
   ],
   "source": [
    "pokemon.head()"
   ]
  },
  {
   "cell_type": "code",
   "execution_count": 34,
   "metadata": {},
   "outputs": [],
   "source": [
    "pokemon.sort_index(ascending = True, inplace = True)"
   ]
  },
  {
   "cell_type": "markdown",
   "metadata": {},
   "source": [
    "## In keyword"
   ]
  },
  {
   "cell_type": "code",
   "execution_count": 46,
   "metadata": {},
   "outputs": [],
   "source": [
    "pokemon = pd.read_csv(\"pokemon.csv\", usecols=[\"Pokemon\"], squeeze=True)\n",
    "# squeese = True turn datafram into panda series object\n",
    "# by usecols we can specify the columns \n",
    "google= pd.read_csv(\"google_stock_price.csv\", squeeze= True)"
   ]
  },
  {
   "cell_type": "code",
   "execution_count": 39,
   "metadata": {},
   "outputs": [
    {
     "data": {
      "text/plain": [
       "False"
      ]
     },
     "execution_count": 39,
     "metadata": {},
     "output_type": "execute_result"
    }
   ],
   "source": [
    "100 in [1, 2, 3, 4, 5]"
   ]
  },
  {
   "cell_type": "code",
   "execution_count": 40,
   "metadata": {},
   "outputs": [
    {
     "data": {
      "text/plain": [
       "0     Bulbasaur\n",
       "1       Ivysaur\n",
       "2      Venusaur\n",
       "3    Charmander\n",
       "4    Charmeleon\n",
       "Name: Pokemon, dtype: object"
      ]
     },
     "execution_count": 40,
     "metadata": {},
     "output_type": "execute_result"
    }
   ],
   "source": [
    "pokemon.head()"
   ]
  },
  {
   "cell_type": "code",
   "execution_count": 41,
   "metadata": {},
   "outputs": [
    {
     "data": {
      "text/plain": [
       "False"
      ]
     },
     "execution_count": 41,
     "metadata": {},
     "output_type": "execute_result"
    }
   ],
   "source": [
    "\"Ivysaur\" in pokemon"
   ]
  },
  {
   "cell_type": "code",
   "execution_count": 42,
   "metadata": {},
   "outputs": [
    {
     "data": {
      "text/plain": [
       "True"
      ]
     },
     "execution_count": 42,
     "metadata": {},
     "output_type": "execute_result"
    }
   ],
   "source": [
    "100 in pokemon"
   ]
  },
  {
   "cell_type": "code",
   "execution_count": 43,
   "metadata": {},
   "outputs": [
    {
     "data": {
      "text/plain": [
       "True"
      ]
     },
     "execution_count": 43,
     "metadata": {},
     "output_type": "execute_result"
    }
   ],
   "source": [
    "100 in pokemon.index"
   ]
  },
  {
   "cell_type": "code",
   "execution_count": 44,
   "metadata": {},
   "outputs": [
    {
     "data": {
      "text/plain": [
       "RangeIndex(start=0, stop=721, step=1)"
      ]
     },
     "execution_count": 44,
     "metadata": {},
     "output_type": "execute_result"
    }
   ],
   "source": [
    "pokemon.index"
   ]
  },
  {
   "cell_type": "code",
   "execution_count": 45,
   "metadata": {},
   "outputs": [
    {
     "data": {
      "text/plain": [
       "True"
      ]
     },
     "execution_count": 45,
     "metadata": {},
     "output_type": "execute_result"
    }
   ],
   "source": [
    "\"Ivysaur\" in pokemon.values"
   ]
  },
  {
   "cell_type": "markdown",
   "metadata": {},
   "source": [
    "## Extract Values\n",
    "\n",
    "You can do as same as you do in list operation"
   ]
  },
  {
   "cell_type": "code",
   "execution_count": 59,
   "metadata": {},
   "outputs": [
    {
     "data": {
      "text/plain": [
       "0     Bulbasaur\n",
       "1       Ivysaur\n",
       "2      Venusaur\n",
       "3    Charmander\n",
       "4    Charmeleon\n",
       "Name: Pokemon, dtype: object"
      ]
     },
     "execution_count": 59,
     "metadata": {},
     "output_type": "execute_result"
    }
   ],
   "source": [
    "pokemon.head()"
   ]
  },
  {
   "cell_type": "code",
   "execution_count": 49,
   "metadata": {},
   "outputs": [
    {
     "data": {
      "text/plain": [
       "'Ivysaur'"
      ]
     },
     "execution_count": 49,
     "metadata": {},
     "output_type": "execute_result"
    }
   ],
   "source": [
    "pokemon[1]"
   ]
  },
  {
   "cell_type": "code",
   "execution_count": 51,
   "metadata": {},
   "outputs": [
    {
     "data": {
      "text/plain": [
       "100    Electrode\n",
       "200        Unown\n",
       "300     Delcatty\n",
       "Name: Pokemon, dtype: object"
      ]
     },
     "execution_count": 51,
     "metadata": {},
     "output_type": "execute_result"
    }
   ],
   "source": [
    "pokemon[[100,200,300]] #This is a new series"
   ]
  },
  {
   "cell_type": "code",
   "execution_count": 53,
   "metadata": {},
   "outputs": [
    {
     "data": {
      "text/plain": [
       "10       Metapod\n",
       "11    Butterfree\n",
       "12        Weedle\n",
       "13        Kakuna\n",
       "14      Beedrill\n",
       "15        Pidgey\n",
       "16     Pidgeotto\n",
       "17       Pidgeot\n",
       "18       Rattata\n",
       "19      Raticate\n",
       "20       Spearow\n",
       "Name: Pokemon, dtype: object"
      ]
     },
     "execution_count": 53,
     "metadata": {},
     "output_type": "execute_result"
    }
   ],
   "source": [
    "pokemon[10:21]"
   ]
  },
  {
   "cell_type": "code",
   "execution_count": 54,
   "metadata": {},
   "outputs": [
    {
     "data": {
      "text/plain": [
       "0      Bulbasaur\n",
       "1        Ivysaur\n",
       "2       Venusaur\n",
       "3     Charmander\n",
       "4     Charmeleon\n",
       "5      Charizard\n",
       "6       Squirtle\n",
       "7      Wartortle\n",
       "8      Blastoise\n",
       "9       Caterpie\n",
       "10       Metapod\n",
       "Name: Pokemon, dtype: object"
      ]
     },
     "execution_count": 54,
     "metadata": {},
     "output_type": "execute_result"
    }
   ],
   "source": [
    "pokemon[:11]"
   ]
  },
  {
   "cell_type": "code",
   "execution_count": 55,
   "metadata": {},
   "outputs": [
    {
     "data": {
      "text/plain": [
       "711     Bergmite\n",
       "712      Avalugg\n",
       "713       Noibat\n",
       "714      Noivern\n",
       "715      Xerneas\n",
       "716      Yveltal\n",
       "717      Zygarde\n",
       "718      Diancie\n",
       "719        Hoopa\n",
       "720    Volcanion\n",
       "Name: Pokemon, dtype: object"
      ]
     },
     "execution_count": 55,
     "metadata": {},
     "output_type": "execute_result"
    }
   ],
   "source": [
    "pokemon[-10:]"
   ]
  },
  {
   "cell_type": "code",
   "execution_count": 56,
   "metadata": {},
   "outputs": [
    {
     "data": {
      "text/plain": [
       "711     Bergmite\n",
       "712      Avalugg\n",
       "713       Noibat\n",
       "714      Noivern\n",
       "715      Xerneas\n",
       "716      Yveltal\n",
       "717      Zygarde\n",
       "718      Diancie\n",
       "719        Hoopa\n",
       "720    Volcanion\n",
       "Name: Pokemon, dtype: object"
      ]
     },
     "execution_count": 56,
     "metadata": {},
     "output_type": "execute_result"
    }
   ],
   "source": [
    "pokemon.tail(10)"
   ]
  },
  {
   "cell_type": "code",
   "execution_count": 58,
   "metadata": {},
   "outputs": [
    {
     "data": {
      "text/plain": [
       "711    Bergmite\n",
       "712     Avalugg\n",
       "713      Noibat\n",
       "714     Noivern\n",
       "715     Xerneas\n",
       "Name: Pokemon, dtype: object"
      ]
     },
     "execution_count": 58,
     "metadata": {},
     "output_type": "execute_result"
    }
   ],
   "source": [
    "pokemon[-10:-5]"
   ]
  },
  {
   "cell_type": "markdown",
   "metadata": {},
   "source": [
    "## Extract Values by Index Label"
   ]
  },
  {
   "cell_type": "code",
   "execution_count": 4,
   "metadata": {},
   "outputs": [],
   "source": [
    "import pandas as pd"
   ]
  },
  {
   "cell_type": "code",
   "execution_count": 5,
   "metadata": {},
   "outputs": [
    {
     "data": {
      "text/html": [
       "<div>\n",
       "<style scoped>\n",
       "    .dataframe tbody tr th:only-of-type {\n",
       "        vertical-align: middle;\n",
       "    }\n",
       "\n",
       "    .dataframe tbody tr th {\n",
       "        vertical-align: top;\n",
       "    }\n",
       "\n",
       "    .dataframe thead th {\n",
       "        text-align: right;\n",
       "    }\n",
       "</style>\n",
       "<table border=\"1\" class=\"dataframe\">\n",
       "  <thead>\n",
       "    <tr style=\"text-align: right;\">\n",
       "      <th></th>\n",
       "      <th>Type</th>\n",
       "    </tr>\n",
       "    <tr>\n",
       "      <th>Pokemon</th>\n",
       "      <th></th>\n",
       "    </tr>\n",
       "  </thead>\n",
       "  <tbody>\n",
       "    <tr>\n",
       "      <th>Bulbasaur</th>\n",
       "      <td>Grass</td>\n",
       "    </tr>\n",
       "    <tr>\n",
       "      <th>Ivysaur</th>\n",
       "      <td>Grass</td>\n",
       "    </tr>\n",
       "    <tr>\n",
       "      <th>Venusaur</th>\n",
       "      <td>Grass</td>\n",
       "    </tr>\n",
       "    <tr>\n",
       "      <th>Charmander</th>\n",
       "      <td>Fire</td>\n",
       "    </tr>\n",
       "    <tr>\n",
       "      <th>Charmeleon</th>\n",
       "      <td>Fire</td>\n",
       "    </tr>\n",
       "    <tr>\n",
       "      <th>Charizard</th>\n",
       "      <td>Fire</td>\n",
       "    </tr>\n",
       "    <tr>\n",
       "      <th>Squirtle</th>\n",
       "      <td>Water</td>\n",
       "    </tr>\n",
       "    <tr>\n",
       "      <th>Wartortle</th>\n",
       "      <td>Water</td>\n",
       "    </tr>\n",
       "    <tr>\n",
       "      <th>Blastoise</th>\n",
       "      <td>Water</td>\n",
       "    </tr>\n",
       "    <tr>\n",
       "      <th>Caterpie</th>\n",
       "      <td>Bug</td>\n",
       "    </tr>\n",
       "    <tr>\n",
       "      <th>Metapod</th>\n",
       "      <td>Bug</td>\n",
       "    </tr>\n",
       "    <tr>\n",
       "      <th>Butterfree</th>\n",
       "      <td>Bug</td>\n",
       "    </tr>\n",
       "    <tr>\n",
       "      <th>Weedle</th>\n",
       "      <td>Bug</td>\n",
       "    </tr>\n",
       "    <tr>\n",
       "      <th>Kakuna</th>\n",
       "      <td>Bug</td>\n",
       "    </tr>\n",
       "    <tr>\n",
       "      <th>Beedrill</th>\n",
       "      <td>Bug</td>\n",
       "    </tr>\n",
       "    <tr>\n",
       "      <th>Pidgey</th>\n",
       "      <td>Normal</td>\n",
       "    </tr>\n",
       "    <tr>\n",
       "      <th>Pidgeotto</th>\n",
       "      <td>Normal</td>\n",
       "    </tr>\n",
       "    <tr>\n",
       "      <th>Pidgeot</th>\n",
       "      <td>Normal</td>\n",
       "    </tr>\n",
       "    <tr>\n",
       "      <th>Rattata</th>\n",
       "      <td>Normal</td>\n",
       "    </tr>\n",
       "    <tr>\n",
       "      <th>Raticate</th>\n",
       "      <td>Normal</td>\n",
       "    </tr>\n",
       "    <tr>\n",
       "      <th>Spearow</th>\n",
       "      <td>Normal</td>\n",
       "    </tr>\n",
       "    <tr>\n",
       "      <th>Fearow</th>\n",
       "      <td>Normal</td>\n",
       "    </tr>\n",
       "    <tr>\n",
       "      <th>Ekans</th>\n",
       "      <td>Poison</td>\n",
       "    </tr>\n",
       "    <tr>\n",
       "      <th>Arbok</th>\n",
       "      <td>Poison</td>\n",
       "    </tr>\n",
       "    <tr>\n",
       "      <th>Pikachu</th>\n",
       "      <td>Electric</td>\n",
       "    </tr>\n",
       "    <tr>\n",
       "      <th>Raichu</th>\n",
       "      <td>Electric</td>\n",
       "    </tr>\n",
       "    <tr>\n",
       "      <th>Sandshrew</th>\n",
       "      <td>Ground</td>\n",
       "    </tr>\n",
       "    <tr>\n",
       "      <th>Sandslash</th>\n",
       "      <td>Ground</td>\n",
       "    </tr>\n",
       "    <tr>\n",
       "      <th>Nidoran</th>\n",
       "      <td>Poison</td>\n",
       "    </tr>\n",
       "    <tr>\n",
       "      <th>Nidorina</th>\n",
       "      <td>Poison</td>\n",
       "    </tr>\n",
       "    <tr>\n",
       "      <th>...</th>\n",
       "      <td>...</td>\n",
       "    </tr>\n",
       "    <tr>\n",
       "      <th>Clauncher</th>\n",
       "      <td>Water</td>\n",
       "    </tr>\n",
       "    <tr>\n",
       "      <th>Clawitzer</th>\n",
       "      <td>Water</td>\n",
       "    </tr>\n",
       "    <tr>\n",
       "      <th>Helioptile</th>\n",
       "      <td>Electric</td>\n",
       "    </tr>\n",
       "    <tr>\n",
       "      <th>Heliolisk</th>\n",
       "      <td>Electric</td>\n",
       "    </tr>\n",
       "    <tr>\n",
       "      <th>Tyrunt</th>\n",
       "      <td>Rock</td>\n",
       "    </tr>\n",
       "    <tr>\n",
       "      <th>Tyrantrum</th>\n",
       "      <td>Rock</td>\n",
       "    </tr>\n",
       "    <tr>\n",
       "      <th>Amaura</th>\n",
       "      <td>Rock</td>\n",
       "    </tr>\n",
       "    <tr>\n",
       "      <th>Aurorus</th>\n",
       "      <td>Rock</td>\n",
       "    </tr>\n",
       "    <tr>\n",
       "      <th>Sylveon</th>\n",
       "      <td>Fairy</td>\n",
       "    </tr>\n",
       "    <tr>\n",
       "      <th>Hawlucha</th>\n",
       "      <td>Fighting</td>\n",
       "    </tr>\n",
       "    <tr>\n",
       "      <th>Dedenne</th>\n",
       "      <td>Electric</td>\n",
       "    </tr>\n",
       "    <tr>\n",
       "      <th>Carbink</th>\n",
       "      <td>Rock</td>\n",
       "    </tr>\n",
       "    <tr>\n",
       "      <th>Goomy</th>\n",
       "      <td>Dragon</td>\n",
       "    </tr>\n",
       "    <tr>\n",
       "      <th>Sliggoo</th>\n",
       "      <td>Dragon</td>\n",
       "    </tr>\n",
       "    <tr>\n",
       "      <th>Goodra</th>\n",
       "      <td>Dragon</td>\n",
       "    </tr>\n",
       "    <tr>\n",
       "      <th>Klefki</th>\n",
       "      <td>Steel</td>\n",
       "    </tr>\n",
       "    <tr>\n",
       "      <th>Phantump</th>\n",
       "      <td>Ghost</td>\n",
       "    </tr>\n",
       "    <tr>\n",
       "      <th>Trevenant</th>\n",
       "      <td>Ghost</td>\n",
       "    </tr>\n",
       "    <tr>\n",
       "      <th>Pumpkaboo</th>\n",
       "      <td>Ghost</td>\n",
       "    </tr>\n",
       "    <tr>\n",
       "      <th>Gourgeist</th>\n",
       "      <td>Ghost</td>\n",
       "    </tr>\n",
       "    <tr>\n",
       "      <th>Bergmite</th>\n",
       "      <td>Ice</td>\n",
       "    </tr>\n",
       "    <tr>\n",
       "      <th>Avalugg</th>\n",
       "      <td>Ice</td>\n",
       "    </tr>\n",
       "    <tr>\n",
       "      <th>Noibat</th>\n",
       "      <td>Flying</td>\n",
       "    </tr>\n",
       "    <tr>\n",
       "      <th>Noivern</th>\n",
       "      <td>Flying</td>\n",
       "    </tr>\n",
       "    <tr>\n",
       "      <th>Xerneas</th>\n",
       "      <td>Fairy</td>\n",
       "    </tr>\n",
       "    <tr>\n",
       "      <th>Yveltal</th>\n",
       "      <td>Dark</td>\n",
       "    </tr>\n",
       "    <tr>\n",
       "      <th>Zygarde</th>\n",
       "      <td>Dragon</td>\n",
       "    </tr>\n",
       "    <tr>\n",
       "      <th>Diancie</th>\n",
       "      <td>Rock</td>\n",
       "    </tr>\n",
       "    <tr>\n",
       "      <th>Hoopa</th>\n",
       "      <td>Psychic</td>\n",
       "    </tr>\n",
       "    <tr>\n",
       "      <th>Volcanion</th>\n",
       "      <td>Fire</td>\n",
       "    </tr>\n",
       "  </tbody>\n",
       "</table>\n",
       "<p>721 rows × 1 columns</p>\n",
       "</div>"
      ],
      "text/plain": [
       "                Type\n",
       "Pokemon             \n",
       "Bulbasaur      Grass\n",
       "Ivysaur        Grass\n",
       "Venusaur       Grass\n",
       "Charmander      Fire\n",
       "Charmeleon      Fire\n",
       "Charizard       Fire\n",
       "Squirtle       Water\n",
       "Wartortle      Water\n",
       "Blastoise      Water\n",
       "Caterpie         Bug\n",
       "Metapod          Bug\n",
       "Butterfree       Bug\n",
       "Weedle           Bug\n",
       "Kakuna           Bug\n",
       "Beedrill         Bug\n",
       "Pidgey        Normal\n",
       "Pidgeotto     Normal\n",
       "Pidgeot       Normal\n",
       "Rattata       Normal\n",
       "Raticate      Normal\n",
       "Spearow       Normal\n",
       "Fearow        Normal\n",
       "Ekans         Poison\n",
       "Arbok         Poison\n",
       "Pikachu     Electric\n",
       "Raichu      Electric\n",
       "Sandshrew     Ground\n",
       "Sandslash     Ground\n",
       "Nidoran       Poison\n",
       "Nidorina      Poison\n",
       "...              ...\n",
       "Clauncher      Water\n",
       "Clawitzer      Water\n",
       "Helioptile  Electric\n",
       "Heliolisk   Electric\n",
       "Tyrunt          Rock\n",
       "Tyrantrum       Rock\n",
       "Amaura          Rock\n",
       "Aurorus         Rock\n",
       "Sylveon        Fairy\n",
       "Hawlucha    Fighting\n",
       "Dedenne     Electric\n",
       "Carbink         Rock\n",
       "Goomy         Dragon\n",
       "Sliggoo       Dragon\n",
       "Goodra        Dragon\n",
       "Klefki         Steel\n",
       "Phantump       Ghost\n",
       "Trevenant      Ghost\n",
       "Pumpkaboo      Ghost\n",
       "Gourgeist      Ghost\n",
       "Bergmite         Ice\n",
       "Avalugg          Ice\n",
       "Noibat        Flying\n",
       "Noivern       Flying\n",
       "Xerneas        Fairy\n",
       "Yveltal         Dark\n",
       "Zygarde       Dragon\n",
       "Diancie         Rock\n",
       "Hoopa        Psychic\n",
       "Volcanion       Fire\n",
       "\n",
       "[721 rows x 1 columns]"
      ]
     },
     "execution_count": 5,
     "metadata": {},
     "output_type": "execute_result"
    }
   ],
   "source": [
    "pd.read_csv(\"pokemon.csv\", index_col = \"Pokemon\")\n",
    "#We will get a default dataframe\n",
    "#Use Pokemon colum as an index"
   ]
  },
  {
   "cell_type": "code",
   "execution_count": 6,
   "metadata": {},
   "outputs": [
    {
     "data": {
      "text/plain": [
       "Pokemon\n",
       "Bulbasaur     Grass\n",
       "Ivysaur       Grass\n",
       "Venusaur      Grass\n",
       "Charmander     Fire\n",
       "Charmeleon     Fire\n",
       "Name: Type, dtype: object"
      ]
     },
     "execution_count": 6,
     "metadata": {},
     "output_type": "execute_result"
    }
   ],
   "source": [
    "pokemon = pd.read_csv(\"pokemon.csv\", index_col = \"Pokemon\", squeeze = True)\n",
    "#Use Pokemon colum as an index\n",
    "pokemon.head()"
   ]
  },
  {
   "cell_type": "markdown",
   "metadata": {},
   "source": [
    "##  Pandas series combines the python dictionary and the list"
   ]
  },
  {
   "cell_type": "code",
   "execution_count": 67,
   "metadata": {},
   "outputs": [
    {
     "data": {
      "text/plain": [
       "'Grass'"
      ]
     },
     "execution_count": 67,
     "metadata": {},
     "output_type": "execute_result"
    }
   ],
   "source": [
    "pokemon[0] "
   ]
  },
  {
   "cell_type": "code",
   "execution_count": 68,
   "metadata": {},
   "outputs": [
    {
     "data": {
      "text/plain": [
       "Pokemon\n",
       "Electrode    Electric\n",
       "Unown         Psychic\n",
       "Name: Type, dtype: object"
      ]
     },
     "execution_count": 68,
     "metadata": {},
     "output_type": "execute_result"
    }
   ],
   "source": [
    "pokemon[[100,200]]"
   ]
  },
  {
   "cell_type": "code",
   "execution_count": 69,
   "metadata": {},
   "outputs": [
    {
     "data": {
      "text/plain": [
       "'Grass'"
      ]
     },
     "execution_count": 69,
     "metadata": {},
     "output_type": "execute_result"
    }
   ],
   "source": [
    "pokemon[\"Bulbasaur\"]"
   ]
  },
  {
   "cell_type": "code",
   "execution_count": 7,
   "metadata": {},
   "outputs": [
    {
     "name": "stderr",
     "output_type": "stream",
     "text": [
      "/usr/local/lib/python3.6/site-packages/pandas/core/series.py:851: FutureWarning: \n",
      "Passing list-likes to .loc or [] with any missing label will raise\n",
      "KeyError in the future, you can use .reindex() as an alternative.\n",
      "\n",
      "See the documentation here:\n",
      "https://pandas.pydata.org/pandas-docs/stable/indexing.html#deprecate-loc-reindex-listlike\n",
      "  return self.loc[key]\n"
     ]
    },
    {
     "data": {
      "text/plain": [
       "Pokemon\n",
       "Ivysaur         Grass\n",
       "Bulbasaur       Grass\n",
       "Pikachu      Electric\n",
       "Digimon           NaN\n",
       "Name: Type, dtype: object"
      ]
     },
     "execution_count": 7,
     "metadata": {},
     "output_type": "execute_result"
    }
   ],
   "source": [
    "pokemon[[\"Ivysaur\", \"Bulbasaur\", \"Pikachu\", \"Digimon\"]]"
   ]
  },
  {
   "cell_type": "code",
   "execution_count": 8,
   "metadata": {},
   "outputs": [
    {
     "data": {
      "text/plain": [
       "Pokemon\n",
       "Kakuna            Bug\n",
       "Beedrill          Bug\n",
       "Pidgey         Normal\n",
       "Pidgeotto      Normal\n",
       "Pidgeot        Normal\n",
       "Rattata        Normal\n",
       "Raticate       Normal\n",
       "Spearow        Normal\n",
       "Fearow         Normal\n",
       "Ekans          Poison\n",
       "Arbok          Poison\n",
       "Pikachu      Electric\n",
       "Name: Type, dtype: object"
      ]
     },
     "execution_count": 8,
     "metadata": {},
     "output_type": "execute_result"
    }
   ],
   "source": [
    "pokemon[\"Kakuna\" : \"Pikachu\"]"
   ]
  },
  {
   "cell_type": "markdown",
   "metadata": {},
   "source": [
    "## The .get() Method on a series"
   ]
  },
  {
   "cell_type": "code",
   "execution_count": 12,
   "metadata": {},
   "outputs": [
    {
     "data": {
      "text/plain": [
       "Pokemon\n",
       "Abomasnow      Grass\n",
       "Abra         Psychic\n",
       "Absol           Dark\n",
       "Accelgor         Bug\n",
       "Aegislash      Steel\n",
       "Name: Type, dtype: object"
      ]
     },
     "execution_count": 12,
     "metadata": {},
     "output_type": "execute_result"
    }
   ],
   "source": [
    "pokemon = pd.read_csv(\"pokemon.csv\", index_col= \"Pokemon\", squeeze = True)\n",
    "pokemon.sort_index(inplace=True) #This will make the performance faster\n",
    "pokemon.head()"
   ]
  },
  {
   "cell_type": "code",
   "execution_count": 15,
   "metadata": {},
   "outputs": [
    {
     "data": {
      "text/plain": [
       "'Fire'"
      ]
     },
     "execution_count": 15,
     "metadata": {},
     "output_type": "execute_result"
    }
   ],
   "source": [
    "pokemon.get(\"Moltres\")"
   ]
  },
  {
   "cell_type": "code",
   "execution_count": 16,
   "metadata": {},
   "outputs": [
    {
     "data": {
      "text/plain": [
       "'Fire'"
      ]
     },
     "execution_count": 16,
     "metadata": {},
     "output_type": "execute_result"
    }
   ],
   "source": [
    "pokemon[\"Moltres\"]"
   ]
  },
  {
   "cell_type": "code",
   "execution_count": 18,
   "metadata": {},
   "outputs": [
    {
     "data": {
      "text/plain": [
       "Pokemon\n",
       "Moltres        Fire\n",
       "Pikachu    Electric\n",
       "Name: Type, dtype: object"
      ]
     },
     "execution_count": 18,
     "metadata": {},
     "output_type": "execute_result"
    }
   ],
   "source": [
    "pokemon.get([\"Moltres\", \"Pikachu\"])"
   ]
  },
  {
   "cell_type": "code",
   "execution_count": 19,
   "metadata": {},
   "outputs": [
    {
     "data": {
      "text/plain": [
       "Pokemon\n",
       "Moltres        Fire\n",
       "Pikachu    Electric\n",
       "Name: Type, dtype: object"
      ]
     },
     "execution_count": 19,
     "metadata": {},
     "output_type": "execute_result"
    }
   ],
   "source": [
    "pokemon.get(key = [\"Moltres\", \"Pikachu\"])"
   ]
  },
  {
   "cell_type": "code",
   "execution_count": 23,
   "metadata": {},
   "outputs": [
    {
     "data": {
      "text/plain": [
       "'This is not a Pokemon'"
      ]
     },
     "execution_count": 23,
     "metadata": {},
     "output_type": "execute_result"
    }
   ],
   "source": [
    "pokemon.get(\"Digimon\", default=\"This is not a Pokemon\")"
   ]
  },
  {
   "cell_type": "code",
   "execution_count": 22,
   "metadata": {},
   "outputs": [
    {
     "data": {
      "text/plain": [
       "'Fire'"
      ]
     },
     "execution_count": 22,
     "metadata": {},
     "output_type": "execute_result"
    }
   ],
   "source": [
    "pokemon.get(key = \"Charizard\")"
   ]
  },
  {
   "cell_type": "markdown",
   "metadata": {},
   "source": [
    "## Math method on Series Objects"
   ]
  },
  {
   "cell_type": "code",
   "execution_count": 24,
   "metadata": {},
   "outputs": [],
   "source": [
    "google = pd.read_csv(\"google_stock_price.csv\", squeeze = True)"
   ]
  },
  {
   "cell_type": "code",
   "execution_count": 26,
   "metadata": {},
   "outputs": [
    {
     "data": {
      "text/plain": [
       "0    50.12\n",
       "1    54.10\n",
       "2    54.65\n",
       "Name: Stock Price, dtype: float64"
      ]
     },
     "execution_count": 26,
     "metadata": {},
     "output_type": "execute_result"
    }
   ],
   "source": [
    "google.head(3)"
   ]
  },
  {
   "cell_type": "code",
   "execution_count": 31,
   "metadata": {},
   "outputs": [
    {
     "data": {
      "text/plain": [
       "3012"
      ]
     },
     "execution_count": 31,
     "metadata": {},
     "output_type": "execute_result"
    }
   ],
   "source": [
    "google.count()"
   ]
  },
  {
   "cell_type": "code",
   "execution_count": 32,
   "metadata": {},
   "outputs": [
    {
     "data": {
      "text/plain": [
       "3012"
      ]
     },
     "execution_count": 32,
     "metadata": {},
     "output_type": "execute_result"
    }
   ],
   "source": [
    "len(google)"
   ]
  },
  {
   "cell_type": "code",
   "execution_count": 33,
   "metadata": {},
   "outputs": [
    {
     "data": {
      "text/plain": [
       "1006942.0"
      ]
     },
     "execution_count": 33,
     "metadata": {},
     "output_type": "execute_result"
    }
   ],
   "source": [
    "google.sum()"
   ]
  },
  {
   "cell_type": "code",
   "execution_count": 34,
   "metadata": {},
   "outputs": [
    {
     "data": {
      "text/plain": [
       "334.3100929614874"
      ]
     },
     "execution_count": 34,
     "metadata": {},
     "output_type": "execute_result"
    }
   ],
   "source": [
    "google.mean()"
   ]
  },
  {
   "cell_type": "code",
   "execution_count": 35,
   "metadata": {},
   "outputs": [
    {
     "data": {
      "text/plain": [
       "334.3100929614874"
      ]
     },
     "execution_count": 35,
     "metadata": {},
     "output_type": "execute_result"
    }
   ],
   "source": [
    "google.sum() / google.count()"
   ]
  },
  {
   "cell_type": "code",
   "execution_count": 36,
   "metadata": {},
   "outputs": [
    {
     "data": {
      "text/plain": [
       "173.18720477113115"
      ]
     },
     "execution_count": 36,
     "metadata": {},
     "output_type": "execute_result"
    }
   ],
   "source": [
    "google.std()"
   ]
  },
  {
   "cell_type": "code",
   "execution_count": 37,
   "metadata": {},
   "outputs": [
    {
     "data": {
      "text/plain": [
       "49.95"
      ]
     },
     "execution_count": 37,
     "metadata": {},
     "output_type": "execute_result"
    }
   ],
   "source": [
    "google.min()"
   ]
  },
  {
   "cell_type": "code",
   "execution_count": 39,
   "metadata": {},
   "outputs": [
    {
     "data": {
      "text/plain": [
       "49.95"
      ]
     },
     "execution_count": 39,
     "metadata": {},
     "output_type": "execute_result"
    }
   ],
   "source": [
    "min(google)"
   ]
  },
  {
   "cell_type": "code",
   "execution_count": 38,
   "metadata": {},
   "outputs": [
    {
     "data": {
      "text/plain": [
       "782.22"
      ]
     },
     "execution_count": 38,
     "metadata": {},
     "output_type": "execute_result"
    }
   ],
   "source": [
    "google.max()"
   ]
  },
  {
   "cell_type": "code",
   "execution_count": 41,
   "metadata": {},
   "outputs": [
    {
     "data": {
      "text/plain": [
       "782.22"
      ]
     },
     "execution_count": 41,
     "metadata": {},
     "output_type": "execute_result"
    }
   ],
   "source": [
    "max(google)"
   ]
  },
  {
   "cell_type": "code",
   "execution_count": 40,
   "metadata": {},
   "outputs": [
    {
     "data": {
      "text/plain": [
       "283.315"
      ]
     },
     "execution_count": 40,
     "metadata": {},
     "output_type": "execute_result"
    }
   ],
   "source": [
    "google.median()"
   ]
  },
  {
   "cell_type": "code",
   "execution_count": 42,
   "metadata": {},
   "outputs": [
    {
     "data": {
      "text/plain": [
       "0    291.21\n",
       "dtype: float64"
      ]
     },
     "execution_count": 42,
     "metadata": {},
     "output_type": "execute_result"
    }
   ],
   "source": [
    "google.mode() # most frequent"
   ]
  },
  {
   "cell_type": "code",
   "execution_count": 43,
   "metadata": {},
   "outputs": [
    {
     "data": {
      "text/plain": [
       "count    3012.000000\n",
       "mean      334.310093\n",
       "std       173.187205\n",
       "min        49.950000\n",
       "25%       218.045000\n",
       "50%       283.315000\n",
       "75%       443.000000\n",
       "max       782.220000\n",
       "Name: Stock Price, dtype: float64"
      ]
     },
     "execution_count": 43,
     "metadata": {},
     "output_type": "execute_result"
    }
   ],
   "source": [
    "google.describe()"
   ]
  },
  {
   "cell_type": "markdown",
   "metadata": {},
   "source": [
    "## The .idmax() and .idmin() Methods"
   ]
  },
  {
   "cell_type": "code",
   "execution_count": 45,
   "metadata": {},
   "outputs": [
    {
     "data": {
      "text/plain": [
       "0    50.12\n",
       "1    54.10\n",
       "2    54.65\n",
       "3    52.38\n",
       "4    52.95\n",
       "Name: Stock Price, dtype: float64"
      ]
     },
     "execution_count": 45,
     "metadata": {},
     "output_type": "execute_result"
    }
   ],
   "source": [
    "google = pd.read_csv(\"google_stock_price.csv\", squeeze = True)\n",
    "google.head()"
   ]
  },
  {
   "cell_type": "code",
   "execution_count": 46,
   "metadata": {},
   "outputs": [
    {
     "data": {
      "text/plain": [
       "782.22"
      ]
     },
     "execution_count": 46,
     "metadata": {},
     "output_type": "execute_result"
    }
   ],
   "source": [
    "google.max()"
   ]
  },
  {
   "cell_type": "code",
   "execution_count": 47,
   "metadata": {},
   "outputs": [
    {
     "data": {
      "text/plain": [
       "49.95"
      ]
     },
     "execution_count": 47,
     "metadata": {},
     "output_type": "execute_result"
    }
   ],
   "source": [
    "google.min()"
   ]
  },
  {
   "cell_type": "code",
   "execution_count": 54,
   "metadata": {},
   "outputs": [
    {
     "data": {
      "text/plain": [
       "3011"
      ]
     },
     "execution_count": 54,
     "metadata": {},
     "output_type": "execute_result"
    }
   ],
   "source": [
    "google.idxmax() # index positon with the maximun value"
   ]
  },
  {
   "cell_type": "code",
   "execution_count": 55,
   "metadata": {},
   "outputs": [
    {
     "data": {
      "text/plain": [
       "782.22"
      ]
     },
     "execution_count": 55,
     "metadata": {},
     "output_type": "execute_result"
    }
   ],
   "source": [
    "google[3011]"
   ]
  },
  {
   "cell_type": "code",
   "execution_count": 56,
   "metadata": {},
   "outputs": [
    {
     "data": {
      "text/plain": [
       "11"
      ]
     },
     "execution_count": 56,
     "metadata": {},
     "output_type": "execute_result"
    }
   ],
   "source": [
    "google.idxmin() # index position with the smallest value"
   ]
  },
  {
   "cell_type": "code",
   "execution_count": 57,
   "metadata": {},
   "outputs": [
    {
     "data": {
      "text/plain": [
       "49.95"
      ]
     },
     "execution_count": 57,
     "metadata": {},
     "output_type": "execute_result"
    }
   ],
   "source": [
    "google[11]"
   ]
  },
  {
   "cell_type": "code",
   "execution_count": 59,
   "metadata": {},
   "outputs": [
    {
     "data": {
      "text/plain": [
       "49.95"
      ]
     },
     "execution_count": 59,
     "metadata": {},
     "output_type": "execute_result"
    }
   ],
   "source": [
    "google[google.idxmin()]"
   ]
  },
  {
   "cell_type": "markdown",
   "metadata": {},
   "source": [
    "## The .value_counts() Method"
   ]
  },
  {
   "cell_type": "code",
   "execution_count": 60,
   "metadata": {},
   "outputs": [
    {
     "data": {
      "text/plain": [
       "Pokemon\n",
       "Bulbasaur     Grass\n",
       "Ivysaur       Grass\n",
       "Venusaur      Grass\n",
       "Charmander     Fire\n",
       "Charmeleon     Fire\n",
       "Name: Type, dtype: object"
      ]
     },
     "execution_count": 60,
     "metadata": {},
     "output_type": "execute_result"
    }
   ],
   "source": [
    "pokemon = pd.read_csv(\"pokemon.csv\", index_col = \"Pokemon\", squeeze = True)\n",
    "pokemon.head()"
   ]
  },
  {
   "cell_type": "code",
   "execution_count": 61,
   "metadata": {},
   "outputs": [
    {
     "data": {
      "text/plain": [
       "Water       105\n",
       "Normal       93\n",
       "Grass        66\n",
       "Bug          63\n",
       "Fire         47\n",
       "Psychic      47\n",
       "Rock         41\n",
       "Electric     36\n",
       "Ground       30\n",
       "Dark         28\n",
       "Poison       28\n",
       "Fighting     25\n",
       "Dragon       24\n",
       "Ice          23\n",
       "Ghost        23\n",
       "Steel        22\n",
       "Fairy        17\n",
       "Flying        3\n",
       "Name: Type, dtype: int64"
      ]
     },
     "execution_count": 61,
     "metadata": {},
     "output_type": "execute_result"
    }
   ],
   "source": [
    "pokemon.value_counts() # new Series."
   ]
  },
  {
   "cell_type": "code",
   "execution_count": 62,
   "metadata": {},
   "outputs": [
    {
     "data": {
      "text/plain": [
       "721"
      ]
     },
     "execution_count": 62,
     "metadata": {},
     "output_type": "execute_result"
    }
   ],
   "source": [
    "pokemon.value_counts().sum()"
   ]
  },
  {
   "cell_type": "code",
   "execution_count": 63,
   "metadata": {},
   "outputs": [
    {
     "data": {
      "text/plain": [
       "721"
      ]
     },
     "execution_count": 63,
     "metadata": {},
     "output_type": "execute_result"
    }
   ],
   "source": [
    "pokemon.count()"
   ]
  },
  {
   "cell_type": "code",
   "execution_count": 66,
   "metadata": {},
   "outputs": [
    {
     "data": {
      "text/plain": [
       "Flying        3\n",
       "Fairy        17\n",
       "Steel        22\n",
       "Ghost        23\n",
       "Ice          23\n",
       "Dragon       24\n",
       "Fighting     25\n",
       "Poison       28\n",
       "Dark         28\n",
       "Ground       30\n",
       "Electric     36\n",
       "Rock         41\n",
       "Psychic      47\n",
       "Fire         47\n",
       "Bug          63\n",
       "Grass        66\n",
       "Normal       93\n",
       "Water       105\n",
       "Name: Type, dtype: int64"
      ]
     },
     "execution_count": 66,
     "metadata": {},
     "output_type": "execute_result"
    }
   ],
   "source": [
    "pokemon.value_counts(ascending = True)"
   ]
  },
  {
   "cell_type": "markdown",
   "metadata": {},
   "source": [
    "## The .apply() Method"
   ]
  },
  {
   "cell_type": "code",
   "execution_count": 1,
   "metadata": {},
   "outputs": [],
   "source": [
    "import pandas as pd"
   ]
  },
  {
   "cell_type": "code",
   "execution_count": 5,
   "metadata": {},
   "outputs": [
    {
     "data": {
      "text/plain": [
       "0    50.12\n",
       "1    54.10\n",
       "2    54.65\n",
       "3    52.38\n",
       "4    52.95\n",
       "Name: Stock Price, dtype: float64"
      ]
     },
     "execution_count": 5,
     "metadata": {},
     "output_type": "execute_result"
    }
   ],
   "source": [
    "google = pd.read_csv(\"google_stock_price.csv\", squeeze=True)\n",
    "google.head()"
   ]
  },
  {
   "cell_type": "code",
   "execution_count": 70,
   "metadata": {},
   "outputs": [],
   "source": [
    "def class_perm(number):\n",
    "    if number < 300:\n",
    "        return \"OK\"\n",
    "    elif number >=300 and number < 650:\n",
    "        return \"Good\"\n",
    "    else: \n",
    "        return \"Incredible\""
   ]
  },
  {
   "cell_type": "code",
   "execution_count": 72,
   "metadata": {},
   "outputs": [
    {
     "data": {
      "text/plain": [
       "0               OK\n",
       "1               OK\n",
       "2               OK\n",
       "3               OK\n",
       "4               OK\n",
       "5               OK\n",
       "6               OK\n",
       "7               OK\n",
       "8               OK\n",
       "9               OK\n",
       "10              OK\n",
       "11              OK\n",
       "12              OK\n",
       "13              OK\n",
       "14              OK\n",
       "15              OK\n",
       "16              OK\n",
       "17              OK\n",
       "18              OK\n",
       "19              OK\n",
       "20              OK\n",
       "21              OK\n",
       "22              OK\n",
       "23              OK\n",
       "24              OK\n",
       "25              OK\n",
       "26              OK\n",
       "27              OK\n",
       "28              OK\n",
       "29              OK\n",
       "           ...    \n",
       "2982    Incredible\n",
       "2983    Incredible\n",
       "2984    Incredible\n",
       "2985    Incredible\n",
       "2986    Incredible\n",
       "2987    Incredible\n",
       "2988    Incredible\n",
       "2989    Incredible\n",
       "2990    Incredible\n",
       "2991    Incredible\n",
       "2992    Incredible\n",
       "2993    Incredible\n",
       "2994    Incredible\n",
       "2995    Incredible\n",
       "2996    Incredible\n",
       "2997    Incredible\n",
       "2998    Incredible\n",
       "2999    Incredible\n",
       "3000    Incredible\n",
       "3001    Incredible\n",
       "3002    Incredible\n",
       "3003    Incredible\n",
       "3004    Incredible\n",
       "3005    Incredible\n",
       "3006    Incredible\n",
       "3007    Incredible\n",
       "3008    Incredible\n",
       "3009    Incredible\n",
       "3010    Incredible\n",
       "3011    Incredible\n",
       "Name: Stock Price, Length: 3012, dtype: object"
      ]
     },
     "execution_count": 72,
     "metadata": {},
     "output_type": "execute_result"
    }
   ],
   "source": [
    "google.apply(class_perm)  # apply a specific function "
   ]
  },
  {
   "cell_type": "code",
   "execution_count": 6,
   "metadata": {},
   "outputs": [
    {
     "data": {
      "text/plain": [
       "0    50.12\n",
       "1    54.10\n",
       "2    54.65\n",
       "3    52.38\n",
       "4    52.95\n",
       "Name: Stock Price, dtype: float64"
      ]
     },
     "execution_count": 6,
     "metadata": {},
     "output_type": "execute_result"
    }
   ],
   "source": [
    "google.head()"
   ]
  },
  {
   "cell_type": "code",
   "execution_count": 76,
   "metadata": {},
   "outputs": [
    {
     "data": {
      "text/plain": [
       "0    51.12\n",
       "1    55.10\n",
       "2    55.65\n",
       "3    53.38\n",
       "4    53.95\n",
       "Name: Stock Price, dtype: float64"
      ]
     },
     "execution_count": 76,
     "metadata": {},
     "output_type": "execute_result"
    }
   ],
   "source": [
    "google.apply(lambda price : price + 1).head() #anonymous func"
   ]
  },
  {
   "cell_type": "code",
   "execution_count": 7,
   "metadata": {},
   "outputs": [
    {
     "data": {
      "text/plain": [
       "0       0.149921\n",
       "1       0.161826\n",
       "2       0.163471\n",
       "3       0.156681\n",
       "4       0.158386\n",
       "5       0.161228\n",
       "6       0.158595\n",
       "7       0.152403\n",
       "8       0.152942\n",
       "9       0.149771\n",
       "10      0.151656\n",
       "11      0.149412\n",
       "12      0.151775\n",
       "13      0.152852\n",
       "14      0.152852\n",
       "15      0.157369\n",
       "16      0.160629\n",
       "17      0.166582\n",
       "18      0.167330\n",
       "19      0.170291\n",
       "20      0.175556\n",
       "21      0.178337\n",
       "22      0.176064\n",
       "23      0.176872\n",
       "24      0.180521\n",
       "25      0.179055\n",
       "26      0.176692\n",
       "27      0.189555\n",
       "28      0.195836\n",
       "29      0.193653\n",
       "          ...   \n",
       "2982    2.019742\n",
       "2983    1.998923\n",
       "2984    2.034159\n",
       "2985    2.046334\n",
       "2986    2.070234\n",
       "2987    2.091501\n",
       "2988    2.077383\n",
       "2989    2.087194\n",
       "2990    2.079985\n",
       "2991    2.110705\n",
       "2992    2.139002\n",
       "2993    2.155603\n",
       "2994    2.144656\n",
       "2995    2.156531\n",
       "2996    2.153240\n",
       "2997    2.194908\n",
       "2998    2.204420\n",
       "2999    2.217073\n",
       "3000    2.209416\n",
       "3001    2.221710\n",
       "3002    2.212826\n",
       "3003    2.208788\n",
       "3004    2.218808\n",
       "3005    2.231192\n",
       "3006    2.299631\n",
       "3007    2.311866\n",
       "3008    2.306451\n",
       "3009    2.312763\n",
       "3010    2.308067\n",
       "3011    2.339804\n",
       "Name: Stock Price, Length: 3012, dtype: float64"
      ]
     },
     "execution_count": 7,
     "metadata": {},
     "output_type": "execute_result"
    }
   ],
   "source": [
    "google.apply(lambda price : price / google.mean())"
   ]
  },
  {
   "cell_type": "markdown",
   "metadata": {},
   "source": [
    "## The .map() Method This is equivalent to vlookup hlookup"
   ]
  },
  {
   "cell_type": "code",
   "execution_count": 12,
   "metadata": {},
   "outputs": [
    {
     "data": {
      "text/html": [
       "<div>\n",
       "<style scoped>\n",
       "    .dataframe tbody tr th:only-of-type {\n",
       "        vertical-align: middle;\n",
       "    }\n",
       "\n",
       "    .dataframe tbody tr th {\n",
       "        vertical-align: top;\n",
       "    }\n",
       "\n",
       "    .dataframe thead th {\n",
       "        text-align: right;\n",
       "    }\n",
       "</style>\n",
       "<table border=\"1\" class=\"dataframe\">\n",
       "  <thead>\n",
       "    <tr style=\"text-align: right;\">\n",
       "      <th></th>\n",
       "      <th>Pokemon</th>\n",
       "      <th>Type</th>\n",
       "    </tr>\n",
       "  </thead>\n",
       "  <tbody>\n",
       "    <tr>\n",
       "      <th>0</th>\n",
       "      <td>Bulbasaur</td>\n",
       "      <td>Grass</td>\n",
       "    </tr>\n",
       "    <tr>\n",
       "      <th>1</th>\n",
       "      <td>Ivysaur</td>\n",
       "      <td>Grass</td>\n",
       "    </tr>\n",
       "    <tr>\n",
       "      <th>2</th>\n",
       "      <td>Venusaur</td>\n",
       "      <td>Grass</td>\n",
       "    </tr>\n",
       "    <tr>\n",
       "      <th>3</th>\n",
       "      <td>Charmander</td>\n",
       "      <td>Fire</td>\n",
       "    </tr>\n",
       "    <tr>\n",
       "      <th>4</th>\n",
       "      <td>Charmeleon</td>\n",
       "      <td>Fire</td>\n",
       "    </tr>\n",
       "  </tbody>\n",
       "</table>\n",
       "</div>"
      ],
      "text/plain": [
       "      Pokemon   Type\n",
       "0   Bulbasaur  Grass\n",
       "1     Ivysaur  Grass\n",
       "2    Venusaur  Grass\n",
       "3  Charmander   Fire\n",
       "4  Charmeleon   Fire"
      ]
     },
     "execution_count": 12,
     "metadata": {},
     "output_type": "execute_result"
    }
   ],
   "source": [
    "pokemon_names = pd.read_csv(\"pokemon.csv\")\n",
    "pokemon_names.head()"
   ]
  },
  {
   "cell_type": "code",
   "execution_count": 13,
   "metadata": {},
   "outputs": [],
   "source": [
    "pokemon_names = pd.read_csv(\"pokemon.csv\", usecols=[\"Pokemon\"], squeeze = True)\n",
    "# usecols: just uset the [\"Pokemon] column"
   ]
  },
  {
   "cell_type": "code",
   "execution_count": 14,
   "metadata": {},
   "outputs": [
    {
     "data": {
      "text/plain": [
       "0     Bulbasaur\n",
       "1       Ivysaur\n",
       "2      Venusaur\n",
       "3    Charmander\n",
       "4    Charmeleon\n",
       "Name: Pokemon, dtype: object"
      ]
     },
     "execution_count": 14,
     "metadata": {},
     "output_type": "execute_result"
    }
   ],
   "source": [
    "pokemon_names.head()"
   ]
  },
  {
   "cell_type": "code",
   "execution_count": 7,
   "metadata": {},
   "outputs": [
    {
     "data": {
      "text/plain": [
       "Pokemon\n",
       "Bulbasaur     Grass\n",
       "Ivysaur       Grass\n",
       "Venusaur      Grass\n",
       "Charmander     Fire\n",
       "Charmeleon     Fire\n",
       "Name: Type, dtype: object"
      ]
     },
     "execution_count": 7,
     "metadata": {},
     "output_type": "execute_result"
    }
   ],
   "source": [
    "pokemon_types = pd.read_csv(\"pokemon.csv\", index_col= \"Pokemon\", squeeze = True )\n",
    "pokemon_types.head()"
   ]
  },
  {
   "cell_type": "code",
   "execution_count": 11,
   "metadata": {},
   "outputs": [
    {
     "data": {
      "text/plain": [
       "0    Grass\n",
       "1    Grass\n",
       "2    Grass\n",
       "3     Fire\n",
       "4     Fire\n",
       "Name: Pokemon, dtype: object"
      ]
     },
     "execution_count": 11,
     "metadata": {},
     "output_type": "execute_result"
    }
   ],
   "source": [
    "pokemon_names.map(pokemon_types).head(5) #eqiovalent to vlookup"
   ]
  },
  {
   "cell_type": "code",
   "execution_count": 15,
   "metadata": {},
   "outputs": [],
   "source": [
    "pokemon_names = pd.read_csv(\"pokemon.csv\", usecols=[\"Pokemon\"], squeeze = True)\n",
    "pokemon_types = pd.read_csv(\"pokemon.csv\", index_col= \"Pokemon\", squeeze = True ).to_dict() # turn Series into dictionary"
   ]
  },
  {
   "cell_type": "code",
   "execution_count": 16,
   "metadata": {},
   "outputs": [
    {
     "data": {
      "text/plain": [
       "0    Bulbasaur\n",
       "1      Ivysaur\n",
       "2     Venusaur\n",
       "Name: Pokemon, dtype: object"
      ]
     },
     "execution_count": 16,
     "metadata": {},
     "output_type": "execute_result"
    }
   ],
   "source": [
    "pokemon_names.head(3)"
   ]
  },
  {
   "cell_type": "code",
   "execution_count": 18,
   "metadata": {},
   "outputs": [
    {
     "data": {
      "text/plain": [
       "{'Bulbasaur': 'Grass',\n",
       " 'Ivysaur': 'Grass',\n",
       " 'Venusaur': 'Grass',\n",
       " 'Charmander': 'Fire',\n",
       " 'Charmeleon': 'Fire',\n",
       " 'Charizard': 'Fire',\n",
       " 'Squirtle': 'Water',\n",
       " 'Wartortle': 'Water',\n",
       " 'Blastoise': 'Water',\n",
       " 'Caterpie': 'Bug',\n",
       " 'Metapod': 'Bug',\n",
       " 'Butterfree': 'Bug',\n",
       " 'Weedle': 'Bug',\n",
       " 'Kakuna': 'Bug',\n",
       " 'Beedrill': 'Bug',\n",
       " 'Pidgey': 'Normal',\n",
       " 'Pidgeotto': 'Normal',\n",
       " 'Pidgeot': 'Normal',\n",
       " 'Rattata': 'Normal',\n",
       " 'Raticate': 'Normal',\n",
       " 'Spearow': 'Normal',\n",
       " 'Fearow': 'Normal',\n",
       " 'Ekans': 'Poison',\n",
       " 'Arbok': 'Poison',\n",
       " 'Pikachu': 'Electric',\n",
       " 'Raichu': 'Electric',\n",
       " 'Sandshrew': 'Ground',\n",
       " 'Sandslash': 'Ground',\n",
       " 'Nidoran': 'Poison',\n",
       " 'Nidorina': 'Poison',\n",
       " 'Nidoqueen': 'Poison',\n",
       " 'Nidoran♂': 'Poison',\n",
       " 'Nidorino': 'Poison',\n",
       " 'Nidoking': 'Poison',\n",
       " 'Clefairy': 'Fairy',\n",
       " 'Clefable': 'Fairy',\n",
       " 'Vulpix': 'Fire',\n",
       " 'Ninetales': 'Fire',\n",
       " 'Jigglypuff': 'Normal',\n",
       " 'Wigglytuff': 'Normal',\n",
       " 'Zubat': 'Poison',\n",
       " 'Golbat': 'Poison',\n",
       " 'Oddish': 'Grass',\n",
       " 'Gloom': 'Grass',\n",
       " 'Vileplume': 'Grass',\n",
       " 'Paras': 'Bug',\n",
       " 'Parasect': 'Bug',\n",
       " 'Venonat': 'Bug',\n",
       " 'Venomoth': 'Bug',\n",
       " 'Diglett': 'Ground',\n",
       " 'Dugtrio': 'Ground',\n",
       " 'Meowth': 'Normal',\n",
       " 'Persian': 'Normal',\n",
       " 'Psyduck': 'Water',\n",
       " 'Golduck': 'Water',\n",
       " 'Mankey': 'Fighting',\n",
       " 'Primeape': 'Fighting',\n",
       " 'Growlithe': 'Fire',\n",
       " 'Arcanine': 'Fire',\n",
       " 'Poliwag': 'Water',\n",
       " 'Poliwhirl': 'Water',\n",
       " 'Poliwrath': 'Water',\n",
       " 'Abra': 'Psychic',\n",
       " 'Kadabra': 'Psychic',\n",
       " 'Alakazam': 'Psychic',\n",
       " 'Machop': 'Fighting',\n",
       " 'Machoke': 'Fighting',\n",
       " 'Machamp': 'Fighting',\n",
       " 'Bellsprout': 'Grass',\n",
       " 'Weepinbell': 'Grass',\n",
       " 'Victreebel': 'Grass',\n",
       " 'Tentacool': 'Water',\n",
       " 'Tentacruel': 'Water',\n",
       " 'Geodude': 'Rock',\n",
       " 'Graveler': 'Rock',\n",
       " 'Golem': 'Rock',\n",
       " 'Ponyta': 'Fire',\n",
       " 'Rapidash': 'Fire',\n",
       " 'Slowpoke': 'Water',\n",
       " 'Slowbro': 'Water',\n",
       " 'Magnemite': 'Electric',\n",
       " 'Magneton': 'Electric',\n",
       " \"Farfetch'd\": 'Normal',\n",
       " 'Doduo': 'Normal',\n",
       " 'Dodrio': 'Normal',\n",
       " 'Seel': 'Water',\n",
       " 'Dewgong': 'Water',\n",
       " 'Grimer': 'Poison',\n",
       " 'Muk': 'Poison',\n",
       " 'Shellder': 'Water',\n",
       " 'Cloyster': 'Water',\n",
       " 'Gastly': 'Ghost',\n",
       " 'Haunter': 'Ghost',\n",
       " 'Gengar': 'Ghost',\n",
       " 'Onix': 'Rock',\n",
       " 'Drowzee': 'Psychic',\n",
       " 'Hypno': 'Psychic',\n",
       " 'Krabby': 'Water',\n",
       " 'Kingler': 'Water',\n",
       " 'Voltorb': 'Electric',\n",
       " 'Electrode': 'Electric',\n",
       " 'Exeggcute': 'Grass',\n",
       " 'Exeggutor': 'Grass',\n",
       " 'Cubone': 'Ground',\n",
       " 'Marowak': 'Ground',\n",
       " 'Hitmonlee': 'Fighting',\n",
       " 'Hitmonchan': 'Fighting',\n",
       " 'Lickitung': 'Normal',\n",
       " 'Koffing': 'Poison',\n",
       " 'Weezing': 'Poison',\n",
       " 'Rhyhorn': 'Ground',\n",
       " 'Rhydon': 'Ground',\n",
       " 'Chansey': 'Normal',\n",
       " 'Tangela': 'Grass',\n",
       " 'Kangaskhan': 'Normal',\n",
       " 'Horsea': 'Water',\n",
       " 'Seadra': 'Water',\n",
       " 'Goldeen': 'Water',\n",
       " 'Seaking': 'Water',\n",
       " 'Staryu': 'Water',\n",
       " 'Starmie': 'Water',\n",
       " 'Mr. Mime': 'Psychic',\n",
       " 'Scyther': 'Bug',\n",
       " 'Jynx': 'Ice',\n",
       " 'Electabuzz': 'Electric',\n",
       " 'Magmar': 'Fire',\n",
       " 'Pinsir': 'Bug',\n",
       " 'Tauros': 'Normal',\n",
       " 'Magikarp': 'Water',\n",
       " 'Gyarados': 'Water',\n",
       " 'Lapras': 'Water',\n",
       " 'Ditto': 'Normal',\n",
       " 'Eevee': 'Normal',\n",
       " 'Vaporeon': 'Water',\n",
       " 'Jolteon': 'Electric',\n",
       " 'Flareon': 'Fire',\n",
       " 'Porygon': 'Normal',\n",
       " 'Omanyte': 'Rock',\n",
       " 'Omastar': 'Rock',\n",
       " 'Kabuto': 'Rock',\n",
       " 'Kabutops': 'Rock',\n",
       " 'Aerodactyl': 'Rock',\n",
       " 'Snorlax': 'Normal',\n",
       " 'Articuno': 'Ice',\n",
       " 'Zapdos': 'Electric',\n",
       " 'Moltres': 'Fire',\n",
       " 'Dratini': 'Dragon',\n",
       " 'Dragonair': 'Dragon',\n",
       " 'Dragonite': 'Dragon',\n",
       " 'Mewtwo': 'Psychic',\n",
       " 'Mew': 'Psychic',\n",
       " 'Chikorita': 'Grass',\n",
       " 'Bayleef': 'Grass',\n",
       " 'Meganium': 'Grass',\n",
       " 'Cyndaquil': 'Fire',\n",
       " 'Quilava': 'Fire',\n",
       " 'Typhlosion': 'Fire',\n",
       " 'Totodile': 'Water',\n",
       " 'Croconaw': 'Water',\n",
       " 'Feraligatr': 'Water',\n",
       " 'Sentret': 'Normal',\n",
       " 'Furret': 'Normal',\n",
       " 'Hoothoot': 'Normal',\n",
       " 'Noctowl': 'Normal',\n",
       " 'Ledyba': 'Bug',\n",
       " 'Ledian': 'Bug',\n",
       " 'Spinarak': 'Bug',\n",
       " 'Ariados': 'Bug',\n",
       " 'Crobat': 'Poison',\n",
       " 'Chinchou': 'Water',\n",
       " 'Lanturn': 'Water',\n",
       " 'Pichu': 'Electric',\n",
       " 'Cleffa': 'Fairy',\n",
       " 'Igglybuff': 'Normal',\n",
       " 'Togepi': 'Fairy',\n",
       " 'Togetic': 'Fairy',\n",
       " 'Natu': 'Psychic',\n",
       " 'Xatu': 'Psychic',\n",
       " 'Mareep': 'Electric',\n",
       " 'Flaaffy': 'Electric',\n",
       " 'Ampharos': 'Electric',\n",
       " 'Bellossom': 'Grass',\n",
       " 'Marill': 'Water',\n",
       " 'Azumarill': 'Water',\n",
       " 'Sudowoodo': 'Rock',\n",
       " 'Politoed': 'Water',\n",
       " 'Hoppip': 'Grass',\n",
       " 'Skiploom': 'Grass',\n",
       " 'Jumpluff': 'Grass',\n",
       " 'Aipom': 'Normal',\n",
       " 'Sunkern': 'Grass',\n",
       " 'Sunflora': 'Grass',\n",
       " 'Yanma': 'Bug',\n",
       " 'Wooper': 'Water',\n",
       " 'Quagsire': 'Water',\n",
       " 'Espeon': 'Psychic',\n",
       " 'Umbreon': 'Dark',\n",
       " 'Murkrow': 'Dark',\n",
       " 'Slowking': 'Water',\n",
       " 'Misdreavus': 'Ghost',\n",
       " 'Unown': 'Psychic',\n",
       " 'Wobbuffet': 'Psychic',\n",
       " 'Girafarig': 'Normal',\n",
       " 'Pineco': 'Bug',\n",
       " 'Forretress': 'Bug',\n",
       " 'Dunsparce': 'Normal',\n",
       " 'Gligar': 'Ground',\n",
       " 'Steelix': 'Steel',\n",
       " 'Snubbull': 'Fairy',\n",
       " 'Granbull': 'Fairy',\n",
       " 'Qwilfish': 'Water',\n",
       " 'Scizor': 'Bug',\n",
       " 'Shuckle': 'Bug',\n",
       " 'Heracross': 'Bug',\n",
       " 'Sneasel': 'Dark',\n",
       " 'Teddiursa': 'Normal',\n",
       " 'Ursaring': 'Normal',\n",
       " 'Slugma': 'Fire',\n",
       " 'Magcargo': 'Fire',\n",
       " 'Swinub': 'Ice',\n",
       " 'Piloswine': 'Ice',\n",
       " 'Corsola': 'Water',\n",
       " 'Remoraid': 'Water',\n",
       " 'Octillery': 'Water',\n",
       " 'Delibird': 'Ice',\n",
       " 'Mantine': 'Water',\n",
       " 'Skarmory': 'Steel',\n",
       " 'Houndour': 'Dark',\n",
       " 'Houndoom': 'Dark',\n",
       " 'Kingdra': 'Water',\n",
       " 'Phanpy': 'Ground',\n",
       " 'Donphan': 'Ground',\n",
       " 'Porygon2': 'Normal',\n",
       " 'Stantler': 'Normal',\n",
       " 'Smeargle': 'Normal',\n",
       " 'Tyrogue': 'Fighting',\n",
       " 'Hitmontop': 'Fighting',\n",
       " 'Smoochum': 'Ice',\n",
       " 'Elekid': 'Electric',\n",
       " 'Magby': 'Fire',\n",
       " 'Miltank': 'Normal',\n",
       " 'Blissey': 'Normal',\n",
       " 'Raikou': 'Electric',\n",
       " 'Entei': 'Fire',\n",
       " 'Suicune': 'Water',\n",
       " 'Larvitar': 'Rock',\n",
       " 'Pupitar': 'Rock',\n",
       " 'Tyranitar': 'Rock',\n",
       " 'Lugia': 'Psychic',\n",
       " 'Ho-oh': 'Fire',\n",
       " 'Celebi': 'Psychic',\n",
       " 'Treecko': 'Grass',\n",
       " 'Grovyle': 'Grass',\n",
       " 'Sceptile': 'Grass',\n",
       " 'Torchic': 'Fire',\n",
       " 'Combusken': 'Fire',\n",
       " 'Blaziken': 'Fire',\n",
       " 'Mudkip': 'Water',\n",
       " 'Marshtomp': 'Water',\n",
       " 'Swampert': 'Water',\n",
       " 'Poochyena': 'Dark',\n",
       " 'Mightyena': 'Dark',\n",
       " 'Zigzagoon': 'Normal',\n",
       " 'Linoone': 'Normal',\n",
       " 'Wurmple': 'Bug',\n",
       " 'Silcoon': 'Bug',\n",
       " 'Beautifly': 'Bug',\n",
       " 'Cascoon': 'Bug',\n",
       " 'Dustox': 'Bug',\n",
       " 'Lotad': 'Water',\n",
       " 'Lombre': 'Water',\n",
       " 'Ludicolo': 'Water',\n",
       " 'Seedot': 'Grass',\n",
       " 'Nuzleaf': 'Grass',\n",
       " 'Shiftry': 'Grass',\n",
       " 'Taillow': 'Normal',\n",
       " 'Swellow': 'Normal',\n",
       " 'Wingull': 'Water',\n",
       " 'Pelipper': 'Water',\n",
       " 'Ralts': 'Psychic',\n",
       " 'Kirlia': 'Psychic',\n",
       " 'Gardevoir': 'Psychic',\n",
       " 'Surskit': 'Bug',\n",
       " 'Masquerain': 'Bug',\n",
       " 'Shroomish': 'Grass',\n",
       " 'Breloom': 'Grass',\n",
       " 'Slakoth': 'Normal',\n",
       " 'Vigoroth': 'Normal',\n",
       " 'Slaking': 'Normal',\n",
       " 'Nincada': 'Bug',\n",
       " 'Ninjask': 'Bug',\n",
       " 'Shedinja': 'Bug',\n",
       " 'Whismur': 'Normal',\n",
       " 'Loudred': 'Normal',\n",
       " 'Exploud': 'Normal',\n",
       " 'Makuhita': 'Fighting',\n",
       " 'Hariyama': 'Fighting',\n",
       " 'Azurill': 'Normal',\n",
       " 'Nosepass': 'Rock',\n",
       " 'Skitty': 'Normal',\n",
       " 'Delcatty': 'Normal',\n",
       " 'Sableye': 'Dark',\n",
       " 'Mawile': 'Steel',\n",
       " 'Aron': 'Steel',\n",
       " 'Lairon': 'Steel',\n",
       " 'Aggron': 'Steel',\n",
       " 'Meditite': 'Fighting',\n",
       " 'Medicham': 'Fighting',\n",
       " 'Electrike': 'Electric',\n",
       " 'Manectric': 'Electric',\n",
       " 'Plusle': 'Electric',\n",
       " 'Minun': 'Electric',\n",
       " 'Volbeat': 'Bug',\n",
       " 'Illumise': 'Bug',\n",
       " 'Roselia': 'Grass',\n",
       " 'Gulpin': 'Poison',\n",
       " 'Swalot': 'Poison',\n",
       " 'Carvanha': 'Water',\n",
       " 'Sharpedo': 'Water',\n",
       " 'Wailmer': 'Water',\n",
       " 'Wailord': 'Water',\n",
       " 'Numel': 'Fire',\n",
       " 'Camerupt': 'Fire',\n",
       " 'Torkoal': 'Fire',\n",
       " 'Spoink': 'Psychic',\n",
       " 'Grumpig': 'Psychic',\n",
       " 'Spinda': 'Normal',\n",
       " 'Trapinch': 'Ground',\n",
       " 'Vibrava': 'Ground',\n",
       " 'Flygon': 'Ground',\n",
       " 'Cacnea': 'Grass',\n",
       " 'Cacturne': 'Grass',\n",
       " 'Swablu': 'Normal',\n",
       " 'Altaria': 'Dragon',\n",
       " 'Zangoose': 'Normal',\n",
       " 'Seviper': 'Poison',\n",
       " 'Lunatone': 'Rock',\n",
       " 'Solrock': 'Rock',\n",
       " 'Barboach': 'Water',\n",
       " 'Whiscash': 'Water',\n",
       " 'Corphish': 'Water',\n",
       " 'Crawdaunt': 'Water',\n",
       " 'Baltoy': 'Ground',\n",
       " 'Claydol': 'Ground',\n",
       " 'Lileep': 'Rock',\n",
       " 'Cradily': 'Rock',\n",
       " 'Anorith': 'Rock',\n",
       " 'Armaldo': 'Rock',\n",
       " 'Feebas': 'Water',\n",
       " 'Milotic': 'Water',\n",
       " 'Castform': 'Normal',\n",
       " 'Kecleon': 'Normal',\n",
       " 'Shuppet': 'Ghost',\n",
       " 'Banette': 'Ghost',\n",
       " 'Duskull': 'Ghost',\n",
       " 'Dusclops': 'Ghost',\n",
       " 'Tropius': 'Grass',\n",
       " 'Chimecho': 'Psychic',\n",
       " 'Absol': 'Dark',\n",
       " 'Wynaut': 'Psychic',\n",
       " 'Snorunt': 'Ice',\n",
       " 'Glalie': 'Ice',\n",
       " 'Spheal': 'Ice',\n",
       " 'Sealeo': 'Ice',\n",
       " 'Walrein': 'Ice',\n",
       " 'Clamperl': 'Water',\n",
       " 'Huntail': 'Water',\n",
       " 'Gorebyss': 'Water',\n",
       " 'Relicanth': 'Water',\n",
       " 'Luvdisc': 'Water',\n",
       " 'Bagon': 'Dragon',\n",
       " 'Shelgon': 'Dragon',\n",
       " 'Salamence': 'Dragon',\n",
       " 'Beldum': 'Steel',\n",
       " 'Metang': 'Steel',\n",
       " 'Metagross': 'Steel',\n",
       " 'Regirock': 'Rock',\n",
       " 'Regice': 'Ice',\n",
       " 'Registeel': 'Steel',\n",
       " 'Latias': 'Dragon',\n",
       " 'Latios': 'Dragon',\n",
       " 'Kyogre': 'Water',\n",
       " 'Groudon': 'Ground',\n",
       " 'Rayquaza': 'Dragon',\n",
       " 'Jirachi': 'Steel',\n",
       " 'Deoxys': 'Psychic',\n",
       " 'Turtwig': 'Grass',\n",
       " 'Grotle': 'Grass',\n",
       " 'Torterra': 'Grass',\n",
       " 'Chimchar': 'Fire',\n",
       " 'Monferno': 'Fire',\n",
       " 'Infernape': 'Fire',\n",
       " 'Piplup': 'Water',\n",
       " 'Prinplup': 'Water',\n",
       " 'Empoleon': 'Water',\n",
       " 'Starly': 'Normal',\n",
       " 'Staravia': 'Normal',\n",
       " 'Staraptor': 'Normal',\n",
       " 'Bidoof': 'Normal',\n",
       " 'Bibarel': 'Normal',\n",
       " 'Kricketot': 'Bug',\n",
       " 'Kricketune': 'Bug',\n",
       " 'Shinx': 'Electric',\n",
       " 'Luxio': 'Electric',\n",
       " 'Luxray': 'Electric',\n",
       " 'Budew': 'Grass',\n",
       " 'Roserade': 'Grass',\n",
       " 'Cranidos': 'Rock',\n",
       " 'Rampardos': 'Rock',\n",
       " 'Shieldon': 'Rock',\n",
       " 'Bastiodon': 'Rock',\n",
       " 'Burmy': 'Bug',\n",
       " 'Wormadam': 'Bug',\n",
       " 'Mothim': 'Bug',\n",
       " 'Combee': 'Bug',\n",
       " 'Vespiquen': 'Bug',\n",
       " 'Pachirisu': 'Electric',\n",
       " 'Buizel': 'Water',\n",
       " 'Floatzel': 'Water',\n",
       " 'Cherubi': 'Grass',\n",
       " 'Cherrim': 'Grass',\n",
       " 'Shellos': 'Water',\n",
       " 'Gastrodon': 'Water',\n",
       " 'Ambipom': 'Normal',\n",
       " 'Drifloon': 'Ghost',\n",
       " 'Drifblim': 'Ghost',\n",
       " 'Buneary': 'Normal',\n",
       " 'Lopunny': 'Normal',\n",
       " 'Mismagius': 'Ghost',\n",
       " 'Honchkrow': 'Dark',\n",
       " 'Glameow': 'Normal',\n",
       " 'Purugly': 'Normal',\n",
       " 'Chingling': 'Psychic',\n",
       " 'Stunky': 'Poison',\n",
       " 'Skuntank': 'Poison',\n",
       " 'Bronzor': 'Steel',\n",
       " 'Bronzong': 'Steel',\n",
       " 'Bonsly': 'Rock',\n",
       " 'Mime Jr.': 'Psychic',\n",
       " 'Happiny': 'Normal',\n",
       " 'Chatot': 'Normal',\n",
       " 'Spiritomb': 'Ghost',\n",
       " 'Gible': 'Dragon',\n",
       " 'Gabite': 'Dragon',\n",
       " 'Garchomp': 'Dragon',\n",
       " 'Munchlax': 'Normal',\n",
       " 'Riolu': 'Fighting',\n",
       " 'Lucario': 'Fighting',\n",
       " 'Hippopotas': 'Ground',\n",
       " 'Hippowdon': 'Ground',\n",
       " 'Skorupi': 'Poison',\n",
       " 'Drapion': 'Poison',\n",
       " 'Croagunk': 'Poison',\n",
       " 'Toxicroak': 'Poison',\n",
       " 'Carnivine': 'Grass',\n",
       " 'Finneon': 'Water',\n",
       " 'Lumineon': 'Water',\n",
       " 'Mantyke': 'Water',\n",
       " 'Snover': 'Grass',\n",
       " 'Abomasnow': 'Grass',\n",
       " 'Weavile': 'Dark',\n",
       " 'Magnezone': 'Electric',\n",
       " 'Lickilicky': 'Normal',\n",
       " 'Rhyperior': 'Ground',\n",
       " 'Tangrowth': 'Grass',\n",
       " 'Electivire': 'Electric',\n",
       " 'Magmortar': 'Fire',\n",
       " 'Togekiss': 'Fairy',\n",
       " 'Yanmega': 'Bug',\n",
       " 'Leafeon': 'Grass',\n",
       " 'Glaceon': 'Ice',\n",
       " 'Gliscor': 'Ground',\n",
       " 'Mamoswine': 'Ice',\n",
       " 'Porygon-Z': 'Normal',\n",
       " 'Gallade': 'Psychic',\n",
       " 'Probopass': 'Rock',\n",
       " 'Dusknoir': 'Ghost',\n",
       " 'Froslass': 'Ice',\n",
       " 'Rotom': 'Electric',\n",
       " 'Uxie': 'Psychic',\n",
       " 'Mesprit': 'Psychic',\n",
       " 'Azelf': 'Psychic',\n",
       " 'Dialga': 'Steel',\n",
       " 'Palkia': 'Water',\n",
       " 'Heatran': 'Fire',\n",
       " 'Regigigas': 'Normal',\n",
       " 'Giratina': 'Ghost',\n",
       " 'Cresselia': 'Psychic',\n",
       " 'Phione': 'Water',\n",
       " 'Manaphy': 'Water',\n",
       " 'Darkrai': 'Dark',\n",
       " 'Shaymin': 'Grass',\n",
       " 'Arceus': 'Normal',\n",
       " 'Victini': 'Psychic',\n",
       " 'Snivy': 'Grass',\n",
       " 'Servine': 'Grass',\n",
       " 'Serperior': 'Grass',\n",
       " 'Tepig': 'Fire',\n",
       " 'Pignite': 'Fire',\n",
       " 'Emboar': 'Fire',\n",
       " 'Oshawott': 'Water',\n",
       " 'Dewott': 'Water',\n",
       " 'Samurott': 'Water',\n",
       " 'Patrat': 'Normal',\n",
       " 'Watchog': 'Normal',\n",
       " 'Lillipup': 'Normal',\n",
       " 'Herdier': 'Normal',\n",
       " 'Stoutland': 'Normal',\n",
       " 'Purrloin': 'Dark',\n",
       " 'Liepard': 'Dark',\n",
       " 'Pansage': 'Grass',\n",
       " 'Simisage': 'Grass',\n",
       " 'Pansear': 'Fire',\n",
       " 'Simisear': 'Fire',\n",
       " 'Panpour': 'Water',\n",
       " 'Simipour': 'Water',\n",
       " 'Munna': 'Psychic',\n",
       " 'Musharna': 'Psychic',\n",
       " 'Pidove': 'Normal',\n",
       " 'Tranquill': 'Normal',\n",
       " 'Unfezant': 'Normal',\n",
       " 'Blitzle': 'Electric',\n",
       " 'Zebstrika': 'Electric',\n",
       " 'Roggenrola': 'Rock',\n",
       " 'Boldore': 'Rock',\n",
       " 'Gigalith': 'Rock',\n",
       " 'Woobat': 'Psychic',\n",
       " 'Swoobat': 'Psychic',\n",
       " 'Drilbur': 'Ground',\n",
       " 'Excadrill': 'Ground',\n",
       " 'Audino': 'Normal',\n",
       " 'Timburr': 'Fighting',\n",
       " 'Gurdurr': 'Fighting',\n",
       " 'Conkeldurr': 'Fighting',\n",
       " 'Tympole': 'Water',\n",
       " 'Palpitoad': 'Water',\n",
       " 'Seismitoad': 'Water',\n",
       " 'Throh': 'Fighting',\n",
       " 'Sawk': 'Fighting',\n",
       " 'Sewaddle': 'Bug',\n",
       " 'Swadloon': 'Bug',\n",
       " 'Leavanny': 'Bug',\n",
       " 'Venipede': 'Bug',\n",
       " 'Whirlipede': 'Bug',\n",
       " 'Scolipede': 'Bug',\n",
       " 'Cottonee': 'Grass',\n",
       " 'Whimsicott': 'Grass',\n",
       " 'Petilil': 'Grass',\n",
       " 'Lilligant': 'Grass',\n",
       " 'Basculin': 'Water',\n",
       " 'Sandile': 'Ground',\n",
       " 'Krokorok': 'Ground',\n",
       " 'Krookodile': 'Ground',\n",
       " 'Darumaka': 'Fire',\n",
       " 'Darmanitan': 'Fire',\n",
       " 'Maractus': 'Grass',\n",
       " 'Dwebble': 'Bug',\n",
       " 'Crustle': 'Bug',\n",
       " 'Scraggy': 'Dark',\n",
       " 'Scrafty': 'Dark',\n",
       " 'Sigilyph': 'Psychic',\n",
       " 'Yamask': 'Ghost',\n",
       " 'Cofagrigus': 'Ghost',\n",
       " 'Tirtouga': 'Water',\n",
       " 'Carracosta': 'Water',\n",
       " 'Archen': 'Rock',\n",
       " 'Archeops': 'Rock',\n",
       " 'Trubbish': 'Poison',\n",
       " 'Garbodor': 'Poison',\n",
       " 'Zorua': 'Dark',\n",
       " 'Zoroark': 'Dark',\n",
       " 'Minccino': 'Normal',\n",
       " 'Cinccino': 'Normal',\n",
       " 'Gothita': 'Psychic',\n",
       " 'Gothorita': 'Psychic',\n",
       " 'Gothitelle': 'Psychic',\n",
       " 'Solosis': 'Psychic',\n",
       " 'Duosion': 'Psychic',\n",
       " 'Reuniclus': 'Psychic',\n",
       " 'Ducklett': 'Water',\n",
       " 'Swanna': 'Water',\n",
       " 'Vanillite': 'Ice',\n",
       " 'Vanillish': 'Ice',\n",
       " 'Vanilluxe': 'Ice',\n",
       " 'Deerling': 'Normal',\n",
       " 'Sawsbuck': 'Normal',\n",
       " 'Emolga': 'Electric',\n",
       " 'Karrablast': 'Bug',\n",
       " 'Escavalier': 'Bug',\n",
       " 'Foongus': 'Grass',\n",
       " 'Amoonguss': 'Grass',\n",
       " 'Frillish': 'Water',\n",
       " 'Jellicent': 'Water',\n",
       " 'Alomomola': 'Water',\n",
       " 'Joltik': 'Bug',\n",
       " 'Galvantula': 'Bug',\n",
       " 'Ferroseed': 'Grass',\n",
       " 'Ferrothorn': 'Grass',\n",
       " 'Klink': 'Steel',\n",
       " 'Klang': 'Steel',\n",
       " 'Klinklang': 'Steel',\n",
       " 'Tynamo': 'Electric',\n",
       " 'Eelektrik': 'Electric',\n",
       " 'Eelektross': 'Electric',\n",
       " 'Elgyem': 'Psychic',\n",
       " 'Beheeyem': 'Psychic',\n",
       " 'Litwick': 'Ghost',\n",
       " 'Lampent': 'Ghost',\n",
       " 'Chandelure': 'Ghost',\n",
       " 'Axew': 'Dragon',\n",
       " 'Fraxure': 'Dragon',\n",
       " 'Haxorus': 'Dragon',\n",
       " 'Cubchoo': 'Ice',\n",
       " 'Beartic': 'Ice',\n",
       " 'Cryogonal': 'Ice',\n",
       " 'Shelmet': 'Bug',\n",
       " 'Accelgor': 'Bug',\n",
       " 'Stunfisk': 'Ground',\n",
       " 'Mienfoo': 'Fighting',\n",
       " 'Mienshao': 'Fighting',\n",
       " 'Druddigon': 'Dragon',\n",
       " 'Golett': 'Ground',\n",
       " 'Golurk': 'Ground',\n",
       " 'Pawniard': 'Dark',\n",
       " 'Bisharp': 'Dark',\n",
       " 'Bouffalant': 'Normal',\n",
       " 'Rufflet': 'Normal',\n",
       " 'Braviary': 'Normal',\n",
       " 'Vullaby': 'Dark',\n",
       " 'Mandibuzz': 'Dark',\n",
       " 'Heatmor': 'Fire',\n",
       " 'Durant': 'Bug',\n",
       " 'Deino': 'Dark',\n",
       " 'Zweilous': 'Dark',\n",
       " 'Hydreigon': 'Dark',\n",
       " 'Larvesta': 'Bug',\n",
       " 'Volcarona': 'Bug',\n",
       " 'Cobalion': 'Steel',\n",
       " 'Terrakion': 'Rock',\n",
       " 'Virizion': 'Grass',\n",
       " 'Tornadus': 'Flying',\n",
       " 'Thundurus': 'Electric',\n",
       " 'Reshiram': 'Dragon',\n",
       " 'Zekrom': 'Dragon',\n",
       " 'Landorus': 'Ground',\n",
       " 'Kyurem': 'Dragon',\n",
       " 'Keldeo': 'Water',\n",
       " 'Meloetta': 'Normal',\n",
       " 'Genesect': 'Bug',\n",
       " 'Chespin': 'Grass',\n",
       " 'Quilladin': 'Grass',\n",
       " 'Chesnaught': 'Grass',\n",
       " 'Fennekin': 'Fire',\n",
       " 'Braixen': 'Fire',\n",
       " 'Delphox': 'Fire',\n",
       " 'Froakie': 'Water',\n",
       " 'Frogadier': 'Water',\n",
       " 'Greninja': 'Water',\n",
       " 'Bunnelby': 'Normal',\n",
       " 'Diggersby': 'Normal',\n",
       " 'Fletchling': 'Normal',\n",
       " 'Fletchinder': 'Fire',\n",
       " 'Talonflame': 'Fire',\n",
       " 'Scatterbug': 'Bug',\n",
       " 'Spewpa': 'Bug',\n",
       " 'Vivillon': 'Bug',\n",
       " 'Litleo': 'Fire',\n",
       " 'Pyroar': 'Fire',\n",
       " 'Flabébé': 'Fairy',\n",
       " 'Floette': 'Fairy',\n",
       " 'Florges': 'Fairy',\n",
       " 'Skiddo': 'Grass',\n",
       " 'Gogoat': 'Grass',\n",
       " 'Pancham': 'Fighting',\n",
       " 'Pangoro': 'Fighting',\n",
       " 'Furfrou': 'Normal',\n",
       " 'Espurr': 'Psychic',\n",
       " 'Meowstic': 'Psychic',\n",
       " 'Honedge': 'Steel',\n",
       " 'Doublade': 'Steel',\n",
       " 'Aegislash': 'Steel',\n",
       " 'Spritzee': 'Fairy',\n",
       " 'Aromatisse': 'Fairy',\n",
       " 'Swirlix': 'Fairy',\n",
       " 'Slurpuff': 'Fairy',\n",
       " 'Inkay': 'Dark',\n",
       " 'Malamar': 'Dark',\n",
       " 'Binacle': 'Rock',\n",
       " 'Barbaracle': 'Rock',\n",
       " 'Skrelp': 'Poison',\n",
       " 'Dragalge': 'Poison',\n",
       " 'Clauncher': 'Water',\n",
       " 'Clawitzer': 'Water',\n",
       " 'Helioptile': 'Electric',\n",
       " 'Heliolisk': 'Electric',\n",
       " 'Tyrunt': 'Rock',\n",
       " 'Tyrantrum': 'Rock',\n",
       " 'Amaura': 'Rock',\n",
       " 'Aurorus': 'Rock',\n",
       " 'Sylveon': 'Fairy',\n",
       " 'Hawlucha': 'Fighting',\n",
       " 'Dedenne': 'Electric',\n",
       " 'Carbink': 'Rock',\n",
       " 'Goomy': 'Dragon',\n",
       " 'Sliggoo': 'Dragon',\n",
       " 'Goodra': 'Dragon',\n",
       " 'Klefki': 'Steel',\n",
       " 'Phantump': 'Ghost',\n",
       " 'Trevenant': 'Ghost',\n",
       " 'Pumpkaboo': 'Ghost',\n",
       " 'Gourgeist': 'Ghost',\n",
       " 'Bergmite': 'Ice',\n",
       " 'Avalugg': 'Ice',\n",
       " 'Noibat': 'Flying',\n",
       " 'Noivern': 'Flying',\n",
       " 'Xerneas': 'Fairy',\n",
       " 'Yveltal': 'Dark',\n",
       " 'Zygarde': 'Dragon',\n",
       " 'Diancie': 'Rock',\n",
       " 'Hoopa': 'Psychic',\n",
       " 'Volcanion': 'Fire'}"
      ]
     },
     "execution_count": 18,
     "metadata": {},
     "output_type": "execute_result"
    }
   ],
   "source": [
    "pokemon_types"
   ]
  },
  {
   "cell_type": "code",
   "execution_count": 19,
   "metadata": {},
   "outputs": [
    {
     "data": {
      "text/plain": [
       "0    Grass\n",
       "1    Grass\n",
       "2    Grass\n",
       "Name: Pokemon, dtype: object"
      ]
     },
     "execution_count": 19,
     "metadata": {},
     "output_type": "execute_result"
    }
   ],
   "source": [
    "pokemon_names.map(pokemon_types).head(3)"
   ]
  },
  {
   "cell_type": "code",
   "execution_count": null,
   "metadata": {},
   "outputs": [],
   "source": []
  }
 ],
 "metadata": {
  "kernelspec": {
   "display_name": "Python 3",
   "language": "python",
   "name": "python3"
  },
  "language_info": {
   "codemirror_mode": {
    "name": "ipython",
    "version": 3
   },
   "file_extension": ".py",
   "mimetype": "text/x-python",
   "name": "python",
   "nbconvert_exporter": "python",
   "pygments_lexer": "ipython3",
   "version": "3.6.5"
  }
 },
 "nbformat": 4,
 "nbformat_minor": 2
}
