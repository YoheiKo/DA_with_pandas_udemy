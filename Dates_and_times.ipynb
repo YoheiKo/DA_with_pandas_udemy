{
 "cells": [
  {
   "cell_type": "markdown",
   "metadata": {},
   "source": [
    "## Review of Python's datetime Module"
   ]
  },
  {
   "cell_type": "code",
   "execution_count": 37,
   "metadata": {},
   "outputs": [],
   "source": [
    "import pandas as pd\n",
    "import datetime as dt # python built-in library. \n",
    "import matplotlib.pyplot as plt\n",
    "import pandas_datareader as pdr\n",
    "import fix_yahoo_finance as yf  "
   ]
  },
  {
   "cell_type": "code",
   "execution_count": 38,
   "metadata": {},
   "outputs": [
    {
     "data": {
      "text/plain": [
       "2018"
      ]
     },
     "execution_count": 38,
     "metadata": {},
     "output_type": "execute_result"
    }
   ],
   "source": [
    "someday = dt.date(2018, 7, 9) # data store Year, Month and Day\n",
    "someday.year # extract year component"
   ]
  },
  {
   "cell_type": "code",
   "execution_count": 43,
   "metadata": {},
   "outputs": [
    {
     "data": {
      "text/plain": [
       "7"
      ]
     },
     "execution_count": 43,
     "metadata": {},
     "output_type": "execute_result"
    }
   ],
   "source": [
    "someday.month # extract month from someday"
   ]
  },
  {
   "cell_type": "code",
   "execution_count": 44,
   "metadata": {},
   "outputs": [
    {
     "data": {
      "text/plain": [
       "9"
      ]
     },
     "execution_count": 44,
     "metadata": {},
     "output_type": "execute_result"
    }
   ],
   "source": [
    "someday.day # extract day from someday"
   ]
  },
  {
   "cell_type": "code",
   "execution_count": 45,
   "metadata": {},
   "outputs": [
    {
     "data": {
      "text/plain": [
       "'2018-07-09'"
      ]
     },
     "execution_count": 45,
     "metadata": {},
     "output_type": "execute_result"
    }
   ],
   "source": [
    "str(someday)"
   ]
  },
  {
   "cell_type": "code",
   "execution_count": 46,
   "metadata": {},
   "outputs": [
    {
     "data": {
      "text/plain": [
       "datetime.datetime(2018, 7, 9, 0, 0)"
      ]
     },
     "execution_count": 46,
     "metadata": {},
     "output_type": "execute_result"
    }
   ],
   "source": [
    "dt.datetime(2018, 7, 9) # datatime need time, default time is midnight"
   ]
  },
  {
   "cell_type": "code",
   "execution_count": 47,
   "metadata": {},
   "outputs": [
    {
     "data": {
      "text/plain": [
       "datetime.datetime(2018, 7, 9, 15, 30, 55)"
      ]
     },
     "execution_count": 47,
     "metadata": {},
     "output_type": "execute_result"
    }
   ],
   "source": [
    "sometime = dt.datetime(2018, 7, 9, 15, 30, 55) # Year, Month, Day, Hour, Minute, Second\n",
    "sometime"
   ]
  },
  {
   "cell_type": "code",
   "execution_count": 48,
   "metadata": {},
   "outputs": [
    {
     "data": {
      "text/plain": [
       "'2018-07-09 15:30:55'"
      ]
     },
     "execution_count": 48,
     "metadata": {},
     "output_type": "execute_result"
    }
   ],
   "source": [
    "str(sometime)"
   ]
  },
  {
   "cell_type": "code",
   "execution_count": 49,
   "metadata": {},
   "outputs": [
    {
     "data": {
      "text/plain": [
       "55"
      ]
     },
     "execution_count": 49,
     "metadata": {},
     "output_type": "execute_result"
    }
   ],
   "source": [
    "sometime.year\n",
    "sometime.month\n",
    "sometime.day\n",
    "sometime.hour\n",
    "sometime.minute\n",
    "sometime.second"
   ]
  },
  {
   "cell_type": "markdown",
   "metadata": {},
   "source": [
    "## The pandas Timestamp Object\n",
    "* pandas version of date and datetime\n",
    "* felxible to interpret"
   ]
  },
  {
   "cell_type": "code",
   "execution_count": 50,
   "metadata": {},
   "outputs": [],
   "source": [
    "import pandas as pd"
   ]
  },
  {
   "cell_type": "code",
   "execution_count": 51,
   "metadata": {},
   "outputs": [
    {
     "data": {
      "text/plain": [
       "Timestamp('2015-03-31 00:00:00')"
      ]
     },
     "execution_count": 51,
     "metadata": {},
     "output_type": "execute_result"
    }
   ],
   "source": [
    "pd.Timestamp(\"2015-03-31\")"
   ]
  },
  {
   "cell_type": "code",
   "execution_count": 52,
   "metadata": {},
   "outputs": [
    {
     "data": {
      "text/plain": [
       "Timestamp('2015-03-31 00:00:00')"
      ]
     },
     "execution_count": 52,
     "metadata": {},
     "output_type": "execute_result"
    }
   ],
   "source": [
    "pd.Timestamp(\"2015-mar-31\")"
   ]
  },
  {
   "cell_type": "code",
   "execution_count": 53,
   "metadata": {},
   "outputs": [
    {
     "data": {
      "text/plain": [
       "Timestamp('2015-03-31 00:00:00')"
      ]
     },
     "execution_count": 53,
     "metadata": {},
     "output_type": "execute_result"
    }
   ],
   "source": [
    "pd.Timestamp(\"2015/3/31\")"
   ]
  },
  {
   "cell_type": "code",
   "execution_count": 54,
   "metadata": {},
   "outputs": [
    {
     "data": {
      "text/plain": [
       "Timestamp('2015-01-01 00:00:00')"
      ]
     },
     "execution_count": 54,
     "metadata": {},
     "output_type": "execute_result"
    }
   ],
   "source": [
    "pd.Timestamp(\"1/1/2015\")"
   ]
  },
  {
   "cell_type": "code",
   "execution_count": 55,
   "metadata": {},
   "outputs": [
    {
     "data": {
      "text/plain": [
       "Timestamp('2015-07-09 00:00:00')"
      ]
     },
     "execution_count": 55,
     "metadata": {},
     "output_type": "execute_result"
    }
   ],
   "source": [
    "pd.Timestamp(\"2015, 7, 9\")"
   ]
  },
  {
   "cell_type": "code",
   "execution_count": 56,
   "metadata": {},
   "outputs": [
    {
     "data": {
      "text/plain": [
       "Timestamp('2015-07-09 00:00:00')"
      ]
     },
     "execution_count": 56,
     "metadata": {},
     "output_type": "execute_result"
    }
   ],
   "source": [
    "pd.Timestamp(\"July/9/2015\")"
   ]
  },
  {
   "cell_type": "code",
   "execution_count": 57,
   "metadata": {},
   "outputs": [
    {
     "data": {
      "text/plain": [
       "Timestamp('2015-03-31 08:35:30')"
      ]
     },
     "execution_count": 57,
     "metadata": {},
     "output_type": "execute_result"
    }
   ],
   "source": [
    "pd.Timestamp(\"2015/3/31 08:35:30\")"
   ]
  },
  {
   "cell_type": "code",
   "execution_count": 58,
   "metadata": {},
   "outputs": [
    {
     "data": {
      "text/plain": [
       "Timestamp('2015-03-31 20:35:30')"
      ]
     },
     "execution_count": 58,
     "metadata": {},
     "output_type": "execute_result"
    }
   ],
   "source": [
    "pd.Timestamp(\"2015/3/31 08:35:30 PM\")"
   ]
  },
  {
   "cell_type": "code",
   "execution_count": 59,
   "metadata": {},
   "outputs": [
    {
     "data": {
      "text/plain": [
       "Timestamp('2018-07-09 00:00:00')"
      ]
     },
     "execution_count": 59,
     "metadata": {},
     "output_type": "execute_result"
    }
   ],
   "source": [
    "pd.Timestamp(someday)"
   ]
  },
  {
   "cell_type": "code",
   "execution_count": 60,
   "metadata": {},
   "outputs": [
    {
     "data": {
      "text/plain": [
       "Timestamp('2018-07-09 15:30:55')"
      ]
     },
     "execution_count": 60,
     "metadata": {},
     "output_type": "execute_result"
    }
   ],
   "source": [
    "pd.Timestamp(sometime)"
   ]
  },
  {
   "cell_type": "markdown",
   "metadata": {},
   "source": [
    "## The Pandas DateTimeIndex Object"
   ]
  },
  {
   "cell_type": "code",
   "execution_count": 3,
   "metadata": {},
   "outputs": [],
   "source": [
    "import pandas as pd\n",
    "import datetime as dt"
   ]
  },
  {
   "cell_type": "code",
   "execution_count": 62,
   "metadata": {},
   "outputs": [
    {
     "data": {
      "text/plain": [
       "DatetimeIndex(['2018-02-04', '2018-03-04', '2018-04-06'], dtype='datetime64[ns]', freq=None)"
      ]
     },
     "execution_count": 62,
     "metadata": {},
     "output_type": "execute_result"
    }
   ],
   "source": [
    "dates = [\"2018/2/4\",\"2018/3/4\",\"2018/4/6\"]\n",
    "pd.DatetimeIndex(dates) # This is a container"
   ]
  },
  {
   "cell_type": "code",
   "execution_count": 63,
   "metadata": {},
   "outputs": [],
   "source": [
    "dates = [dt.date(2016, 1, 10), dt.date(1999, 4, 3), dt.date(1995, 12,11)]"
   ]
  },
  {
   "cell_type": "code",
   "execution_count": 64,
   "metadata": {},
   "outputs": [
    {
     "data": {
      "text/plain": [
       "list"
      ]
     },
     "execution_count": 64,
     "metadata": {},
     "output_type": "execute_result"
    }
   ],
   "source": [
    "type(dates)"
   ]
  },
  {
   "cell_type": "code",
   "execution_count": 65,
   "metadata": {},
   "outputs": [
    {
     "data": {
      "text/plain": [
       "DatetimeIndex(['2016-01-10', '1999-04-03', '1995-12-11'], dtype='datetime64[ns]', freq=None)"
      ]
     },
     "execution_count": 65,
     "metadata": {},
     "output_type": "execute_result"
    }
   ],
   "source": [
    "dtIndex = pd.DatetimeIndex(dates)\n",
    "dtIndex"
   ]
  },
  {
   "cell_type": "code",
   "execution_count": 66,
   "metadata": {},
   "outputs": [
    {
     "data": {
      "text/plain": [
       "2016-01-10    100\n",
       "1999-04-03    200\n",
       "1995-12-11    300\n",
       "dtype: int64"
      ]
     },
     "execution_count": 66,
     "metadata": {},
     "output_type": "execute_result"
    }
   ],
   "source": [
    "values = [100,200,300]\n",
    "pd.Series(data = values, index = dtIndex)  # DateTimeIndex serve as Index"
   ]
  },
  {
   "cell_type": "markdown",
   "metadata": {},
   "source": [
    "## The pd.to_datetime() Method"
   ]
  },
  {
   "cell_type": "code",
   "execution_count": 67,
   "metadata": {},
   "outputs": [
    {
     "data": {
      "text/plain": [
       "Timestamp('2010-01-24 00:00:00')"
      ]
     },
     "execution_count": 67,
     "metadata": {},
     "output_type": "execute_result"
    }
   ],
   "source": [
    "pd.to_datetime(\"2010-1-24\")"
   ]
  },
  {
   "cell_type": "code",
   "execution_count": 68,
   "metadata": {},
   "outputs": [
    {
     "data": {
      "text/plain": [
       "Timestamp('2015-01-01 00:00:00')"
      ]
     },
     "execution_count": 68,
     "metadata": {},
     "output_type": "execute_result"
    }
   ],
   "source": [
    "pd.to_datetime(dt.date(2015, 1 ,1 ))"
   ]
  },
  {
   "cell_type": "code",
   "execution_count": 69,
   "metadata": {},
   "outputs": [
    {
     "data": {
      "text/plain": [
       "datetime.date(2015, 1, 1)"
      ]
     },
     "execution_count": 69,
     "metadata": {},
     "output_type": "execute_result"
    }
   ],
   "source": [
    "dt.date(2015 ,1, 1)"
   ]
  },
  {
   "cell_type": "code",
   "execution_count": 70,
   "metadata": {},
   "outputs": [
    {
     "data": {
      "text/plain": [
       "Timestamp('2015-01-01 14:24:30')"
      ]
     },
     "execution_count": 70,
     "metadata": {},
     "output_type": "execute_result"
    }
   ],
   "source": [
    "pd.to_datetime(dt.datetime(2015,1 ,1 ,14, 24, 30 ))"
   ]
  },
  {
   "cell_type": "code",
   "execution_count": 71,
   "metadata": {},
   "outputs": [
    {
     "data": {
      "text/plain": [
       "Timestamp('2015-01-01 14:24:30')"
      ]
     },
     "execution_count": 71,
     "metadata": {},
     "output_type": "execute_result"
    }
   ],
   "source": [
    "pd.Timestamp(dt.datetime(2015,1 ,1 ,14, 24, 30 ))"
   ]
  },
  {
   "cell_type": "code",
   "execution_count": 72,
   "metadata": {},
   "outputs": [
    {
     "data": {
      "text/plain": [
       "DatetimeIndex(['2016-02-03', '2011-12-11', '2017-01-01', '2010-03-01'], dtype='datetime64[ns]', freq=None)"
      ]
     },
     "execution_count": 72,
     "metadata": {},
     "output_type": "execute_result"
    }
   ],
   "source": [
    "pd.to_datetime([\"2016/2/3\", \"2011-12-11\", \"2017\", \"2010/3\"])  # pandas can normalize the look"
   ]
  },
  {
   "cell_type": "code",
   "execution_count": 73,
   "metadata": {},
   "outputs": [
    {
     "data": {
      "text/plain": [
       "0      2016/2/3\n",
       "1    2011-12-11\n",
       "2          2017\n",
       "3        2010/3\n",
       "dtype: object"
      ]
     },
     "execution_count": 73,
     "metadata": {},
     "output_type": "execute_result"
    }
   ],
   "source": [
    "times = pd.Series([\"2016/2/3\", \"2011-12-11\", \"2017\", \"2010/3\"])\n",
    "times"
   ]
  },
  {
   "cell_type": "code",
   "execution_count": 74,
   "metadata": {},
   "outputs": [
    {
     "data": {
      "text/plain": [
       "0   2016-02-03\n",
       "1   2011-12-11\n",
       "2   2017-01-01\n",
       "3   2010-03-01\n",
       "dtype: datetime64[ns]"
      ]
     },
     "execution_count": 74,
     "metadata": {},
     "output_type": "execute_result"
    }
   ],
   "source": [
    "pd.to_datetime(times)"
   ]
  },
  {
   "cell_type": "code",
   "execution_count": 75,
   "metadata": {},
   "outputs": [
    {
     "data": {
      "text/plain": [
       "0    july 4th 1996\n",
       "1       10/04/2001\n",
       "2            Hello\n",
       "3        2015/2/30\n",
       "dtype: object"
      ]
     },
     "execution_count": 75,
     "metadata": {},
     "output_type": "execute_result"
    }
   ],
   "source": [
    "dates = pd.Series([\"july 4th 1996\", \"10/04/2001\", \"Hello\", \"2015/2/30\"])\n",
    "dates"
   ]
  },
  {
   "cell_type": "code",
   "execution_count": 76,
   "metadata": {},
   "outputs": [],
   "source": [
    "# pd.to_datetime(dates) \n",
    "# We will see an error message. \n",
    "# It cannot convert \"Hello\" to date.ValueError: ('Unknown string format:', 'Hello')\n"
   ]
  },
  {
   "cell_type": "code",
   "execution_count": 77,
   "metadata": {},
   "outputs": [
    {
     "data": {
      "text/plain": [
       "0   1996-07-04\n",
       "1   2001-10-04\n",
       "2          NaT\n",
       "3          NaT\n",
       "dtype: datetime64[ns]"
      ]
     },
     "execution_count": 77,
     "metadata": {},
     "output_type": "execute_result"
    }
   ],
   "source": [
    "pd.to_datetime(dates, errors = \"coerce\") # \"coerce\" converts those that can convert to dates and put NAT to others"
   ]
  },
  {
   "cell_type": "code",
   "execution_count": 78,
   "metadata": {},
   "outputs": [
    {
     "data": {
      "text/plain": [
       "DatetimeIndex(['2018-09-06 23:31:50', '2017-05-01 15:11:15'], dtype='datetime64[ns]', freq=None)"
      ]
     },
     "execution_count": 78,
     "metadata": {},
     "output_type": "execute_result"
    }
   ],
   "source": [
    "pd.to_datetime([1536276710, 1493651475], unit = \"s\") #This is the Unix time. \"s\" stands for second."
   ]
  },
  {
   "cell_type": "markdown",
   "metadata": {},
   "source": [
    "## Create Range of Dates with the pd.date_range() Method, Part1\n",
    "* start and end are inclusive"
   ]
  },
  {
   "cell_type": "code",
   "execution_count": 79,
   "metadata": {},
   "outputs": [],
   "source": [
    "times = pd.date_range(start = \"2016/01/01\",end = \"2016/1/10\", freq = \"1D\") \n",
    "# At least two of those - start, end, and period -  parameters are required\n",
    "# freq parameter is frequency"
   ]
  },
  {
   "cell_type": "code",
   "execution_count": 80,
   "metadata": {},
   "outputs": [
    {
     "data": {
      "text/plain": [
       "pandas.core.indexes.datetimes.DatetimeIndex"
      ]
     },
     "execution_count": 80,
     "metadata": {},
     "output_type": "execute_result"
    }
   ],
   "source": [
    "type(times)"
   ]
  },
  {
   "cell_type": "code",
   "execution_count": 81,
   "metadata": {},
   "outputs": [
    {
     "data": {
      "text/plain": [
       "Timestamp('2016-01-01 00:00:00', freq='D')"
      ]
     },
     "execution_count": 81,
     "metadata": {},
     "output_type": "execute_result"
    }
   ],
   "source": [
    "times[0]"
   ]
  },
  {
   "cell_type": "code",
   "execution_count": 82,
   "metadata": {},
   "outputs": [
    {
     "data": {
      "text/plain": [
       "DatetimeIndex(['2016-01-01', '2016-01-03', '2016-01-05', '2016-01-07',\n",
       "               '2016-01-09'],\n",
       "              dtype='datetime64[ns]', freq='2D')"
      ]
     },
     "execution_count": 82,
     "metadata": {},
     "output_type": "execute_result"
    }
   ],
   "source": [
    "times = pd.date_range(start = \"2016/01/01\",end = \"2016/1/10\", freq = \"2D\")\n",
    "times"
   ]
  },
  {
   "cell_type": "code",
   "execution_count": 83,
   "metadata": {},
   "outputs": [
    {
     "data": {
      "text/plain": [
       "DatetimeIndex(['2016-01-01', '2016-01-04', '2016-01-05', '2016-01-06',\n",
       "               '2016-01-07', '2016-01-08'],\n",
       "              dtype='datetime64[ns]', freq='B')"
      ]
     },
     "execution_count": 83,
     "metadata": {},
     "output_type": "execute_result"
    }
   ],
   "source": [
    "times = pd.date_range(start = \"2016/01/01\",end = \"2016/1/10\", freq = \"B\") # \"B\" is business days\n",
    "times"
   ]
  },
  {
   "cell_type": "code",
   "execution_count": 84,
   "metadata": {},
   "outputs": [
    {
     "data": {
      "text/plain": [
       "DatetimeIndex(['2018-09-03', '2018-09-04', '2018-09-05', '2018-09-06',\n",
       "               '2018-09-07', '2018-09-10', '2018-09-11', '2018-09-12',\n",
       "               '2018-09-13', '2018-09-14', '2018-09-17', '2018-09-18',\n",
       "               '2018-09-19', '2018-09-20', '2018-09-21', '2018-09-24',\n",
       "               '2018-09-25', '2018-09-26', '2018-09-27', '2018-09-28'],\n",
       "              dtype='datetime64[ns]', freq='B')"
      ]
     },
     "execution_count": 84,
     "metadata": {},
     "output_type": "execute_result"
    }
   ],
   "source": [
    "times = pd.date_range(start = \"2018/09/01\",end = \"2018/9/30\", freq = \"B\") # \"B\" is business days\n",
    "times"
   ]
  },
  {
   "cell_type": "code",
   "execution_count": 85,
   "metadata": {},
   "outputs": [
    {
     "data": {
      "text/plain": [
       "DatetimeIndex(['2018-09-02', '2018-09-09', '2018-09-16', '2018-09-23',\n",
       "               '2018-09-30'],\n",
       "              dtype='datetime64[ns]', freq='W-SUN')"
      ]
     },
     "execution_count": 85,
     "metadata": {},
     "output_type": "execute_result"
    }
   ],
   "source": [
    "times = pd.date_range(start = \"2018/09/01\",end = \"2018/9/30\", freq = \"W\") # \"W\" means week\n",
    "times # default begins the week at Sunday"
   ]
  },
  {
   "cell_type": "code",
   "execution_count": 86,
   "metadata": {},
   "outputs": [
    {
     "data": {
      "text/plain": [
       "DatetimeIndex(['2018-09-03', '2018-09-10', '2018-09-17', '2018-09-24'], dtype='datetime64[ns]', freq='W-MON')"
      ]
     },
     "execution_count": 86,
     "metadata": {},
     "output_type": "execute_result"
    }
   ],
   "source": [
    "times = pd.date_range(start = \"2018/09/01\",end = \"2018/9/30\", freq = \"W-MON\") # \"W\" means week\n",
    "times # begins the week at Monday"
   ]
  },
  {
   "cell_type": "code",
   "execution_count": 87,
   "metadata": {},
   "outputs": [
    {
     "data": {
      "text/plain": [
       "DatetimeIndex(['2018-09-01 00:00:00', '2018-09-01 01:00:00',\n",
       "               '2018-09-01 02:00:00', '2018-09-01 03:00:00',\n",
       "               '2018-09-01 04:00:00', '2018-09-01 05:00:00',\n",
       "               '2018-09-01 06:00:00', '2018-09-01 07:00:00',\n",
       "               '2018-09-01 08:00:00', '2018-09-01 09:00:00',\n",
       "               ...\n",
       "               '2018-09-29 15:00:00', '2018-09-29 16:00:00',\n",
       "               '2018-09-29 17:00:00', '2018-09-29 18:00:00',\n",
       "               '2018-09-29 19:00:00', '2018-09-29 20:00:00',\n",
       "               '2018-09-29 21:00:00', '2018-09-29 22:00:00',\n",
       "               '2018-09-29 23:00:00', '2018-09-30 00:00:00'],\n",
       "              dtype='datetime64[ns]', length=697, freq='H')"
      ]
     },
     "execution_count": 87,
     "metadata": {},
     "output_type": "execute_result"
    }
   ],
   "source": [
    "times = pd.date_range(start = \"2018/09/01\",end = \"2018/9/30\", freq = \"H\") # \"H\" means hours\n",
    "times "
   ]
  },
  {
   "cell_type": "code",
   "execution_count": 88,
   "metadata": {},
   "outputs": [
    {
     "data": {
      "text/plain": [
       "DatetimeIndex(['2018-09-01 00:00:00', '2018-09-01 06:00:00',\n",
       "               '2018-09-01 12:00:00', '2018-09-01 18:00:00',\n",
       "               '2018-09-02 00:00:00', '2018-09-02 06:00:00',\n",
       "               '2018-09-02 12:00:00', '2018-09-02 18:00:00',\n",
       "               '2018-09-03 00:00:00', '2018-09-03 06:00:00',\n",
       "               ...\n",
       "               '2018-09-27 18:00:00', '2018-09-28 00:00:00',\n",
       "               '2018-09-28 06:00:00', '2018-09-28 12:00:00',\n",
       "               '2018-09-28 18:00:00', '2018-09-29 00:00:00',\n",
       "               '2018-09-29 06:00:00', '2018-09-29 12:00:00',\n",
       "               '2018-09-29 18:00:00', '2018-09-30 00:00:00'],\n",
       "              dtype='datetime64[ns]', length=117, freq='6H')"
      ]
     },
     "execution_count": 88,
     "metadata": {},
     "output_type": "execute_result"
    }
   ],
   "source": [
    "times = pd.date_range(start = \"2018/09/01\",end = \"2018/9/30\", freq = \"6H\") # \"H\" means hours\n",
    "times "
   ]
  },
  {
   "cell_type": "code",
   "execution_count": 89,
   "metadata": {},
   "outputs": [
    {
     "data": {
      "text/plain": [
       "DatetimeIndex(['2018-01-31', '2018-02-28', '2018-03-31', '2018-04-30',\n",
       "               '2018-05-31', '2018-06-30', '2018-07-31', '2018-08-31',\n",
       "               '2018-09-30', '2018-10-31', '2018-11-30', '2018-12-31'],\n",
       "              dtype='datetime64[ns]', freq='M')"
      ]
     },
     "execution_count": 89,
     "metadata": {},
     "output_type": "execute_result"
    }
   ],
   "source": [
    "times = pd.date_range(start = \"2018/01/01\",end = \"2018/12/31\", freq = \"M\") # \"M\" means end of month\n",
    "times "
   ]
  },
  {
   "cell_type": "code",
   "execution_count": 90,
   "metadata": {},
   "outputs": [
    {
     "data": {
      "text/plain": [
       "DatetimeIndex(['2018-01-31', '2018-02-28', '2018-03-30', '2018-04-30',\n",
       "               '2018-05-31', '2018-06-29', '2018-07-31', '2018-08-31',\n",
       "               '2018-09-28', '2018-10-31', '2018-11-30', '2018-12-31'],\n",
       "              dtype='datetime64[ns]', freq='BM')"
      ]
     },
     "execution_count": 90,
     "metadata": {},
     "output_type": "execute_result"
    }
   ],
   "source": [
    "times = pd.date_range(start = \"2018/01/01\",end = \"2018/12/31\", freq = \"BM\") # \"BM\" means end of month's business day\n",
    "times "
   ]
  },
  {
   "cell_type": "code",
   "execution_count": 4,
   "metadata": {},
   "outputs": [
    {
     "data": {
      "text/plain": [
       "DatetimeIndex(['2018-01-01', '2018-02-01', '2018-03-01', '2018-04-01',\n",
       "               '2018-05-01', '2018-06-01', '2018-07-01', '2018-08-01',\n",
       "               '2018-09-01', '2018-10-01', '2018-11-01', '2018-12-01'],\n",
       "              dtype='datetime64[ns]', freq='MS')"
      ]
     },
     "execution_count": 4,
     "metadata": {},
     "output_type": "execute_result"
    }
   ],
   "source": [
    "times = pd.date_range(start = \"2018/01/01\",end = \"2018/12/31\", freq = \"MS\") # \"MS\" stands for Month Start \n",
    "times"
   ]
  },
  {
   "cell_type": "code",
   "execution_count": 8,
   "metadata": {},
   "outputs": [
    {
     "data": {
      "text/plain": [
       "DatetimeIndex(['2018-12-31', '2019-12-31', '2020-12-31', '2021-12-31',\n",
       "               '2022-12-31', '2023-12-31', '2024-12-31', '2025-12-31'],\n",
       "              dtype='datetime64[ns]', freq='A-DEC')"
      ]
     },
     "execution_count": 8,
     "metadata": {},
     "output_type": "execute_result"
    }
   ],
   "source": [
    "times = pd.date_range(start = \"2018/01/01\",end = \"2025/12/31\", freq = \"A\") # \"A\" stands for Year End. last day of the year \n",
    "times"
   ]
  },
  {
   "cell_type": "markdown",
   "metadata": {},
   "source": [
    "## Create Range of Dates with the pd.date_range() Method, Part2"
   ]
  },
  {
   "cell_type": "code",
   "execution_count": 12,
   "metadata": {},
   "outputs": [
    {
     "data": {
      "text/plain": [
       "DatetimeIndex(['2012-01-01', '2012-01-02', '2012-01-03', '2012-01-04',\n",
       "               '2012-01-05', '2012-01-06', '2012-01-07', '2012-01-08',\n",
       "               '2012-01-09', '2012-01-10', '2012-01-11', '2012-01-12',\n",
       "               '2012-01-13', '2012-01-14', '2012-01-15', '2012-01-16',\n",
       "               '2012-01-17', '2012-01-18', '2012-01-19', '2012-01-20',\n",
       "               '2012-01-21', '2012-01-22', '2012-01-23', '2012-01-24',\n",
       "               '2012-01-25'],\n",
       "              dtype='datetime64[ns]', freq='D')"
      ]
     },
     "execution_count": 12,
     "metadata": {},
     "output_type": "execute_result"
    }
   ],
   "source": [
    "pd.date_range(start = \"2012/1/1\", periods = 25, freq = \"D\")"
   ]
  },
  {
   "cell_type": "code",
   "execution_count": 13,
   "metadata": {},
   "outputs": [
    {
     "data": {
      "text/plain": [
       "25"
      ]
     },
     "execution_count": 13,
     "metadata": {},
     "output_type": "execute_result"
    }
   ],
   "source": [
    "len(pd.date_range(start = \"2012/1/1\", periods = 25, freq = \"D\"))"
   ]
  },
  {
   "cell_type": "code",
   "execution_count": 15,
   "metadata": {},
   "outputs": [
    {
     "data": {
      "text/plain": [
       "DatetimeIndex(['2012-01-01', '2012-01-02', '2012-01-03', '2012-01-04',\n",
       "               '2012-01-05', '2012-01-06', '2012-01-07', '2012-01-08',\n",
       "               '2012-01-09', '2012-01-10', '2012-01-11', '2012-01-12',\n",
       "               '2012-01-13', '2012-01-14', '2012-01-15', '2012-01-16',\n",
       "               '2012-01-17', '2012-01-18', '2012-01-19', '2012-01-20',\n",
       "               '2012-01-21', '2012-01-22', '2012-01-23', '2012-01-24',\n",
       "               '2012-01-25', '2012-01-26', '2012-01-27', '2012-01-28',\n",
       "               '2012-01-29', '2012-01-30', '2012-01-31', '2012-02-01',\n",
       "               '2012-02-02', '2012-02-03', '2012-02-04', '2012-02-05',\n",
       "               '2012-02-06', '2012-02-07', '2012-02-08', '2012-02-09',\n",
       "               '2012-02-10', '2012-02-11', '2012-02-12', '2012-02-13',\n",
       "               '2012-02-14', '2012-02-15', '2012-02-16', '2012-02-17',\n",
       "               '2012-02-18', '2012-02-19'],\n",
       "              dtype='datetime64[ns]', freq='D')"
      ]
     },
     "execution_count": 15,
     "metadata": {},
     "output_type": "execute_result"
    }
   ],
   "source": [
    "pd.date_range(start = \"2012/1/1\", periods = 50, freq = \"D\") # Days"
   ]
  },
  {
   "cell_type": "code",
   "execution_count": 16,
   "metadata": {},
   "outputs": [
    {
     "data": {
      "text/plain": [
       "DatetimeIndex(['2012-01-02', '2012-01-03', '2012-01-04', '2012-01-05',\n",
       "               '2012-01-06', '2012-01-09', '2012-01-10', '2012-01-11',\n",
       "               '2012-01-12', '2012-01-13', '2012-01-16', '2012-01-17',\n",
       "               '2012-01-18', '2012-01-19', '2012-01-20', '2012-01-23',\n",
       "               '2012-01-24', '2012-01-25', '2012-01-26', '2012-01-27',\n",
       "               '2012-01-30', '2012-01-31', '2012-02-01', '2012-02-02',\n",
       "               '2012-02-03', '2012-02-06', '2012-02-07', '2012-02-08',\n",
       "               '2012-02-09', '2012-02-10', '2012-02-13', '2012-02-14',\n",
       "               '2012-02-15', '2012-02-16', '2012-02-17', '2012-02-20',\n",
       "               '2012-02-21', '2012-02-22', '2012-02-23', '2012-02-24',\n",
       "               '2012-02-27', '2012-02-28', '2012-02-29', '2012-03-01',\n",
       "               '2012-03-02', '2012-03-05', '2012-03-06', '2012-03-07',\n",
       "               '2012-03-08', '2012-03-09'],\n",
       "              dtype='datetime64[ns]', freq='B')"
      ]
     },
     "execution_count": 16,
     "metadata": {},
     "output_type": "execute_result"
    }
   ],
   "source": [
    "pd.date_range(start = \"2012/1/1\", periods = 50, freq = \"B\")  # Business Days, skipping weekend"
   ]
  },
  {
   "cell_type": "code",
   "execution_count": 18,
   "metadata": {},
   "outputs": [
    {
     "data": {
      "text/plain": [
       "DatetimeIndex(['2018-01-07', '2018-01-14', '2018-01-21', '2018-01-28',\n",
       "               '2018-02-04', '2018-02-11', '2018-02-18', '2018-02-25',\n",
       "               '2018-03-04', '2018-03-11', '2018-03-18', '2018-03-25',\n",
       "               '2018-04-01', '2018-04-08', '2018-04-15', '2018-04-22',\n",
       "               '2018-04-29', '2018-05-06', '2018-05-13', '2018-05-20',\n",
       "               '2018-05-27', '2018-06-03', '2018-06-10', '2018-06-17',\n",
       "               '2018-06-24', '2018-07-01', '2018-07-08', '2018-07-15',\n",
       "               '2018-07-22', '2018-07-29', '2018-08-05', '2018-08-12',\n",
       "               '2018-08-19', '2018-08-26', '2018-09-02', '2018-09-09',\n",
       "               '2018-09-16', '2018-09-23', '2018-09-30', '2018-10-07',\n",
       "               '2018-10-14', '2018-10-21', '2018-10-28', '2018-11-04',\n",
       "               '2018-11-11', '2018-11-18', '2018-11-25', '2018-12-02',\n",
       "               '2018-12-09', '2018-12-16'],\n",
       "              dtype='datetime64[ns]', freq='W-SUN')"
      ]
     },
     "execution_count": 18,
     "metadata": {},
     "output_type": "execute_result"
    }
   ],
   "source": [
    "pd.date_range(start = \"2018/1/1\", periods = 50, freq = \"W\")  # weeks start from Sunday"
   ]
  },
  {
   "cell_type": "code",
   "execution_count": 19,
   "metadata": {},
   "outputs": [
    {
     "data": {
      "text/plain": [
       "DatetimeIndex(['2018-01-07', '2018-01-14', '2018-01-21', '2018-01-28',\n",
       "               '2018-02-04', '2018-02-11', '2018-02-18', '2018-02-25',\n",
       "               '2018-03-04', '2018-03-11', '2018-03-18', '2018-03-25',\n",
       "               '2018-04-01', '2018-04-08', '2018-04-15', '2018-04-22',\n",
       "               '2018-04-29', '2018-05-06', '2018-05-13', '2018-05-20',\n",
       "               '2018-05-27', '2018-06-03', '2018-06-10', '2018-06-17',\n",
       "               '2018-06-24', '2018-07-01', '2018-07-08', '2018-07-15',\n",
       "               '2018-07-22', '2018-07-29', '2018-08-05', '2018-08-12',\n",
       "               '2018-08-19', '2018-08-26', '2018-09-02', '2018-09-09',\n",
       "               '2018-09-16', '2018-09-23', '2018-09-30', '2018-10-07',\n",
       "               '2018-10-14', '2018-10-21', '2018-10-28', '2018-11-04',\n",
       "               '2018-11-11', '2018-11-18', '2018-11-25', '2018-12-02',\n",
       "               '2018-12-09', '2018-12-16'],\n",
       "              dtype='datetime64[ns]', freq='W-SUN')"
      ]
     },
     "execution_count": 19,
     "metadata": {},
     "output_type": "execute_result"
    }
   ],
   "source": [
    "pd.date_range(start = \"2018/1/1\", periods = 50, freq = \"W-SUN\")  # weeks start from Sunday"
   ]
  },
  {
   "cell_type": "code",
   "execution_count": 20,
   "metadata": {},
   "outputs": [
    {
     "data": {
      "text/plain": [
       "DatetimeIndex(['2018-01-01', '2018-01-08', '2018-01-15', '2018-01-22',\n",
       "               '2018-01-29', '2018-02-05', '2018-02-12', '2018-02-19',\n",
       "               '2018-02-26', '2018-03-05', '2018-03-12', '2018-03-19',\n",
       "               '2018-03-26', '2018-04-02', '2018-04-09', '2018-04-16',\n",
       "               '2018-04-23', '2018-04-30', '2018-05-07', '2018-05-14',\n",
       "               '2018-05-21', '2018-05-28', '2018-06-04', '2018-06-11',\n",
       "               '2018-06-18', '2018-06-25', '2018-07-02', '2018-07-09',\n",
       "               '2018-07-16', '2018-07-23', '2018-07-30', '2018-08-06',\n",
       "               '2018-08-13', '2018-08-20', '2018-08-27', '2018-09-03',\n",
       "               '2018-09-10', '2018-09-17', '2018-09-24', '2018-10-01',\n",
       "               '2018-10-08', '2018-10-15', '2018-10-22', '2018-10-29',\n",
       "               '2018-11-05', '2018-11-12', '2018-11-19', '2018-11-26',\n",
       "               '2018-12-03', '2018-12-10'],\n",
       "              dtype='datetime64[ns]', freq='W-MON')"
      ]
     },
     "execution_count": 20,
     "metadata": {},
     "output_type": "execute_result"
    }
   ],
   "source": [
    "pd.date_range(start = \"2018/1/1\", periods = 50, freq = \"W-MON\")  # weeks start from Sunday"
   ]
  },
  {
   "cell_type": "code",
   "execution_count": 21,
   "metadata": {},
   "outputs": [
    {
     "data": {
      "text/plain": [
       "DatetimeIndex(['2018-01-31', '2018-02-28', '2018-03-31', '2018-04-30',\n",
       "               '2018-05-31', '2018-06-30', '2018-07-31', '2018-08-31',\n",
       "               '2018-09-30', '2018-10-31', '2018-11-30', '2018-12-31',\n",
       "               '2019-01-31', '2019-02-28', '2019-03-31', '2019-04-30',\n",
       "               '2019-05-31', '2019-06-30', '2019-07-31', '2019-08-31',\n",
       "               '2019-09-30', '2019-10-31', '2019-11-30', '2019-12-31',\n",
       "               '2020-01-31', '2020-02-29', '2020-03-31', '2020-04-30',\n",
       "               '2020-05-31', '2020-06-30', '2020-07-31', '2020-08-31',\n",
       "               '2020-09-30', '2020-10-31', '2020-11-30', '2020-12-31',\n",
       "               '2021-01-31', '2021-02-28', '2021-03-31', '2021-04-30',\n",
       "               '2021-05-31', '2021-06-30', '2021-07-31', '2021-08-31',\n",
       "               '2021-09-30', '2021-10-31', '2021-11-30', '2021-12-31',\n",
       "               '2022-01-31', '2022-02-28'],\n",
       "              dtype='datetime64[ns]', freq='M')"
      ]
     },
     "execution_count": 21,
     "metadata": {},
     "output_type": "execute_result"
    }
   ],
   "source": [
    "pd.date_range(start = \"2018/1/1\", periods = 50, freq = \"M\")  # months"
   ]
  },
  {
   "cell_type": "code",
   "execution_count": 22,
   "metadata": {},
   "outputs": [
    {
     "data": {
      "text/plain": [
       "DatetimeIndex(['2018-12-31', '2019-12-31', '2020-12-31', '2021-12-31',\n",
       "               '2022-12-31', '2023-12-31', '2024-12-31', '2025-12-31',\n",
       "               '2026-12-31', '2027-12-31', '2028-12-31', '2029-12-31',\n",
       "               '2030-12-31', '2031-12-31', '2032-12-31', '2033-12-31',\n",
       "               '2034-12-31', '2035-12-31', '2036-12-31', '2037-12-31',\n",
       "               '2038-12-31', '2039-12-31', '2040-12-31', '2041-12-31',\n",
       "               '2042-12-31', '2043-12-31', '2044-12-31', '2045-12-31',\n",
       "               '2046-12-31', '2047-12-31', '2048-12-31', '2049-12-31',\n",
       "               '2050-12-31', '2051-12-31', '2052-12-31', '2053-12-31',\n",
       "               '2054-12-31', '2055-12-31', '2056-12-31', '2057-12-31',\n",
       "               '2058-12-31', '2059-12-31', '2060-12-31', '2061-12-31',\n",
       "               '2062-12-31', '2063-12-31', '2064-12-31', '2065-12-31',\n",
       "               '2066-12-31', '2067-12-31'],\n",
       "              dtype='datetime64[ns]', freq='A-DEC')"
      ]
     },
     "execution_count": 22,
     "metadata": {},
     "output_type": "execute_result"
    }
   ],
   "source": [
    "pd.date_range(start = \"2018/1/1\", periods = 50, freq = \"A\")  # years"
   ]
  },
  {
   "cell_type": "code",
   "execution_count": 23,
   "metadata": {},
   "outputs": [
    {
     "data": {
      "text/plain": [
       "DatetimeIndex(['2018-01-01 00:00:00', '2018-01-01 01:00:00',\n",
       "               '2018-01-01 02:00:00', '2018-01-01 03:00:00',\n",
       "               '2018-01-01 04:00:00', '2018-01-01 05:00:00',\n",
       "               '2018-01-01 06:00:00', '2018-01-01 07:00:00',\n",
       "               '2018-01-01 08:00:00', '2018-01-01 09:00:00',\n",
       "               '2018-01-01 10:00:00', '2018-01-01 11:00:00',\n",
       "               '2018-01-01 12:00:00', '2018-01-01 13:00:00',\n",
       "               '2018-01-01 14:00:00', '2018-01-01 15:00:00',\n",
       "               '2018-01-01 16:00:00', '2018-01-01 17:00:00',\n",
       "               '2018-01-01 18:00:00', '2018-01-01 19:00:00',\n",
       "               '2018-01-01 20:00:00', '2018-01-01 21:00:00',\n",
       "               '2018-01-01 22:00:00', '2018-01-01 23:00:00',\n",
       "               '2018-01-02 00:00:00', '2018-01-02 01:00:00',\n",
       "               '2018-01-02 02:00:00', '2018-01-02 03:00:00',\n",
       "               '2018-01-02 04:00:00', '2018-01-02 05:00:00',\n",
       "               '2018-01-02 06:00:00', '2018-01-02 07:00:00',\n",
       "               '2018-01-02 08:00:00', '2018-01-02 09:00:00',\n",
       "               '2018-01-02 10:00:00', '2018-01-02 11:00:00',\n",
       "               '2018-01-02 12:00:00', '2018-01-02 13:00:00',\n",
       "               '2018-01-02 14:00:00', '2018-01-02 15:00:00',\n",
       "               '2018-01-02 16:00:00', '2018-01-02 17:00:00',\n",
       "               '2018-01-02 18:00:00', '2018-01-02 19:00:00',\n",
       "               '2018-01-02 20:00:00', '2018-01-02 21:00:00',\n",
       "               '2018-01-02 22:00:00', '2018-01-02 23:00:00',\n",
       "               '2018-01-03 00:00:00', '2018-01-03 01:00:00'],\n",
       "              dtype='datetime64[ns]', freq='H')"
      ]
     },
     "execution_count": 23,
     "metadata": {},
     "output_type": "execute_result"
    }
   ],
   "source": [
    "pd.date_range(start = \"2018/1/1\", periods = 50, freq = \"H\")  # hours"
   ]
  },
  {
   "cell_type": "code",
   "execution_count": 24,
   "metadata": {},
   "outputs": [
    {
     "data": {
      "text/plain": [
       "DatetimeIndex(['2018-01-01 00:00:00', '2018-01-01 06:00:00',\n",
       "               '2018-01-01 12:00:00', '2018-01-01 18:00:00',\n",
       "               '2018-01-02 00:00:00', '2018-01-02 06:00:00',\n",
       "               '2018-01-02 12:00:00', '2018-01-02 18:00:00',\n",
       "               '2018-01-03 00:00:00', '2018-01-03 06:00:00',\n",
       "               '2018-01-03 12:00:00', '2018-01-03 18:00:00',\n",
       "               '2018-01-04 00:00:00', '2018-01-04 06:00:00',\n",
       "               '2018-01-04 12:00:00', '2018-01-04 18:00:00',\n",
       "               '2018-01-05 00:00:00', '2018-01-05 06:00:00',\n",
       "               '2018-01-05 12:00:00', '2018-01-05 18:00:00',\n",
       "               '2018-01-06 00:00:00', '2018-01-06 06:00:00',\n",
       "               '2018-01-06 12:00:00', '2018-01-06 18:00:00',\n",
       "               '2018-01-07 00:00:00', '2018-01-07 06:00:00',\n",
       "               '2018-01-07 12:00:00', '2018-01-07 18:00:00',\n",
       "               '2018-01-08 00:00:00', '2018-01-08 06:00:00',\n",
       "               '2018-01-08 12:00:00', '2018-01-08 18:00:00',\n",
       "               '2018-01-09 00:00:00', '2018-01-09 06:00:00',\n",
       "               '2018-01-09 12:00:00', '2018-01-09 18:00:00',\n",
       "               '2018-01-10 00:00:00', '2018-01-10 06:00:00',\n",
       "               '2018-01-10 12:00:00', '2018-01-10 18:00:00',\n",
       "               '2018-01-11 00:00:00', '2018-01-11 06:00:00',\n",
       "               '2018-01-11 12:00:00', '2018-01-11 18:00:00',\n",
       "               '2018-01-12 00:00:00', '2018-01-12 06:00:00',\n",
       "               '2018-01-12 12:00:00', '2018-01-12 18:00:00',\n",
       "               '2018-01-13 00:00:00', '2018-01-13 06:00:00'],\n",
       "              dtype='datetime64[ns]', freq='6H')"
      ]
     },
     "execution_count": 24,
     "metadata": {},
     "output_type": "execute_result"
    }
   ],
   "source": [
    "pd.date_range(start = \"2018/1/1\", periods = 50, freq = \"6H\")  # 6hours increments"
   ]
  },
  {
   "cell_type": "code",
   "execution_count": 30,
   "metadata": {},
   "outputs": [
    {
     "data": {
      "text/plain": [
       "DatetimeIndex(['2018-01-01 12:30:00', '2018-01-01 12:50:00',\n",
       "               '2018-01-01 13:10:00', '2018-01-01 13:30:00',\n",
       "               '2018-01-01 13:50:00', '2018-01-01 14:10:00',\n",
       "               '2018-01-01 14:30:00', '2018-01-01 14:50:00',\n",
       "               '2018-01-01 15:10:00'],\n",
       "              dtype='datetime64[ns]', freq='20T')"
      ]
     },
     "execution_count": 30,
     "metadata": {},
     "output_type": "execute_result"
    }
   ],
   "source": [
    "pd.date_range(start = \"2018/1/1 12:30:00\", periods = 9, freq = \"20min\")  # 20 minutes increments"
   ]
  },
  {
   "cell_type": "markdown",
   "metadata": {},
   "source": [
    "## Create Range of Dates with the pd.date_range()  Method, Part3"
   ]
  },
  {
   "cell_type": "code",
   "execution_count": 32,
   "metadata": {},
   "outputs": [
    {
     "data": {
      "text/plain": [
       "DatetimeIndex(['1999-12-12', '1999-12-13', '1999-12-14', '1999-12-15',\n",
       "               '1999-12-16', '1999-12-17', '1999-12-18', '1999-12-19',\n",
       "               '1999-12-20', '1999-12-21', '1999-12-22', '1999-12-23',\n",
       "               '1999-12-24', '1999-12-25', '1999-12-26', '1999-12-27',\n",
       "               '1999-12-28', '1999-12-29', '1999-12-30', '1999-12-31'],\n",
       "              dtype='datetime64[ns]', freq='D')"
      ]
     },
     "execution_count": 32,
     "metadata": {},
     "output_type": "execute_result"
    }
   ],
   "source": [
    "pd.date_range(end = \"1999/12/31\", periods = 20, freq = \"D\")"
   ]
  },
  {
   "cell_type": "code",
   "execution_count": 33,
   "metadata": {},
   "outputs": [
    {
     "data": {
      "text/plain": [
       "DatetimeIndex(['1999-12-06', '1999-12-07', '1999-12-08', '1999-12-09',\n",
       "               '1999-12-10', '1999-12-13', '1999-12-14', '1999-12-15',\n",
       "               '1999-12-16', '1999-12-17', '1999-12-20', '1999-12-21',\n",
       "               '1999-12-22', '1999-12-23', '1999-12-24', '1999-12-27',\n",
       "               '1999-12-28', '1999-12-29', '1999-12-30', '1999-12-31'],\n",
       "              dtype='datetime64[ns]', freq='B')"
      ]
     },
     "execution_count": 33,
     "metadata": {},
     "output_type": "execute_result"
    }
   ],
   "source": [
    "pd.date_range(end = \"1999/12/31\", periods = 20, freq = \"B\")"
   ]
  },
  {
   "cell_type": "code",
   "execution_count": 38,
   "metadata": {},
   "outputs": [
    {
     "data": {
      "text/plain": [
       "DatetimeIndex(['1999-08-15', '1999-08-22', '1999-08-29', '1999-09-05',\n",
       "               '1999-09-12', '1999-09-19', '1999-09-26', '1999-10-03',\n",
       "               '1999-10-10', '1999-10-17', '1999-10-24', '1999-10-31',\n",
       "               '1999-11-07', '1999-11-14', '1999-11-21', '1999-11-28',\n",
       "               '1999-12-05', '1999-12-12', '1999-12-19', '1999-12-26'],\n",
       "              dtype='datetime64[ns]', freq='W-SUN')"
      ]
     },
     "execution_count": 38,
     "metadata": {},
     "output_type": "execute_result"
    }
   ],
   "source": [
    "pd.date_range(end = \"1999/12/31\", periods = 20, freq = \"W-SUN\") # 20 Sundays before the end date"
   ]
  },
  {
   "cell_type": "code",
   "execution_count": 39,
   "metadata": {},
   "outputs": [
    {
     "data": {
      "text/plain": [
       "DatetimeIndex(['1998-05-31', '1998-06-30', '1998-07-31', '1998-08-31',\n",
       "               '1998-09-30', '1998-10-31', '1998-11-30', '1998-12-31',\n",
       "               '1999-01-31', '1999-02-28', '1999-03-31', '1999-04-30',\n",
       "               '1999-05-31', '1999-06-30', '1999-07-31', '1999-08-31',\n",
       "               '1999-09-30', '1999-10-31', '1999-11-30', '1999-12-31'],\n",
       "              dtype='datetime64[ns]', freq='M')"
      ]
     },
     "execution_count": 39,
     "metadata": {},
     "output_type": "execute_result"
    }
   ],
   "source": [
    "pd.date_range(end = \"1999/12/31\", periods = 20, freq = \"M\") # 20 Month end before the end date"
   ]
  },
  {
   "cell_type": "code",
   "execution_count": 44,
   "metadata": {},
   "outputs": [
    {
     "data": {
      "text/plain": [
       "DatetimeIndex(['1999-12-28 15:00:00', '1999-12-28 18:00:00',\n",
       "               '1999-12-28 21:00:00', '1999-12-29 00:00:00',\n",
       "               '1999-12-29 03:00:00', '1999-12-29 06:00:00',\n",
       "               '1999-12-29 09:00:00', '1999-12-29 12:00:00',\n",
       "               '1999-12-29 15:00:00', '1999-12-29 18:00:00',\n",
       "               '1999-12-29 21:00:00', '1999-12-30 00:00:00',\n",
       "               '1999-12-30 03:00:00', '1999-12-30 06:00:00',\n",
       "               '1999-12-30 09:00:00', '1999-12-30 12:00:00',\n",
       "               '1999-12-30 15:00:00', '1999-12-30 18:00:00',\n",
       "               '1999-12-30 21:00:00', '1999-12-31 00:00:00'],\n",
       "              dtype='datetime64[ns]', freq='3H')"
      ]
     },
     "execution_count": 44,
     "metadata": {},
     "output_type": "execute_result"
    }
   ],
   "source": [
    "pd.date_range(end = \"1999/12/31\", periods = 20, freq = \"3H\") # 20 Month end before the end date"
   ]
  },
  {
   "cell_type": "markdown",
   "metadata": {},
   "source": [
    "## The .dt Accessor"
   ]
  },
  {
   "cell_type": "code",
   "execution_count": 4,
   "metadata": {},
   "outputs": [
    {
     "data": {
      "text/plain": [
       "DatetimeIndex(['2000-01-01', '2000-01-25', '2000-02-18', '2000-03-13',\n",
       "               '2000-04-06', '2000-04-30', '2000-05-24', '2000-06-17',\n",
       "               '2000-07-11', '2000-08-04',\n",
       "               ...\n",
       "               '2010-05-20', '2010-06-13', '2010-07-07', '2010-07-31',\n",
       "               '2010-08-24', '2010-09-17', '2010-10-11', '2010-11-04',\n",
       "               '2010-11-28', '2010-12-22'],\n",
       "              dtype='datetime64[ns]', length=168, freq='24D')"
      ]
     },
     "execution_count": 4,
     "metadata": {},
     "output_type": "execute_result"
    }
   ],
   "source": [
    "import pandas as pd\n",
    "bdates = pd.date_range(start = \"2000-01-01\", end = \"2010-12-31\", freq = \"24D\")\n",
    "bdates"
   ]
  },
  {
   "cell_type": "code",
   "execution_count": 5,
   "metadata": {},
   "outputs": [
    {
     "data": {
      "text/plain": [
       "0   2000-01-01\n",
       "1   2000-01-25\n",
       "2   2000-02-18\n",
       "3   2000-03-13\n",
       "4   2000-04-06\n",
       "dtype: datetime64[ns]"
      ]
     },
     "execution_count": 5,
     "metadata": {},
     "output_type": "execute_result"
    }
   ],
   "source": [
    "s = pd.Series(bdates)\n",
    "s.head()"
   ]
  },
  {
   "cell_type": "code",
   "execution_count": 6,
   "metadata": {},
   "outputs": [
    {
     "data": {
      "text/plain": [
       "0     1\n",
       "1    25\n",
       "2    18\n",
       "3    13\n",
       "4     6\n",
       "dtype: int64"
      ]
     },
     "execution_count": 6,
     "metadata": {},
     "output_type": "execute_result"
    }
   ],
   "source": [
    "s.dt.day.head() #create new series with days"
   ]
  },
  {
   "cell_type": "code",
   "execution_count": 7,
   "metadata": {},
   "outputs": [
    {
     "data": {
      "text/plain": [
       "0    1\n",
       "1    1\n",
       "2    2\n",
       "3    3\n",
       "4    4\n",
       "dtype: int64"
      ]
     },
     "execution_count": 7,
     "metadata": {},
     "output_type": "execute_result"
    }
   ],
   "source": [
    "s.dt.month.head() #create new series with months"
   ]
  },
  {
   "cell_type": "code",
   "execution_count": 8,
   "metadata": {},
   "outputs": [
    {
     "data": {
      "text/plain": [
       "0     Saturday\n",
       "1      Tuesday\n",
       "2       Friday\n",
       "3       Monday\n",
       "4     Thursday\n",
       "5       Sunday\n",
       "6    Wednesday\n",
       "7     Saturday\n",
       "8      Tuesday\n",
       "9       Friday\n",
       "dtype: object"
      ]
     },
     "execution_count": 8,
     "metadata": {},
     "output_type": "execute_result"
    }
   ],
   "source": [
    "s.dt.weekday_name.head(10) #create new series with months"
   ]
  },
  {
   "cell_type": "code",
   "execution_count": 12,
   "metadata": {},
   "outputs": [
    {
     "data": {
      "text/plain": [
       "0     True\n",
       "1    False\n",
       "2    False\n",
       "3    False\n",
       "4    False\n",
       "dtype: bool"
      ]
     },
     "execution_count": 12,
     "metadata": {},
     "output_type": "execute_result"
    }
   ],
   "source": [
    "mask = s.dt.is_quarter_start\n",
    "mask.head()"
   ]
  },
  {
   "cell_type": "code",
   "execution_count": 13,
   "metadata": {},
   "outputs": [
    {
     "data": {
      "text/plain": [
       "0     2000-01-01\n",
       "19    2001-04-01\n",
       "38    2002-07-01\n",
       "137   2009-01-01\n",
       "dtype: datetime64[ns]"
      ]
     },
     "execution_count": 13,
     "metadata": {},
     "output_type": "execute_result"
    }
   ],
   "source": [
    "s[mask]"
   ]
  },
  {
   "cell_type": "code",
   "execution_count": 15,
   "metadata": {},
   "outputs": [
    {
     "data": {
      "text/plain": [
       "0     2000-01-01\n",
       "19    2001-04-01\n",
       "38    2002-07-01\n",
       "104   2006-11-01\n",
       "109   2007-03-01\n",
       "137   2009-01-01\n",
       "142   2009-05-01\n",
       "dtype: datetime64[ns]"
      ]
     },
     "execution_count": 15,
     "metadata": {},
     "output_type": "execute_result"
    }
   ],
   "source": [
    "mask2 = s.dt.is_month_start\n",
    "s[mask2]"
   ]
  },
  {
   "cell_type": "code",
   "execution_count": 16,
   "metadata": {},
   "outputs": [
    {
     "data": {
      "text/plain": [
       "5     2000-04-30\n",
       "57    2003-09-30\n",
       "71    2004-08-31\n",
       "90    2005-11-30\n",
       "123   2008-01-31\n",
       "161   2010-07-31\n",
       "dtype: datetime64[ns]"
      ]
     },
     "execution_count": 16,
     "metadata": {},
     "output_type": "execute_result"
    }
   ],
   "source": [
    "mask3 = s.dt.is_month_end\n",
    "s[mask3]"
   ]
  },
  {
   "cell_type": "markdown",
   "metadata": {},
   "source": [
    "## Import Financial Data Set with pandas_datareader Library"
   ]
  },
  {
   "cell_type": "code",
   "execution_count": 1,
   "metadata": {},
   "outputs": [],
   "source": [
    "import pandas as pd\n",
    "import datetime as dt\n",
    "import matplotlib.pyplot as plt\n",
    "import pandas_datareader as pdr\n",
    "import fix_yahoo_finance as yf  "
   ]
  },
  {
   "cell_type": "code",
   "execution_count": 2,
   "metadata": {},
   "outputs": [],
   "source": [
    "#data = yf.download('AMZN','2018-01-01','2018-09-26')\n",
    "#data.Close.plot()\n",
    "#plt.show()"
   ]
  },
  {
   "cell_type": "code",
   "execution_count": 3,
   "metadata": {},
   "outputs": [
    {
     "data": {
      "text/html": [
       "<div>\n",
       "<style scoped>\n",
       "    .dataframe tbody tr th:only-of-type {\n",
       "        vertical-align: middle;\n",
       "    }\n",
       "\n",
       "    .dataframe tbody tr th {\n",
       "        vertical-align: top;\n",
       "    }\n",
       "\n",
       "    .dataframe thead th {\n",
       "        text-align: right;\n",
       "    }\n",
       "</style>\n",
       "<table border=\"1\" class=\"dataframe\">\n",
       "  <thead>\n",
       "    <tr style=\"text-align: right;\">\n",
       "      <th></th>\n",
       "      <th>High</th>\n",
       "      <th>Low</th>\n",
       "      <th>Open</th>\n",
       "      <th>Close</th>\n",
       "      <th>Volume</th>\n",
       "      <th>Adj Close</th>\n",
       "    </tr>\n",
       "    <tr>\n",
       "      <th>Date</th>\n",
       "      <th></th>\n",
       "      <th></th>\n",
       "      <th></th>\n",
       "      <th></th>\n",
       "      <th></th>\n",
       "      <th></th>\n",
       "    </tr>\n",
       "  </thead>\n",
       "  <tbody>\n",
       "    <tr>\n",
       "      <th>2018-01-02</th>\n",
       "      <td>1190.000000</td>\n",
       "      <td>1170.510010</td>\n",
       "      <td>1172.000000</td>\n",
       "      <td>1189.010010</td>\n",
       "      <td>2694500</td>\n",
       "      <td>1189.010010</td>\n",
       "    </tr>\n",
       "    <tr>\n",
       "      <th>2018-01-03</th>\n",
       "      <td>1205.489990</td>\n",
       "      <td>1188.300049</td>\n",
       "      <td>1188.300049</td>\n",
       "      <td>1204.199951</td>\n",
       "      <td>3108800</td>\n",
       "      <td>1204.199951</td>\n",
       "    </tr>\n",
       "    <tr>\n",
       "      <th>2018-01-04</th>\n",
       "      <td>1215.869995</td>\n",
       "      <td>1204.660034</td>\n",
       "      <td>1205.000000</td>\n",
       "      <td>1209.589966</td>\n",
       "      <td>3022100</td>\n",
       "      <td>1209.589966</td>\n",
       "    </tr>\n",
       "    <tr>\n",
       "      <th>2018-01-05</th>\n",
       "      <td>1229.140015</td>\n",
       "      <td>1210.000000</td>\n",
       "      <td>1217.510010</td>\n",
       "      <td>1229.140015</td>\n",
       "      <td>3544700</td>\n",
       "      <td>1229.140015</td>\n",
       "    </tr>\n",
       "    <tr>\n",
       "      <th>2018-01-08</th>\n",
       "      <td>1253.079956</td>\n",
       "      <td>1232.030029</td>\n",
       "      <td>1236.000000</td>\n",
       "      <td>1246.869995</td>\n",
       "      <td>4279500</td>\n",
       "      <td>1246.869995</td>\n",
       "    </tr>\n",
       "    <tr>\n",
       "      <th>2018-01-09</th>\n",
       "      <td>1259.329956</td>\n",
       "      <td>1241.760010</td>\n",
       "      <td>1256.900024</td>\n",
       "      <td>1252.699951</td>\n",
       "      <td>3661300</td>\n",
       "      <td>1252.699951</td>\n",
       "    </tr>\n",
       "    <tr>\n",
       "      <th>2018-01-10</th>\n",
       "      <td>1254.329956</td>\n",
       "      <td>1237.229980</td>\n",
       "      <td>1245.150024</td>\n",
       "      <td>1254.329956</td>\n",
       "      <td>2686000</td>\n",
       "      <td>1254.329956</td>\n",
       "    </tr>\n",
       "    <tr>\n",
       "      <th>2018-01-11</th>\n",
       "      <td>1276.770020</td>\n",
       "      <td>1256.459961</td>\n",
       "      <td>1259.739990</td>\n",
       "      <td>1276.680054</td>\n",
       "      <td>3125000</td>\n",
       "      <td>1276.680054</td>\n",
       "    </tr>\n",
       "    <tr>\n",
       "      <th>2018-01-12</th>\n",
       "      <td>1305.760010</td>\n",
       "      <td>1273.390015</td>\n",
       "      <td>1273.390015</td>\n",
       "      <td>1305.199951</td>\n",
       "      <td>5443700</td>\n",
       "      <td>1305.199951</td>\n",
       "    </tr>\n",
       "    <tr>\n",
       "      <th>2018-01-16</th>\n",
       "      <td>1339.939941</td>\n",
       "      <td>1292.300049</td>\n",
       "      <td>1323.000000</td>\n",
       "      <td>1304.859985</td>\n",
       "      <td>7220700</td>\n",
       "      <td>1304.859985</td>\n",
       "    </tr>\n",
       "  </tbody>\n",
       "</table>\n",
       "</div>"
      ],
      "text/plain": [
       "                   High          Low         Open        Close   Volume  \\\n",
       "Date                                                                      \n",
       "2018-01-02  1190.000000  1170.510010  1172.000000  1189.010010  2694500   \n",
       "2018-01-03  1205.489990  1188.300049  1188.300049  1204.199951  3108800   \n",
       "2018-01-04  1215.869995  1204.660034  1205.000000  1209.589966  3022100   \n",
       "2018-01-05  1229.140015  1210.000000  1217.510010  1229.140015  3544700   \n",
       "2018-01-08  1253.079956  1232.030029  1236.000000  1246.869995  4279500   \n",
       "2018-01-09  1259.329956  1241.760010  1256.900024  1252.699951  3661300   \n",
       "2018-01-10  1254.329956  1237.229980  1245.150024  1254.329956  2686000   \n",
       "2018-01-11  1276.770020  1256.459961  1259.739990  1276.680054  3125000   \n",
       "2018-01-12  1305.760010  1273.390015  1273.390015  1305.199951  5443700   \n",
       "2018-01-16  1339.939941  1292.300049  1323.000000  1304.859985  7220700   \n",
       "\n",
       "              Adj Close  \n",
       "Date                     \n",
       "2018-01-02  1189.010010  \n",
       "2018-01-03  1204.199951  \n",
       "2018-01-04  1209.589966  \n",
       "2018-01-05  1229.140015  \n",
       "2018-01-08  1246.869995  \n",
       "2018-01-09  1252.699951  \n",
       "2018-01-10  1254.329956  \n",
       "2018-01-11  1276.680054  \n",
       "2018-01-12  1305.199951  \n",
       "2018-01-16  1304.859985  "
      ]
     },
     "execution_count": 3,
     "metadata": {},
     "output_type": "execute_result"
    }
   ],
   "source": [
    "company = \"AMZN\"\n",
    "start = \"2018-01-01\"\n",
    "end = \"2018-09-27\"\n",
    "\n",
    "# download dataframe\n",
    "stocks = pdr.get_data_yahoo(company, start = start, end = end)\n",
    "\n",
    "# download Panel\n",
    "# data = pdr.get_data_yahoo([\"SPY\", \"IWM\"], start = start, end = end)\n",
    "\n",
    "stocks.head(10)"
   ]
  },
  {
   "cell_type": "code",
   "execution_count": 4,
   "metadata": {},
   "outputs": [
    {
     "data": {
      "text/plain": [
       "array([[1.19000000e+03, 1.17051001e+03, 1.17200000e+03, 1.18901001e+03,\n",
       "        2.69450000e+06, 1.18901001e+03],\n",
       "       [1.20548999e+03, 1.18830005e+03, 1.18830005e+03, 1.20419995e+03,\n",
       "        3.10880000e+06, 1.20419995e+03],\n",
       "       [1.21587000e+03, 1.20466003e+03, 1.20500000e+03, 1.20958997e+03,\n",
       "        3.02210000e+06, 1.20958997e+03],\n",
       "       ...,\n",
       "       [1.93688000e+03, 1.86500000e+03, 1.90379004e+03, 1.93435999e+03,\n",
       "        4.21370000e+06, 1.93435999e+03],\n",
       "       [1.97591003e+03, 1.93884998e+03, 1.94290002e+03, 1.97455005e+03,\n",
       "        4.53840000e+06, 1.97455005e+03],\n",
       "       [1.99525000e+03, 1.96152002e+03, 1.96850000e+03, 1.97484998e+03,\n",
       "        4.26450000e+06, 1.97484998e+03]])"
      ]
     },
     "execution_count": 4,
     "metadata": {},
     "output_type": "execute_result"
    }
   ],
   "source": [
    "stocks.values"
   ]
  },
  {
   "cell_type": "code",
   "execution_count": 5,
   "metadata": {},
   "outputs": [
    {
     "data": {
      "text/plain": [
       "Index(['High', 'Low', 'Open', 'Close', 'Volume', 'Adj Close'], dtype='object')"
      ]
     },
     "execution_count": 5,
     "metadata": {},
     "output_type": "execute_result"
    }
   ],
   "source": [
    "stocks.columns"
   ]
  },
  {
   "cell_type": "code",
   "execution_count": 6,
   "metadata": {},
   "outputs": [
    {
     "data": {
      "text/plain": [
       "DatetimeIndex(['2018-01-02', '2018-01-03', '2018-01-04', '2018-01-05',\n",
       "               '2018-01-08', '2018-01-09', '2018-01-10', '2018-01-11',\n",
       "               '2018-01-12', '2018-01-16',\n",
       "               ...\n",
       "               '2018-09-13', '2018-09-14', '2018-09-17', '2018-09-18',\n",
       "               '2018-09-19', '2018-09-20', '2018-09-21', '2018-09-24',\n",
       "               '2018-09-25', '2018-09-26'],\n",
       "              dtype='datetime64[ns]', name='Date', length=186, freq=None)"
      ]
     },
     "execution_count": 6,
     "metadata": {},
     "output_type": "execute_result"
    }
   ],
   "source": [
    "stocks.index"
   ]
  },
  {
   "cell_type": "code",
   "execution_count": 7,
   "metadata": {},
   "outputs": [
    {
     "data": {
      "text/plain": [
       "[DatetimeIndex(['2018-01-02', '2018-01-03', '2018-01-04', '2018-01-05',\n",
       "                '2018-01-08', '2018-01-09', '2018-01-10', '2018-01-11',\n",
       "                '2018-01-12', '2018-01-16',\n",
       "                ...\n",
       "                '2018-09-13', '2018-09-14', '2018-09-17', '2018-09-18',\n",
       "                '2018-09-19', '2018-09-20', '2018-09-21', '2018-09-24',\n",
       "                '2018-09-25', '2018-09-26'],\n",
       "               dtype='datetime64[ns]', name='Date', length=186, freq=None),\n",
       " Index(['High', 'Low', 'Open', 'Close', 'Volume', 'Adj Close'], dtype='object')]"
      ]
     },
     "execution_count": 7,
     "metadata": {},
     "output_type": "execute_result"
    }
   ],
   "source": [
    "stocks.axes"
   ]
  },
  {
   "cell_type": "markdown",
   "metadata": {},
   "source": [
    "## Selecting from a DataFrame with a DateimeIndex"
   ]
  },
  {
   "cell_type": "code",
   "execution_count": 112,
   "metadata": {},
   "outputs": [
    {
     "data": {
      "text/html": [
       "<div>\n",
       "<style scoped>\n",
       "    .dataframe tbody tr th:only-of-type {\n",
       "        vertical-align: middle;\n",
       "    }\n",
       "\n",
       "    .dataframe tbody tr th {\n",
       "        vertical-align: top;\n",
       "    }\n",
       "\n",
       "    .dataframe thead th {\n",
       "        text-align: right;\n",
       "    }\n",
       "</style>\n",
       "<table border=\"1\" class=\"dataframe\">\n",
       "  <thead>\n",
       "    <tr style=\"text-align: right;\">\n",
       "      <th></th>\n",
       "      <th>High</th>\n",
       "      <th>Low</th>\n",
       "      <th>Open</th>\n",
       "      <th>Close</th>\n",
       "      <th>Volume</th>\n",
       "      <th>Adj Close</th>\n",
       "    </tr>\n",
       "    <tr>\n",
       "      <th>Date</th>\n",
       "      <th></th>\n",
       "      <th></th>\n",
       "      <th></th>\n",
       "      <th></th>\n",
       "      <th></th>\n",
       "      <th></th>\n",
       "    </tr>\n",
       "  </thead>\n",
       "  <tbody>\n",
       "    <tr>\n",
       "      <th>2010-01-04</th>\n",
       "      <td>136.610001</td>\n",
       "      <td>133.139999</td>\n",
       "      <td>136.250000</td>\n",
       "      <td>133.899994</td>\n",
       "      <td>7599900</td>\n",
       "      <td>133.899994</td>\n",
       "    </tr>\n",
       "    <tr>\n",
       "      <th>2010-01-05</th>\n",
       "      <td>135.479996</td>\n",
       "      <td>131.809998</td>\n",
       "      <td>133.429993</td>\n",
       "      <td>134.690002</td>\n",
       "      <td>8851900</td>\n",
       "      <td>134.690002</td>\n",
       "    </tr>\n",
       "    <tr>\n",
       "      <th>2010-01-06</th>\n",
       "      <td>134.729996</td>\n",
       "      <td>131.649994</td>\n",
       "      <td>134.600006</td>\n",
       "      <td>132.250000</td>\n",
       "      <td>7178800</td>\n",
       "      <td>132.250000</td>\n",
       "    </tr>\n",
       "    <tr>\n",
       "      <th>2010-01-07</th>\n",
       "      <td>132.320007</td>\n",
       "      <td>128.800003</td>\n",
       "      <td>132.009995</td>\n",
       "      <td>130.000000</td>\n",
       "      <td>11030200</td>\n",
       "      <td>130.000000</td>\n",
       "    </tr>\n",
       "    <tr>\n",
       "      <th>2010-01-08</th>\n",
       "      <td>133.679993</td>\n",
       "      <td>129.029999</td>\n",
       "      <td>130.559998</td>\n",
       "      <td>133.520004</td>\n",
       "      <td>9830500</td>\n",
       "      <td>133.520004</td>\n",
       "    </tr>\n",
       "  </tbody>\n",
       "</table>\n",
       "</div>"
      ],
      "text/plain": [
       "                  High         Low        Open       Close    Volume  \\\n",
       "Date                                                                   \n",
       "2010-01-04  136.610001  133.139999  136.250000  133.899994   7599900   \n",
       "2010-01-05  135.479996  131.809998  133.429993  134.690002   8851900   \n",
       "2010-01-06  134.729996  131.649994  134.600006  132.250000   7178800   \n",
       "2010-01-07  132.320007  128.800003  132.009995  130.000000  11030200   \n",
       "2010-01-08  133.679993  129.029999  130.559998  133.520004   9830500   \n",
       "\n",
       "             Adj Close  \n",
       "Date                    \n",
       "2010-01-04  133.899994  \n",
       "2010-01-05  134.690002  \n",
       "2010-01-06  132.250000  \n",
       "2010-01-07  130.000000  \n",
       "2010-01-08  133.520004  "
      ]
     },
     "execution_count": 112,
     "metadata": {},
     "output_type": "execute_result"
    }
   ],
   "source": [
    "company = \"AMZN\"\n",
    "start = \"2010-01-01\"\n",
    "end = \"2018-09-27\"\n",
    "stocks =  pdr.get_data_yahoo(company, start = start, end = dt.date.today())\n",
    "stocks.head()"
   ]
  },
  {
   "cell_type": "code",
   "execution_count": 113,
   "metadata": {},
   "outputs": [
    {
     "data": {
      "text/plain": [
       "datetime.date(2018, 9, 27)"
      ]
     },
     "execution_count": 113,
     "metadata": {},
     "output_type": "execute_result"
    }
   ],
   "source": [
    "dt.date.today()"
   ]
  },
  {
   "cell_type": "code",
   "execution_count": 114,
   "metadata": {},
   "outputs": [
    {
     "data": {
      "text/plain": [
       "High         2.050500e+03\n",
       "Low          2.013000e+03\n",
       "Open         2.026500e+03\n",
       "Close        2.039510e+03\n",
       "Volume       5.721100e+06\n",
       "Adj Close    2.039510e+03\n",
       "Name: 2018-09-04 00:00:00, dtype: float64"
      ]
     },
     "execution_count": 114,
     "metadata": {},
     "output_type": "execute_result"
    }
   ],
   "source": [
    "stocks.loc[\"2018-09-04\"]"
   ]
  },
  {
   "cell_type": "code",
   "execution_count": 115,
   "metadata": {},
   "outputs": [
    {
     "data": {
      "text/plain": [
       "High         1.268500e+02\n",
       "Low          1.206000e+02\n",
       "Open         1.249800e+02\n",
       "Close        1.267000e+02\n",
       "Volume       4.747700e+06\n",
       "Adj Close    1.267000e+02\n",
       "Name: 2010-05-27 00:00:00, dtype: float64"
      ]
     },
     "execution_count": 115,
     "metadata": {},
     "output_type": "execute_result"
    }
   ],
   "source": [
    "stocks.iloc[100]"
   ]
  },
  {
   "cell_type": "code",
   "execution_count": 116,
   "metadata": {},
   "outputs": [
    {
     "data": {
      "text/html": [
       "<div>\n",
       "<style scoped>\n",
       "    .dataframe tbody tr th:only-of-type {\n",
       "        vertical-align: middle;\n",
       "    }\n",
       "\n",
       "    .dataframe tbody tr th {\n",
       "        vertical-align: top;\n",
       "    }\n",
       "\n",
       "    .dataframe thead th {\n",
       "        text-align: right;\n",
       "    }\n",
       "</style>\n",
       "<table border=\"1\" class=\"dataframe\">\n",
       "  <thead>\n",
       "    <tr style=\"text-align: right;\">\n",
       "      <th></th>\n",
       "      <th>High</th>\n",
       "      <th>Low</th>\n",
       "      <th>Open</th>\n",
       "      <th>Close</th>\n",
       "      <th>Volume</th>\n",
       "      <th>Adj Close</th>\n",
       "    </tr>\n",
       "    <tr>\n",
       "      <th>Date</th>\n",
       "      <th></th>\n",
       "      <th></th>\n",
       "      <th></th>\n",
       "      <th></th>\n",
       "      <th></th>\n",
       "      <th></th>\n",
       "    </tr>\n",
       "  </thead>\n",
       "  <tbody>\n",
       "    <tr>\n",
       "      <th>2018-01-02</th>\n",
       "      <td>1190.000000</td>\n",
       "      <td>1170.510010</td>\n",
       "      <td>1172.000000</td>\n",
       "      <td>1189.010010</td>\n",
       "      <td>2694500</td>\n",
       "      <td>1189.010010</td>\n",
       "    </tr>\n",
       "    <tr>\n",
       "      <th>2018-01-03</th>\n",
       "      <td>1205.489990</td>\n",
       "      <td>1188.300049</td>\n",
       "      <td>1188.300049</td>\n",
       "      <td>1204.199951</td>\n",
       "      <td>3108800</td>\n",
       "      <td>1204.199951</td>\n",
       "    </tr>\n",
       "    <tr>\n",
       "      <th>2018-01-04</th>\n",
       "      <td>1215.869995</td>\n",
       "      <td>1204.660034</td>\n",
       "      <td>1205.000000</td>\n",
       "      <td>1209.589966</td>\n",
       "      <td>3022100</td>\n",
       "      <td>1209.589966</td>\n",
       "    </tr>\n",
       "    <tr>\n",
       "      <th>2018-01-05</th>\n",
       "      <td>1229.140015</td>\n",
       "      <td>1210.000000</td>\n",
       "      <td>1217.510010</td>\n",
       "      <td>1229.140015</td>\n",
       "      <td>3544700</td>\n",
       "      <td>1229.140015</td>\n",
       "    </tr>\n",
       "    <tr>\n",
       "      <th>2018-01-08</th>\n",
       "      <td>1253.079956</td>\n",
       "      <td>1232.030029</td>\n",
       "      <td>1236.000000</td>\n",
       "      <td>1246.869995</td>\n",
       "      <td>4279500</td>\n",
       "      <td>1246.869995</td>\n",
       "    </tr>\n",
       "    <tr>\n",
       "      <th>2018-01-09</th>\n",
       "      <td>1259.329956</td>\n",
       "      <td>1241.760010</td>\n",
       "      <td>1256.900024</td>\n",
       "      <td>1252.699951</td>\n",
       "      <td>3661300</td>\n",
       "      <td>1252.699951</td>\n",
       "    </tr>\n",
       "    <tr>\n",
       "      <th>2018-01-10</th>\n",
       "      <td>1254.329956</td>\n",
       "      <td>1237.229980</td>\n",
       "      <td>1245.150024</td>\n",
       "      <td>1254.329956</td>\n",
       "      <td>2686000</td>\n",
       "      <td>1254.329956</td>\n",
       "    </tr>\n",
       "    <tr>\n",
       "      <th>2018-01-11</th>\n",
       "      <td>1276.770020</td>\n",
       "      <td>1256.459961</td>\n",
       "      <td>1259.739990</td>\n",
       "      <td>1276.680054</td>\n",
       "      <td>3125000</td>\n",
       "      <td>1276.680054</td>\n",
       "    </tr>\n",
       "    <tr>\n",
       "      <th>2018-01-12</th>\n",
       "      <td>1305.760010</td>\n",
       "      <td>1273.390015</td>\n",
       "      <td>1273.390015</td>\n",
       "      <td>1305.199951</td>\n",
       "      <td>5443700</td>\n",
       "      <td>1305.199951</td>\n",
       "    </tr>\n",
       "    <tr>\n",
       "      <th>2018-01-16</th>\n",
       "      <td>1339.939941</td>\n",
       "      <td>1292.300049</td>\n",
       "      <td>1323.000000</td>\n",
       "      <td>1304.859985</td>\n",
       "      <td>7220700</td>\n",
       "      <td>1304.859985</td>\n",
       "    </tr>\n",
       "    <tr>\n",
       "      <th>2018-01-17</th>\n",
       "      <td>1314.000000</td>\n",
       "      <td>1280.880005</td>\n",
       "      <td>1312.239990</td>\n",
       "      <td>1295.000000</td>\n",
       "      <td>5221400</td>\n",
       "      <td>1295.000000</td>\n",
       "    </tr>\n",
       "    <tr>\n",
       "      <th>2018-01-18</th>\n",
       "      <td>1304.599976</td>\n",
       "      <td>1284.020020</td>\n",
       "      <td>1293.949951</td>\n",
       "      <td>1293.319946</td>\n",
       "      <td>4026900</td>\n",
       "      <td>1293.319946</td>\n",
       "    </tr>\n",
       "    <tr>\n",
       "      <th>2018-01-19</th>\n",
       "      <td>1313.000000</td>\n",
       "      <td>1292.989990</td>\n",
       "      <td>1312.000000</td>\n",
       "      <td>1294.579956</td>\n",
       "      <td>4578500</td>\n",
       "      <td>1294.579956</td>\n",
       "    </tr>\n",
       "    <tr>\n",
       "      <th>2018-01-22</th>\n",
       "      <td>1327.449951</td>\n",
       "      <td>1296.660034</td>\n",
       "      <td>1297.170044</td>\n",
       "      <td>1327.310059</td>\n",
       "      <td>4140100</td>\n",
       "      <td>1327.310059</td>\n",
       "    </tr>\n",
       "    <tr>\n",
       "      <th>2018-01-23</th>\n",
       "      <td>1364.900024</td>\n",
       "      <td>1337.339966</td>\n",
       "      <td>1338.089966</td>\n",
       "      <td>1362.540039</td>\n",
       "      <td>5169300</td>\n",
       "      <td>1362.540039</td>\n",
       "    </tr>\n",
       "    <tr>\n",
       "      <th>2018-01-24</th>\n",
       "      <td>1388.160034</td>\n",
       "      <td>1338.000000</td>\n",
       "      <td>1374.819946</td>\n",
       "      <td>1357.510010</td>\n",
       "      <td>6807500</td>\n",
       "      <td>1357.510010</td>\n",
       "    </tr>\n",
       "    <tr>\n",
       "      <th>2018-01-25</th>\n",
       "      <td>1378.339966</td>\n",
       "      <td>1357.619995</td>\n",
       "      <td>1368.000000</td>\n",
       "      <td>1377.949951</td>\n",
       "      <td>4753000</td>\n",
       "      <td>1377.949951</td>\n",
       "    </tr>\n",
       "    <tr>\n",
       "      <th>2018-01-26</th>\n",
       "      <td>1402.530029</td>\n",
       "      <td>1380.910034</td>\n",
       "      <td>1392.010010</td>\n",
       "      <td>1402.050049</td>\n",
       "      <td>4857300</td>\n",
       "      <td>1402.050049</td>\n",
       "    </tr>\n",
       "    <tr>\n",
       "      <th>2018-01-29</th>\n",
       "      <td>1431.390015</td>\n",
       "      <td>1400.439941</td>\n",
       "      <td>1409.180054</td>\n",
       "      <td>1417.680054</td>\n",
       "      <td>5701900</td>\n",
       "      <td>1417.680054</td>\n",
       "    </tr>\n",
       "    <tr>\n",
       "      <th>2018-01-30</th>\n",
       "      <td>1439.250000</td>\n",
       "      <td>1392.000000</td>\n",
       "      <td>1403.170044</td>\n",
       "      <td>1437.819946</td>\n",
       "      <td>5871900</td>\n",
       "      <td>1437.819946</td>\n",
       "    </tr>\n",
       "    <tr>\n",
       "      <th>2018-01-31</th>\n",
       "      <td>1472.579956</td>\n",
       "      <td>1450.040039</td>\n",
       "      <td>1451.300049</td>\n",
       "      <td>1450.890015</td>\n",
       "      <td>6424700</td>\n",
       "      <td>1450.890015</td>\n",
       "    </tr>\n",
       "  </tbody>\n",
       "</table>\n",
       "</div>"
      ],
      "text/plain": [
       "                   High          Low         Open        Close   Volume  \\\n",
       "Date                                                                      \n",
       "2018-01-02  1190.000000  1170.510010  1172.000000  1189.010010  2694500   \n",
       "2018-01-03  1205.489990  1188.300049  1188.300049  1204.199951  3108800   \n",
       "2018-01-04  1215.869995  1204.660034  1205.000000  1209.589966  3022100   \n",
       "2018-01-05  1229.140015  1210.000000  1217.510010  1229.140015  3544700   \n",
       "2018-01-08  1253.079956  1232.030029  1236.000000  1246.869995  4279500   \n",
       "2018-01-09  1259.329956  1241.760010  1256.900024  1252.699951  3661300   \n",
       "2018-01-10  1254.329956  1237.229980  1245.150024  1254.329956  2686000   \n",
       "2018-01-11  1276.770020  1256.459961  1259.739990  1276.680054  3125000   \n",
       "2018-01-12  1305.760010  1273.390015  1273.390015  1305.199951  5443700   \n",
       "2018-01-16  1339.939941  1292.300049  1323.000000  1304.859985  7220700   \n",
       "2018-01-17  1314.000000  1280.880005  1312.239990  1295.000000  5221400   \n",
       "2018-01-18  1304.599976  1284.020020  1293.949951  1293.319946  4026900   \n",
       "2018-01-19  1313.000000  1292.989990  1312.000000  1294.579956  4578500   \n",
       "2018-01-22  1327.449951  1296.660034  1297.170044  1327.310059  4140100   \n",
       "2018-01-23  1364.900024  1337.339966  1338.089966  1362.540039  5169300   \n",
       "2018-01-24  1388.160034  1338.000000  1374.819946  1357.510010  6807500   \n",
       "2018-01-25  1378.339966  1357.619995  1368.000000  1377.949951  4753000   \n",
       "2018-01-26  1402.530029  1380.910034  1392.010010  1402.050049  4857300   \n",
       "2018-01-29  1431.390015  1400.439941  1409.180054  1417.680054  5701900   \n",
       "2018-01-30  1439.250000  1392.000000  1403.170044  1437.819946  5871900   \n",
       "2018-01-31  1472.579956  1450.040039  1451.300049  1450.890015  6424700   \n",
       "\n",
       "              Adj Close  \n",
       "Date                     \n",
       "2018-01-02  1189.010010  \n",
       "2018-01-03  1204.199951  \n",
       "2018-01-04  1209.589966  \n",
       "2018-01-05  1229.140015  \n",
       "2018-01-08  1246.869995  \n",
       "2018-01-09  1252.699951  \n",
       "2018-01-10  1254.329956  \n",
       "2018-01-11  1276.680054  \n",
       "2018-01-12  1305.199951  \n",
       "2018-01-16  1304.859985  \n",
       "2018-01-17  1295.000000  \n",
       "2018-01-18  1293.319946  \n",
       "2018-01-19  1294.579956  \n",
       "2018-01-22  1327.310059  \n",
       "2018-01-23  1362.540039  \n",
       "2018-01-24  1357.510010  \n",
       "2018-01-25  1377.949951  \n",
       "2018-01-26  1402.050049  \n",
       "2018-01-29  1417.680054  \n",
       "2018-01-30  1437.819946  \n",
       "2018-01-31  1450.890015  "
      ]
     },
     "execution_count": 116,
     "metadata": {},
     "output_type": "execute_result"
    }
   ],
   "source": [
    "stocks.loc[\"2018-01-01\":\"2018-01-31\"] # extract a apecific date range"
   ]
  },
  {
   "cell_type": "code",
   "execution_count": 117,
   "metadata": {},
   "outputs": [],
   "source": [
    "birthdays = pd.date_range(start = \"2010-03-13\", end = end, freq = pd.DateOffset(years = 1))"
   ]
  },
  {
   "cell_type": "code",
   "execution_count": 118,
   "metadata": {},
   "outputs": [
    {
     "data": {
      "text/html": [
       "<div>\n",
       "<style scoped>\n",
       "    .dataframe tbody tr th:only-of-type {\n",
       "        vertical-align: middle;\n",
       "    }\n",
       "\n",
       "    .dataframe tbody tr th {\n",
       "        vertical-align: top;\n",
       "    }\n",
       "\n",
       "    .dataframe thead th {\n",
       "        text-align: right;\n",
       "    }\n",
       "</style>\n",
       "<table border=\"1\" class=\"dataframe\">\n",
       "  <thead>\n",
       "    <tr style=\"text-align: right;\">\n",
       "      <th></th>\n",
       "      <th>High</th>\n",
       "      <th>Low</th>\n",
       "      <th>Open</th>\n",
       "      <th>Close</th>\n",
       "      <th>Volume</th>\n",
       "      <th>Adj Close</th>\n",
       "    </tr>\n",
       "    <tr>\n",
       "      <th>Date</th>\n",
       "      <th></th>\n",
       "      <th></th>\n",
       "      <th></th>\n",
       "      <th></th>\n",
       "      <th></th>\n",
       "      <th></th>\n",
       "    </tr>\n",
       "  </thead>\n",
       "  <tbody>\n",
       "    <tr>\n",
       "      <th>2012-03-13</th>\n",
       "      <td>184.869995</td>\n",
       "      <td>180.770004</td>\n",
       "      <td>183.919998</td>\n",
       "      <td>184.589996</td>\n",
       "      <td>4405800</td>\n",
       "      <td>184.589996</td>\n",
       "    </tr>\n",
       "    <tr>\n",
       "      <th>2013-03-13</th>\n",
       "      <td>276.500000</td>\n",
       "      <td>272.640015</td>\n",
       "      <td>275.239990</td>\n",
       "      <td>275.100006</td>\n",
       "      <td>1884200</td>\n",
       "      <td>275.100006</td>\n",
       "    </tr>\n",
       "    <tr>\n",
       "      <th>2014-03-13</th>\n",
       "      <td>383.109985</td>\n",
       "      <td>368.079987</td>\n",
       "      <td>376.619995</td>\n",
       "      <td>371.510010</td>\n",
       "      <td>6829000</td>\n",
       "      <td>371.510010</td>\n",
       "    </tr>\n",
       "    <tr>\n",
       "      <th>2015-03-13</th>\n",
       "      <td>373.989990</td>\n",
       "      <td>366.679993</td>\n",
       "      <td>371.519989</td>\n",
       "      <td>370.579987</td>\n",
       "      <td>2611700</td>\n",
       "      <td>370.579987</td>\n",
       "    </tr>\n",
       "    <tr>\n",
       "      <th>2017-03-13</th>\n",
       "      <td>855.690002</td>\n",
       "      <td>851.710022</td>\n",
       "      <td>851.770020</td>\n",
       "      <td>854.590027</td>\n",
       "      <td>1909700</td>\n",
       "      <td>854.590027</td>\n",
       "    </tr>\n",
       "    <tr>\n",
       "      <th>2018-03-13</th>\n",
       "      <td>1617.540039</td>\n",
       "      <td>1578.010010</td>\n",
       "      <td>1615.959961</td>\n",
       "      <td>1588.180054</td>\n",
       "      <td>6531900</td>\n",
       "      <td>1588.180054</td>\n",
       "    </tr>\n",
       "  </tbody>\n",
       "</table>\n",
       "</div>"
      ],
      "text/plain": [
       "                   High          Low         Open        Close   Volume  \\\n",
       "Date                                                                      \n",
       "2012-03-13   184.869995   180.770004   183.919998   184.589996  4405800   \n",
       "2013-03-13   276.500000   272.640015   275.239990   275.100006  1884200   \n",
       "2014-03-13   383.109985   368.079987   376.619995   371.510010  6829000   \n",
       "2015-03-13   373.989990   366.679993   371.519989   370.579987  2611700   \n",
       "2017-03-13   855.690002   851.710022   851.770020   854.590027  1909700   \n",
       "2018-03-13  1617.540039  1578.010010  1615.959961  1588.180054  6531900   \n",
       "\n",
       "              Adj Close  \n",
       "Date                     \n",
       "2012-03-13   184.589996  \n",
       "2013-03-13   275.100006  \n",
       "2014-03-13   371.510010  \n",
       "2015-03-13   370.579987  \n",
       "2017-03-13   854.590027  \n",
       "2018-03-13  1588.180054  "
      ]
     },
     "execution_count": 118,
     "metadata": {},
     "output_type": "execute_result"
    }
   ],
   "source": [
    "mask = stocks.index.isin(birthdays) #use isin method to extrat specific dates\n",
    "stocks[mask]"
   ]
  },
  {
   "cell_type": "markdown",
   "metadata": {},
   "source": [
    "## Timestamp Object Agtributes"
   ]
  },
  {
   "cell_type": "code",
   "execution_count": 4,
   "metadata": {},
   "outputs": [],
   "source": [
    "import pandas as pd\n",
    "import datetime as dt\n",
    "import matplotlib.pyplot as plt\n",
    "import pandas_datareader as pdr\n",
    "import fix_yahoo_finance as yf  "
   ]
  },
  {
   "cell_type": "code",
   "execution_count": 132,
   "metadata": {},
   "outputs": [
    {
     "data": {
      "text/html": [
       "<div>\n",
       "<style scoped>\n",
       "    .dataframe tbody tr th:only-of-type {\n",
       "        vertical-align: middle;\n",
       "    }\n",
       "\n",
       "    .dataframe tbody tr th {\n",
       "        vertical-align: top;\n",
       "    }\n",
       "\n",
       "    .dataframe thead th {\n",
       "        text-align: right;\n",
       "    }\n",
       "</style>\n",
       "<table border=\"1\" class=\"dataframe\">\n",
       "  <thead>\n",
       "    <tr style=\"text-align: right;\">\n",
       "      <th></th>\n",
       "      <th>High</th>\n",
       "      <th>Low</th>\n",
       "      <th>Open</th>\n",
       "      <th>Close</th>\n",
       "      <th>Volume</th>\n",
       "      <th>Adj Close</th>\n",
       "    </tr>\n",
       "    <tr>\n",
       "      <th>Date</th>\n",
       "      <th></th>\n",
       "      <th></th>\n",
       "      <th></th>\n",
       "      <th></th>\n",
       "      <th></th>\n",
       "      <th></th>\n",
       "    </tr>\n",
       "  </thead>\n",
       "  <tbody>\n",
       "    <tr>\n",
       "      <th>2010-01-04</th>\n",
       "      <td>136.610001</td>\n",
       "      <td>133.139999</td>\n",
       "      <td>136.250000</td>\n",
       "      <td>133.899994</td>\n",
       "      <td>7599900</td>\n",
       "      <td>133.899994</td>\n",
       "    </tr>\n",
       "    <tr>\n",
       "      <th>2010-01-05</th>\n",
       "      <td>135.479996</td>\n",
       "      <td>131.809998</td>\n",
       "      <td>133.429993</td>\n",
       "      <td>134.690002</td>\n",
       "      <td>8851900</td>\n",
       "      <td>134.690002</td>\n",
       "    </tr>\n",
       "    <tr>\n",
       "      <th>2010-01-06</th>\n",
       "      <td>134.729996</td>\n",
       "      <td>131.649994</td>\n",
       "      <td>134.600006</td>\n",
       "      <td>132.250000</td>\n",
       "      <td>7178800</td>\n",
       "      <td>132.250000</td>\n",
       "    </tr>\n",
       "    <tr>\n",
       "      <th>2010-01-07</th>\n",
       "      <td>132.320007</td>\n",
       "      <td>128.800003</td>\n",
       "      <td>132.009995</td>\n",
       "      <td>130.000000</td>\n",
       "      <td>11030200</td>\n",
       "      <td>130.000000</td>\n",
       "    </tr>\n",
       "    <tr>\n",
       "      <th>2010-01-08</th>\n",
       "      <td>133.679993</td>\n",
       "      <td>129.029999</td>\n",
       "      <td>130.559998</td>\n",
       "      <td>133.520004</td>\n",
       "      <td>9830500</td>\n",
       "      <td>133.520004</td>\n",
       "    </tr>\n",
       "  </tbody>\n",
       "</table>\n",
       "</div>"
      ],
      "text/plain": [
       "                  High         Low        Open       Close    Volume  \\\n",
       "Date                                                                   \n",
       "2010-01-04  136.610001  133.139999  136.250000  133.899994   7599900   \n",
       "2010-01-05  135.479996  131.809998  133.429993  134.690002   8851900   \n",
       "2010-01-06  134.729996  131.649994  134.600006  132.250000   7178800   \n",
       "2010-01-07  132.320007  128.800003  132.009995  130.000000  11030200   \n",
       "2010-01-08  133.679993  129.029999  130.559998  133.520004   9830500   \n",
       "\n",
       "             Adj Close  \n",
       "Date                    \n",
       "2010-01-04  133.899994  \n",
       "2010-01-05  134.690002  \n",
       "2010-01-06  132.250000  \n",
       "2010-01-07  130.000000  \n",
       "2010-01-08  133.520004  "
      ]
     },
     "execution_count": 132,
     "metadata": {},
     "output_type": "execute_result"
    }
   ],
   "source": [
    "company = \"AMZN\"\n",
    "start = \"2010-01-01\"\n",
    "end = \"2018-09-27\"\n",
    "company = \"AMZN\"\n",
    "start = \"2010-01-01\"\n",
    "end = \"2018-09-27\"\n",
    "stocks =  pdr.get_data_yahoo(company, start = start, end = dt.date.today())\n",
    "stocks.head()"
   ]
  },
  {
   "cell_type": "code",
   "execution_count": 133,
   "metadata": {},
   "outputs": [
    {
     "data": {
      "text/plain": [
       "Timestamp('2010-05-27 00:00:00')"
      ]
     },
     "execution_count": 133,
     "metadata": {},
     "output_type": "execute_result"
    }
   ],
   "source": [
    "someday = stocks.index[100]\n",
    "someday"
   ]
  },
  {
   "cell_type": "code",
   "execution_count": 134,
   "metadata": {},
   "outputs": [
    {
     "data": {
      "text/plain": [
       "2010"
      ]
     },
     "execution_count": 134,
     "metadata": {},
     "output_type": "execute_result"
    }
   ],
   "source": [
    "someday.year"
   ]
  },
  {
   "cell_type": "code",
   "execution_count": 135,
   "metadata": {},
   "outputs": [
    {
     "data": {
      "text/plain": [
       "5"
      ]
     },
     "execution_count": 135,
     "metadata": {},
     "output_type": "execute_result"
    }
   ],
   "source": [
    "someday.month"
   ]
  },
  {
   "cell_type": "code",
   "execution_count": 136,
   "metadata": {},
   "outputs": [
    {
     "data": {
      "text/plain": [
       "'Thursday'"
      ]
     },
     "execution_count": 136,
     "metadata": {},
     "output_type": "execute_result"
    }
   ],
   "source": [
    "someday.day_name()"
   ]
  },
  {
   "cell_type": "code",
   "execution_count": 137,
   "metadata": {},
   "outputs": [
    {
     "data": {
      "text/plain": [
       "False"
      ]
     },
     "execution_count": 137,
     "metadata": {},
     "output_type": "execute_result"
    }
   ],
   "source": [
    "someday.is_month_end"
   ]
  },
  {
   "cell_type": "code",
   "execution_count": 138,
   "metadata": {},
   "outputs": [
    {
     "data": {
      "text/plain": [
       "False"
      ]
     },
     "execution_count": 138,
     "metadata": {},
     "output_type": "execute_result"
    }
   ],
   "source": [
    "someday.is_month_start"
   ]
  },
  {
   "cell_type": "code",
   "execution_count": 139,
   "metadata": {},
   "outputs": [],
   "source": [
    "stocks.insert(0, \"Day of Week\", stocks.index.day_name())  \n",
    "# Add a new series by .insert method\n",
    "# first argument \"0\" is the position in the columns\n",
    "# second argument is the name of the new series"
   ]
  },
  {
   "cell_type": "code",
   "execution_count": 140,
   "metadata": {},
   "outputs": [
    {
     "data": {
      "text/html": [
       "<div>\n",
       "<style scoped>\n",
       "    .dataframe tbody tr th:only-of-type {\n",
       "        vertical-align: middle;\n",
       "    }\n",
       "\n",
       "    .dataframe tbody tr th {\n",
       "        vertical-align: top;\n",
       "    }\n",
       "\n",
       "    .dataframe thead th {\n",
       "        text-align: right;\n",
       "    }\n",
       "</style>\n",
       "<table border=\"1\" class=\"dataframe\">\n",
       "  <thead>\n",
       "    <tr style=\"text-align: right;\">\n",
       "      <th></th>\n",
       "      <th>Day of Week</th>\n",
       "      <th>High</th>\n",
       "      <th>Low</th>\n",
       "      <th>Open</th>\n",
       "      <th>Close</th>\n",
       "      <th>Volume</th>\n",
       "      <th>Adj Close</th>\n",
       "    </tr>\n",
       "    <tr>\n",
       "      <th>Date</th>\n",
       "      <th></th>\n",
       "      <th></th>\n",
       "      <th></th>\n",
       "      <th></th>\n",
       "      <th></th>\n",
       "      <th></th>\n",
       "      <th></th>\n",
       "    </tr>\n",
       "  </thead>\n",
       "  <tbody>\n",
       "    <tr>\n",
       "      <th>2010-01-04</th>\n",
       "      <td>Monday</td>\n",
       "      <td>136.610001</td>\n",
       "      <td>133.139999</td>\n",
       "      <td>136.250000</td>\n",
       "      <td>133.899994</td>\n",
       "      <td>7599900</td>\n",
       "      <td>133.899994</td>\n",
       "    </tr>\n",
       "    <tr>\n",
       "      <th>2010-01-05</th>\n",
       "      <td>Tuesday</td>\n",
       "      <td>135.479996</td>\n",
       "      <td>131.809998</td>\n",
       "      <td>133.429993</td>\n",
       "      <td>134.690002</td>\n",
       "      <td>8851900</td>\n",
       "      <td>134.690002</td>\n",
       "    </tr>\n",
       "    <tr>\n",
       "      <th>2010-01-06</th>\n",
       "      <td>Wednesday</td>\n",
       "      <td>134.729996</td>\n",
       "      <td>131.649994</td>\n",
       "      <td>134.600006</td>\n",
       "      <td>132.250000</td>\n",
       "      <td>7178800</td>\n",
       "      <td>132.250000</td>\n",
       "    </tr>\n",
       "    <tr>\n",
       "      <th>2010-01-07</th>\n",
       "      <td>Thursday</td>\n",
       "      <td>132.320007</td>\n",
       "      <td>128.800003</td>\n",
       "      <td>132.009995</td>\n",
       "      <td>130.000000</td>\n",
       "      <td>11030200</td>\n",
       "      <td>130.000000</td>\n",
       "    </tr>\n",
       "    <tr>\n",
       "      <th>2010-01-08</th>\n",
       "      <td>Friday</td>\n",
       "      <td>133.679993</td>\n",
       "      <td>129.029999</td>\n",
       "      <td>130.559998</td>\n",
       "      <td>133.520004</td>\n",
       "      <td>9830500</td>\n",
       "      <td>133.520004</td>\n",
       "    </tr>\n",
       "  </tbody>\n",
       "</table>\n",
       "</div>"
      ],
      "text/plain": [
       "           Day of Week        High         Low        Open       Close  \\\n",
       "Date                                                                     \n",
       "2010-01-04      Monday  136.610001  133.139999  136.250000  133.899994   \n",
       "2010-01-05     Tuesday  135.479996  131.809998  133.429993  134.690002   \n",
       "2010-01-06   Wednesday  134.729996  131.649994  134.600006  132.250000   \n",
       "2010-01-07    Thursday  132.320007  128.800003  132.009995  130.000000   \n",
       "2010-01-08      Friday  133.679993  129.029999  130.559998  133.520004   \n",
       "\n",
       "              Volume   Adj Close  \n",
       "Date                              \n",
       "2010-01-04   7599900  133.899994  \n",
       "2010-01-05   8851900  134.690002  \n",
       "2010-01-06   7178800  132.250000  \n",
       "2010-01-07  11030200  130.000000  \n",
       "2010-01-08   9830500  133.520004  "
      ]
     },
     "execution_count": 140,
     "metadata": {},
     "output_type": "execute_result"
    }
   ],
   "source": [
    "stocks.head()"
   ]
  },
  {
   "cell_type": "code",
   "execution_count": 141,
   "metadata": {},
   "outputs": [
    {
     "data": {
      "text/html": [
       "<div>\n",
       "<style scoped>\n",
       "    .dataframe tbody tr th:only-of-type {\n",
       "        vertical-align: middle;\n",
       "    }\n",
       "\n",
       "    .dataframe tbody tr th {\n",
       "        vertical-align: top;\n",
       "    }\n",
       "\n",
       "    .dataframe thead th {\n",
       "        text-align: right;\n",
       "    }\n",
       "</style>\n",
       "<table border=\"1\" class=\"dataframe\">\n",
       "  <thead>\n",
       "    <tr style=\"text-align: right;\">\n",
       "      <th></th>\n",
       "      <th>Day of Week</th>\n",
       "      <th>Is start of Month</th>\n",
       "      <th>High</th>\n",
       "      <th>Low</th>\n",
       "      <th>Open</th>\n",
       "      <th>Close</th>\n",
       "      <th>Volume</th>\n",
       "      <th>Adj Close</th>\n",
       "    </tr>\n",
       "    <tr>\n",
       "      <th>Date</th>\n",
       "      <th></th>\n",
       "      <th></th>\n",
       "      <th></th>\n",
       "      <th></th>\n",
       "      <th></th>\n",
       "      <th></th>\n",
       "      <th></th>\n",
       "      <th></th>\n",
       "    </tr>\n",
       "  </thead>\n",
       "  <tbody>\n",
       "    <tr>\n",
       "      <th>2010-01-04</th>\n",
       "      <td>Monday</td>\n",
       "      <td>False</td>\n",
       "      <td>136.610001</td>\n",
       "      <td>133.139999</td>\n",
       "      <td>136.250000</td>\n",
       "      <td>133.899994</td>\n",
       "      <td>7599900</td>\n",
       "      <td>133.899994</td>\n",
       "    </tr>\n",
       "    <tr>\n",
       "      <th>2010-01-05</th>\n",
       "      <td>Tuesday</td>\n",
       "      <td>False</td>\n",
       "      <td>135.479996</td>\n",
       "      <td>131.809998</td>\n",
       "      <td>133.429993</td>\n",
       "      <td>134.690002</td>\n",
       "      <td>8851900</td>\n",
       "      <td>134.690002</td>\n",
       "    </tr>\n",
       "    <tr>\n",
       "      <th>2010-01-06</th>\n",
       "      <td>Wednesday</td>\n",
       "      <td>False</td>\n",
       "      <td>134.729996</td>\n",
       "      <td>131.649994</td>\n",
       "      <td>134.600006</td>\n",
       "      <td>132.250000</td>\n",
       "      <td>7178800</td>\n",
       "      <td>132.250000</td>\n",
       "    </tr>\n",
       "    <tr>\n",
       "      <th>2010-01-07</th>\n",
       "      <td>Thursday</td>\n",
       "      <td>False</td>\n",
       "      <td>132.320007</td>\n",
       "      <td>128.800003</td>\n",
       "      <td>132.009995</td>\n",
       "      <td>130.000000</td>\n",
       "      <td>11030200</td>\n",
       "      <td>130.000000</td>\n",
       "    </tr>\n",
       "    <tr>\n",
       "      <th>2010-01-08</th>\n",
       "      <td>Friday</td>\n",
       "      <td>False</td>\n",
       "      <td>133.679993</td>\n",
       "      <td>129.029999</td>\n",
       "      <td>130.559998</td>\n",
       "      <td>133.520004</td>\n",
       "      <td>9830500</td>\n",
       "      <td>133.520004</td>\n",
       "    </tr>\n",
       "    <tr>\n",
       "      <th>2010-01-11</th>\n",
       "      <td>Monday</td>\n",
       "      <td>False</td>\n",
       "      <td>132.800003</td>\n",
       "      <td>129.210007</td>\n",
       "      <td>132.619995</td>\n",
       "      <td>130.309998</td>\n",
       "      <td>8779400</td>\n",
       "      <td>130.309998</td>\n",
       "    </tr>\n",
       "    <tr>\n",
       "      <th>2010-01-12</th>\n",
       "      <td>Tuesday</td>\n",
       "      <td>False</td>\n",
       "      <td>129.820007</td>\n",
       "      <td>126.550003</td>\n",
       "      <td>128.990005</td>\n",
       "      <td>127.349998</td>\n",
       "      <td>9096300</td>\n",
       "      <td>127.349998</td>\n",
       "    </tr>\n",
       "    <tr>\n",
       "      <th>2010-01-13</th>\n",
       "      <td>Wednesday</td>\n",
       "      <td>False</td>\n",
       "      <td>129.710007</td>\n",
       "      <td>125.750000</td>\n",
       "      <td>127.900002</td>\n",
       "      <td>129.110001</td>\n",
       "      <td>10723200</td>\n",
       "      <td>129.110001</td>\n",
       "    </tr>\n",
       "    <tr>\n",
       "      <th>2010-01-14</th>\n",
       "      <td>Thursday</td>\n",
       "      <td>False</td>\n",
       "      <td>130.380005</td>\n",
       "      <td>126.400002</td>\n",
       "      <td>129.139999</td>\n",
       "      <td>127.349998</td>\n",
       "      <td>9774900</td>\n",
       "      <td>127.349998</td>\n",
       "    </tr>\n",
       "    <tr>\n",
       "      <th>2010-01-15</th>\n",
       "      <td>Friday</td>\n",
       "      <td>False</td>\n",
       "      <td>129.649994</td>\n",
       "      <td>127.059998</td>\n",
       "      <td>129.179993</td>\n",
       "      <td>127.139999</td>\n",
       "      <td>15376500</td>\n",
       "      <td>127.139999</td>\n",
       "    </tr>\n",
       "    <tr>\n",
       "      <th>2010-01-19</th>\n",
       "      <td>Tuesday</td>\n",
       "      <td>False</td>\n",
       "      <td>128.000000</td>\n",
       "      <td>124.330002</td>\n",
       "      <td>126.309998</td>\n",
       "      <td>127.610001</td>\n",
       "      <td>8892600</td>\n",
       "      <td>127.610001</td>\n",
       "    </tr>\n",
       "    <tr>\n",
       "      <th>2010-01-20</th>\n",
       "      <td>Wednesday</td>\n",
       "      <td>False</td>\n",
       "      <td>129.199997</td>\n",
       "      <td>125.080002</td>\n",
       "      <td>127.129997</td>\n",
       "      <td>125.779999</td>\n",
       "      <td>9074700</td>\n",
       "      <td>125.779999</td>\n",
       "    </tr>\n",
       "    <tr>\n",
       "      <th>2010-01-21</th>\n",
       "      <td>Thursday</td>\n",
       "      <td>False</td>\n",
       "      <td>128.149994</td>\n",
       "      <td>125.000000</td>\n",
       "      <td>127.260002</td>\n",
       "      <td>126.620003</td>\n",
       "      <td>9970600</td>\n",
       "      <td>126.620003</td>\n",
       "    </tr>\n",
       "    <tr>\n",
       "      <th>2010-01-22</th>\n",
       "      <td>Friday</td>\n",
       "      <td>False</td>\n",
       "      <td>127.669998</td>\n",
       "      <td>120.760002</td>\n",
       "      <td>125.599998</td>\n",
       "      <td>121.430000</td>\n",
       "      <td>11568900</td>\n",
       "      <td>121.430000</td>\n",
       "    </tr>\n",
       "    <tr>\n",
       "      <th>2010-01-25</th>\n",
       "      <td>Monday</td>\n",
       "      <td>False</td>\n",
       "      <td>122.279999</td>\n",
       "      <td>118.120003</td>\n",
       "      <td>122.099998</td>\n",
       "      <td>120.309998</td>\n",
       "      <td>12023900</td>\n",
       "      <td>120.309998</td>\n",
       "    </tr>\n",
       "    <tr>\n",
       "      <th>2010-01-26</th>\n",
       "      <td>Tuesday</td>\n",
       "      <td>False</td>\n",
       "      <td>122.980003</td>\n",
       "      <td>119.059998</td>\n",
       "      <td>120.559998</td>\n",
       "      <td>119.480003</td>\n",
       "      <td>9559000</td>\n",
       "      <td>119.480003</td>\n",
       "    </tr>\n",
       "    <tr>\n",
       "      <th>2010-01-27</th>\n",
       "      <td>Wednesday</td>\n",
       "      <td>False</td>\n",
       "      <td>123.330002</td>\n",
       "      <td>118.800003</td>\n",
       "      <td>121.029999</td>\n",
       "      <td>122.750000</td>\n",
       "      <td>14765300</td>\n",
       "      <td>122.750000</td>\n",
       "    </tr>\n",
       "    <tr>\n",
       "      <th>2010-01-28</th>\n",
       "      <td>Thursday</td>\n",
       "      <td>False</td>\n",
       "      <td>127.199997</td>\n",
       "      <td>122.800003</td>\n",
       "      <td>124.430000</td>\n",
       "      <td>126.029999</td>\n",
       "      <td>27293100</td>\n",
       "      <td>126.029999</td>\n",
       "    </tr>\n",
       "    <tr>\n",
       "      <th>2010-01-29</th>\n",
       "      <td>Friday</td>\n",
       "      <td>False</td>\n",
       "      <td>131.850006</td>\n",
       "      <td>124.139999</td>\n",
       "      <td>129.770004</td>\n",
       "      <td>125.410004</td>\n",
       "      <td>29471300</td>\n",
       "      <td>125.410004</td>\n",
       "    </tr>\n",
       "    <tr>\n",
       "      <th>2010-02-01</th>\n",
       "      <td>Monday</td>\n",
       "      <td>True</td>\n",
       "      <td>124.860001</td>\n",
       "      <td>113.820000</td>\n",
       "      <td>123.180000</td>\n",
       "      <td>118.870003</td>\n",
       "      <td>37774400</td>\n",
       "      <td>118.870003</td>\n",
       "    </tr>\n",
       "  </tbody>\n",
       "</table>\n",
       "</div>"
      ],
      "text/plain": [
       "           Day of Week  Is start of Month        High         Low        Open  \\\n",
       "Date                                                                            \n",
       "2010-01-04      Monday              False  136.610001  133.139999  136.250000   \n",
       "2010-01-05     Tuesday              False  135.479996  131.809998  133.429993   \n",
       "2010-01-06   Wednesday              False  134.729996  131.649994  134.600006   \n",
       "2010-01-07    Thursday              False  132.320007  128.800003  132.009995   \n",
       "2010-01-08      Friday              False  133.679993  129.029999  130.559998   \n",
       "2010-01-11      Monday              False  132.800003  129.210007  132.619995   \n",
       "2010-01-12     Tuesday              False  129.820007  126.550003  128.990005   \n",
       "2010-01-13   Wednesday              False  129.710007  125.750000  127.900002   \n",
       "2010-01-14    Thursday              False  130.380005  126.400002  129.139999   \n",
       "2010-01-15      Friday              False  129.649994  127.059998  129.179993   \n",
       "2010-01-19     Tuesday              False  128.000000  124.330002  126.309998   \n",
       "2010-01-20   Wednesday              False  129.199997  125.080002  127.129997   \n",
       "2010-01-21    Thursday              False  128.149994  125.000000  127.260002   \n",
       "2010-01-22      Friday              False  127.669998  120.760002  125.599998   \n",
       "2010-01-25      Monday              False  122.279999  118.120003  122.099998   \n",
       "2010-01-26     Tuesday              False  122.980003  119.059998  120.559998   \n",
       "2010-01-27   Wednesday              False  123.330002  118.800003  121.029999   \n",
       "2010-01-28    Thursday              False  127.199997  122.800003  124.430000   \n",
       "2010-01-29      Friday              False  131.850006  124.139999  129.770004   \n",
       "2010-02-01      Monday               True  124.860001  113.820000  123.180000   \n",
       "\n",
       "                 Close    Volume   Adj Close  \n",
       "Date                                          \n",
       "2010-01-04  133.899994   7599900  133.899994  \n",
       "2010-01-05  134.690002   8851900  134.690002  \n",
       "2010-01-06  132.250000   7178800  132.250000  \n",
       "2010-01-07  130.000000  11030200  130.000000  \n",
       "2010-01-08  133.520004   9830500  133.520004  \n",
       "2010-01-11  130.309998   8779400  130.309998  \n",
       "2010-01-12  127.349998   9096300  127.349998  \n",
       "2010-01-13  129.110001  10723200  129.110001  \n",
       "2010-01-14  127.349998   9774900  127.349998  \n",
       "2010-01-15  127.139999  15376500  127.139999  \n",
       "2010-01-19  127.610001   8892600  127.610001  \n",
       "2010-01-20  125.779999   9074700  125.779999  \n",
       "2010-01-21  126.620003   9970600  126.620003  \n",
       "2010-01-22  121.430000  11568900  121.430000  \n",
       "2010-01-25  120.309998  12023900  120.309998  \n",
       "2010-01-26  119.480003   9559000  119.480003  \n",
       "2010-01-27  122.750000  14765300  122.750000  \n",
       "2010-01-28  126.029999  27293100  126.029999  \n",
       "2010-01-29  125.410004  29471300  125.410004  \n",
       "2010-02-01  118.870003  37774400  118.870003  "
      ]
     },
     "execution_count": 141,
     "metadata": {},
     "output_type": "execute_result"
    }
   ],
   "source": [
    "stocks.insert(1, \"Is start of Month\", stocks.index.is_month_start)\n",
    "stocks.head(20)"
   ]
  },
  {
   "cell_type": "code",
   "execution_count": 148,
   "metadata": {},
   "outputs": [
    {
     "data": {
      "text/html": [
       "<div>\n",
       "<style scoped>\n",
       "    .dataframe tbody tr th:only-of-type {\n",
       "        vertical-align: middle;\n",
       "    }\n",
       "\n",
       "    .dataframe tbody tr th {\n",
       "        vertical-align: top;\n",
       "    }\n",
       "\n",
       "    .dataframe thead th {\n",
       "        text-align: right;\n",
       "    }\n",
       "</style>\n",
       "<table border=\"1\" class=\"dataframe\">\n",
       "  <thead>\n",
       "    <tr style=\"text-align: right;\">\n",
       "      <th></th>\n",
       "      <th>Day of Week</th>\n",
       "      <th>Is start of Month</th>\n",
       "      <th>High</th>\n",
       "      <th>Low</th>\n",
       "      <th>Open</th>\n",
       "      <th>Close</th>\n",
       "      <th>Volume</th>\n",
       "      <th>Adj Close</th>\n",
       "    </tr>\n",
       "    <tr>\n",
       "      <th>Date</th>\n",
       "      <th></th>\n",
       "      <th></th>\n",
       "      <th></th>\n",
       "      <th></th>\n",
       "      <th></th>\n",
       "      <th></th>\n",
       "      <th></th>\n",
       "      <th></th>\n",
       "    </tr>\n",
       "  </thead>\n",
       "  <tbody>\n",
       "    <tr>\n",
       "      <th>2010-02-01</th>\n",
       "      <td>Monday</td>\n",
       "      <td>True</td>\n",
       "      <td>124.860001</td>\n",
       "      <td>113.820000</td>\n",
       "      <td>123.180000</td>\n",
       "      <td>118.870003</td>\n",
       "      <td>37774400</td>\n",
       "      <td>118.870003</td>\n",
       "    </tr>\n",
       "    <tr>\n",
       "      <th>2010-03-01</th>\n",
       "      <td>Monday</td>\n",
       "      <td>True</td>\n",
       "      <td>124.660004</td>\n",
       "      <td>117.529999</td>\n",
       "      <td>118.699997</td>\n",
       "      <td>124.540001</td>\n",
       "      <td>13296500</td>\n",
       "      <td>124.540001</td>\n",
       "    </tr>\n",
       "    <tr>\n",
       "      <th>2010-04-01</th>\n",
       "      <td>Thursday</td>\n",
       "      <td>True</td>\n",
       "      <td>136.509995</td>\n",
       "      <td>131.179993</td>\n",
       "      <td>135.800003</td>\n",
       "      <td>131.809998</td>\n",
       "      <td>8785800</td>\n",
       "      <td>131.809998</td>\n",
       "    </tr>\n",
       "    <tr>\n",
       "      <th>2010-06-01</th>\n",
       "      <td>Tuesday</td>\n",
       "      <td>True</td>\n",
       "      <td>126.570000</td>\n",
       "      <td>123.019997</td>\n",
       "      <td>124.970001</td>\n",
       "      <td>123.239998</td>\n",
       "      <td>3659500</td>\n",
       "      <td>123.239998</td>\n",
       "    </tr>\n",
       "    <tr>\n",
       "      <th>2010-07-01</th>\n",
       "      <td>Thursday</td>\n",
       "      <td>True</td>\n",
       "      <td>111.690002</td>\n",
       "      <td>106.699997</td>\n",
       "      <td>108.900002</td>\n",
       "      <td>110.959999</td>\n",
       "      <td>8529800</td>\n",
       "      <td>110.959999</td>\n",
       "    </tr>\n",
       "    <tr>\n",
       "      <th>2010-09-01</th>\n",
       "      <td>Wednesday</td>\n",
       "      <td>True</td>\n",
       "      <td>132.600006</td>\n",
       "      <td>126.169998</td>\n",
       "      <td>126.360001</td>\n",
       "      <td>132.490005</td>\n",
       "      <td>7138300</td>\n",
       "      <td>132.490005</td>\n",
       "    </tr>\n",
       "    <tr>\n",
       "      <th>2010-10-01</th>\n",
       "      <td>Friday</td>\n",
       "      <td>True</td>\n",
       "      <td>157.440002</td>\n",
       "      <td>152.199997</td>\n",
       "      <td>157.080002</td>\n",
       "      <td>153.710007</td>\n",
       "      <td>8683400</td>\n",
       "      <td>153.710007</td>\n",
       "    </tr>\n",
       "    <tr>\n",
       "      <th>2010-11-01</th>\n",
       "      <td>Monday</td>\n",
       "      <td>True</td>\n",
       "      <td>164.580002</td>\n",
       "      <td>161.520004</td>\n",
       "      <td>164.449997</td>\n",
       "      <td>162.580002</td>\n",
       "      <td>5239900</td>\n",
       "      <td>162.580002</td>\n",
       "    </tr>\n",
       "    <tr>\n",
       "      <th>2010-12-01</th>\n",
       "      <td>Wednesday</td>\n",
       "      <td>True</td>\n",
       "      <td>179.320007</td>\n",
       "      <td>176.000000</td>\n",
       "      <td>179.160004</td>\n",
       "      <td>176.550003</td>\n",
       "      <td>5770100</td>\n",
       "      <td>176.550003</td>\n",
       "    </tr>\n",
       "    <tr>\n",
       "      <th>2011-02-01</th>\n",
       "      <td>Tuesday</td>\n",
       "      <td>True</td>\n",
       "      <td>173.100006</td>\n",
       "      <td>169.509995</td>\n",
       "      <td>170.520004</td>\n",
       "      <td>172.110001</td>\n",
       "      <td>5085900</td>\n",
       "      <td>172.110001</td>\n",
       "    </tr>\n",
       "    <tr>\n",
       "      <th>2011-03-01</th>\n",
       "      <td>Tuesday</td>\n",
       "      <td>True</td>\n",
       "      <td>173.960007</td>\n",
       "      <td>168.669998</td>\n",
       "      <td>173.529999</td>\n",
       "      <td>169.440002</td>\n",
       "      <td>5847100</td>\n",
       "      <td>169.440002</td>\n",
       "    </tr>\n",
       "    <tr>\n",
       "      <th>2011-04-01</th>\n",
       "      <td>Friday</td>\n",
       "      <td>True</td>\n",
       "      <td>183.250000</td>\n",
       "      <td>178.589996</td>\n",
       "      <td>181.580002</td>\n",
       "      <td>180.130005</td>\n",
       "      <td>5684100</td>\n",
       "      <td>180.130005</td>\n",
       "    </tr>\n",
       "    <tr>\n",
       "      <th>2011-06-01</th>\n",
       "      <td>Wednesday</td>\n",
       "      <td>True</td>\n",
       "      <td>197.259995</td>\n",
       "      <td>192.050003</td>\n",
       "      <td>196.059998</td>\n",
       "      <td>192.399994</td>\n",
       "      <td>3445200</td>\n",
       "      <td>192.399994</td>\n",
       "    </tr>\n",
       "    <tr>\n",
       "      <th>2011-07-01</th>\n",
       "      <td>Friday</td>\n",
       "      <td>True</td>\n",
       "      <td>210.270004</td>\n",
       "      <td>203.610001</td>\n",
       "      <td>205.550003</td>\n",
       "      <td>209.490005</td>\n",
       "      <td>4008700</td>\n",
       "      <td>209.490005</td>\n",
       "    </tr>\n",
       "    <tr>\n",
       "      <th>2011-08-01</th>\n",
       "      <td>Monday</td>\n",
       "      <td>True</td>\n",
       "      <td>227.449997</td>\n",
       "      <td>217.660004</td>\n",
       "      <td>225.000000</td>\n",
       "      <td>221.320007</td>\n",
       "      <td>5789300</td>\n",
       "      <td>221.320007</td>\n",
       "    </tr>\n",
       "    <tr>\n",
       "      <th>2011-09-01</th>\n",
       "      <td>Thursday</td>\n",
       "      <td>True</td>\n",
       "      <td>217.639999</td>\n",
       "      <td>211.619995</td>\n",
       "      <td>215.279999</td>\n",
       "      <td>212.539993</td>\n",
       "      <td>5275300</td>\n",
       "      <td>212.539993</td>\n",
       "    </tr>\n",
       "    <tr>\n",
       "      <th>2011-11-01</th>\n",
       "      <td>Tuesday</td>\n",
       "      <td>True</td>\n",
       "      <td>216.210007</td>\n",
       "      <td>207.429993</td>\n",
       "      <td>208.110001</td>\n",
       "      <td>212.100006</td>\n",
       "      <td>8511800</td>\n",
       "      <td>212.100006</td>\n",
       "    </tr>\n",
       "    <tr>\n",
       "      <th>2011-12-01</th>\n",
       "      <td>Thursday</td>\n",
       "      <td>True</td>\n",
       "      <td>198.070007</td>\n",
       "      <td>191.589996</td>\n",
       "      <td>191.850006</td>\n",
       "      <td>197.130005</td>\n",
       "      <td>7327700</td>\n",
       "      <td>197.130005</td>\n",
       "    </tr>\n",
       "    <tr>\n",
       "      <th>2012-02-01</th>\n",
       "      <td>Wednesday</td>\n",
       "      <td>True</td>\n",
       "      <td>179.949997</td>\n",
       "      <td>172.000000</td>\n",
       "      <td>173.809998</td>\n",
       "      <td>179.460007</td>\n",
       "      <td>21336600</td>\n",
       "      <td>179.460007</td>\n",
       "    </tr>\n",
       "    <tr>\n",
       "      <th>2012-03-01</th>\n",
       "      <td>Thursday</td>\n",
       "      <td>True</td>\n",
       "      <td>180.490005</td>\n",
       "      <td>176.580002</td>\n",
       "      <td>179.889999</td>\n",
       "      <td>180.039993</td>\n",
       "      <td>4936000</td>\n",
       "      <td>180.039993</td>\n",
       "    </tr>\n",
       "  </tbody>\n",
       "</table>\n",
       "</div>"
      ],
      "text/plain": [
       "           Day of Week  Is start of Month        High         Low        Open  \\\n",
       "Date                                                                            \n",
       "2010-02-01      Monday               True  124.860001  113.820000  123.180000   \n",
       "2010-03-01      Monday               True  124.660004  117.529999  118.699997   \n",
       "2010-04-01    Thursday               True  136.509995  131.179993  135.800003   \n",
       "2010-06-01     Tuesday               True  126.570000  123.019997  124.970001   \n",
       "2010-07-01    Thursday               True  111.690002  106.699997  108.900002   \n",
       "2010-09-01   Wednesday               True  132.600006  126.169998  126.360001   \n",
       "2010-10-01      Friday               True  157.440002  152.199997  157.080002   \n",
       "2010-11-01      Monday               True  164.580002  161.520004  164.449997   \n",
       "2010-12-01   Wednesday               True  179.320007  176.000000  179.160004   \n",
       "2011-02-01     Tuesday               True  173.100006  169.509995  170.520004   \n",
       "2011-03-01     Tuesday               True  173.960007  168.669998  173.529999   \n",
       "2011-04-01      Friday               True  183.250000  178.589996  181.580002   \n",
       "2011-06-01   Wednesday               True  197.259995  192.050003  196.059998   \n",
       "2011-07-01      Friday               True  210.270004  203.610001  205.550003   \n",
       "2011-08-01      Monday               True  227.449997  217.660004  225.000000   \n",
       "2011-09-01    Thursday               True  217.639999  211.619995  215.279999   \n",
       "2011-11-01     Tuesday               True  216.210007  207.429993  208.110001   \n",
       "2011-12-01    Thursday               True  198.070007  191.589996  191.850006   \n",
       "2012-02-01   Wednesday               True  179.949997  172.000000  173.809998   \n",
       "2012-03-01    Thursday               True  180.490005  176.580002  179.889999   \n",
       "\n",
       "                 Close    Volume   Adj Close  \n",
       "Date                                          \n",
       "2010-02-01  118.870003  37774400  118.870003  \n",
       "2010-03-01  124.540001  13296500  124.540001  \n",
       "2010-04-01  131.809998   8785800  131.809998  \n",
       "2010-06-01  123.239998   3659500  123.239998  \n",
       "2010-07-01  110.959999   8529800  110.959999  \n",
       "2010-09-01  132.490005   7138300  132.490005  \n",
       "2010-10-01  153.710007   8683400  153.710007  \n",
       "2010-11-01  162.580002   5239900  162.580002  \n",
       "2010-12-01  176.550003   5770100  176.550003  \n",
       "2011-02-01  172.110001   5085900  172.110001  \n",
       "2011-03-01  169.440002   5847100  169.440002  \n",
       "2011-04-01  180.130005   5684100  180.130005  \n",
       "2011-06-01  192.399994   3445200  192.399994  \n",
       "2011-07-01  209.490005   4008700  209.490005  \n",
       "2011-08-01  221.320007   5789300  221.320007  \n",
       "2011-09-01  212.539993   5275300  212.539993  \n",
       "2011-11-01  212.100006   8511800  212.100006  \n",
       "2011-12-01  197.130005   7327700  197.130005  \n",
       "2012-02-01  179.460007  21336600  179.460007  \n",
       "2012-03-01  180.039993   4936000  180.039993  "
      ]
     },
     "execution_count": 148,
     "metadata": {},
     "output_type": "execute_result"
    }
   ],
   "source": [
    "stocks[stocks[\"Is start of Month\"]].head(20)"
   ]
  },
  {
   "cell_type": "code",
   "execution_count": 143,
   "metadata": {},
   "outputs": [
    {
     "data": {
      "text/plain": [
       "DatetimeIndex(['2010-01-29', '2010-02-26', '2010-03-31', '2010-04-30',\n",
       "               '2010-05-31', '2010-06-30', '2010-07-30', '2010-08-31',\n",
       "               '2010-09-30', '2010-10-29',\n",
       "               ...\n",
       "               '2017-11-30', '2017-12-29', '2018-01-31', '2018-02-28',\n",
       "               '2018-03-30', '2018-04-30', '2018-05-31', '2018-06-29',\n",
       "               '2018-07-31', '2018-08-31'],\n",
       "              dtype='datetime64[ns]', length=104, freq='BM')"
      ]
     },
     "execution_count": 143,
     "metadata": {},
     "output_type": "execute_result"
    }
   ],
   "source": [
    "times = pd.date_range(start = start ,end = end, freq = \"BM\") # \"BM\" means end of month's business day\n",
    "times "
   ]
  },
  {
   "cell_type": "code",
   "execution_count": 146,
   "metadata": {},
   "outputs": [
    {
     "data": {
      "text/html": [
       "<div>\n",
       "<style scoped>\n",
       "    .dataframe tbody tr th:only-of-type {\n",
       "        vertical-align: middle;\n",
       "    }\n",
       "\n",
       "    .dataframe tbody tr th {\n",
       "        vertical-align: top;\n",
       "    }\n",
       "\n",
       "    .dataframe thead th {\n",
       "        text-align: right;\n",
       "    }\n",
       "</style>\n",
       "<table border=\"1\" class=\"dataframe\">\n",
       "  <thead>\n",
       "    <tr style=\"text-align: right;\">\n",
       "      <th></th>\n",
       "      <th>Day of Week</th>\n",
       "      <th>Is start of Month</th>\n",
       "      <th>High</th>\n",
       "      <th>Low</th>\n",
       "      <th>Open</th>\n",
       "      <th>Close</th>\n",
       "      <th>Volume</th>\n",
       "      <th>Adj Close</th>\n",
       "    </tr>\n",
       "    <tr>\n",
       "      <th>Date</th>\n",
       "      <th></th>\n",
       "      <th></th>\n",
       "      <th></th>\n",
       "      <th></th>\n",
       "      <th></th>\n",
       "      <th></th>\n",
       "      <th></th>\n",
       "      <th></th>\n",
       "    </tr>\n",
       "  </thead>\n",
       "  <tbody>\n",
       "    <tr>\n",
       "      <th>2010-01-29</th>\n",
       "      <td>Friday</td>\n",
       "      <td>False</td>\n",
       "      <td>131.850006</td>\n",
       "      <td>124.139999</td>\n",
       "      <td>129.770004</td>\n",
       "      <td>125.410004</td>\n",
       "      <td>29471300</td>\n",
       "      <td>125.410004</td>\n",
       "    </tr>\n",
       "    <tr>\n",
       "      <th>2010-02-26</th>\n",
       "      <td>Friday</td>\n",
       "      <td>False</td>\n",
       "      <td>119.430000</td>\n",
       "      <td>117.000000</td>\n",
       "      <td>117.879997</td>\n",
       "      <td>118.400002</td>\n",
       "      <td>5721600</td>\n",
       "      <td>118.400002</td>\n",
       "    </tr>\n",
       "    <tr>\n",
       "      <th>2010-03-31</th>\n",
       "      <td>Wednesday</td>\n",
       "      <td>False</td>\n",
       "      <td>136.800003</td>\n",
       "      <td>134.479996</td>\n",
       "      <td>136.000000</td>\n",
       "      <td>135.770004</td>\n",
       "      <td>4600600</td>\n",
       "      <td>135.770004</td>\n",
       "    </tr>\n",
       "    <tr>\n",
       "      <th>2010-04-30</th>\n",
       "      <td>Friday</td>\n",
       "      <td>False</td>\n",
       "      <td>141.399994</td>\n",
       "      <td>136.910004</td>\n",
       "      <td>141.399994</td>\n",
       "      <td>137.100006</td>\n",
       "      <td>6113500</td>\n",
       "      <td>137.100006</td>\n",
       "    </tr>\n",
       "    <tr>\n",
       "      <th>2010-06-30</th>\n",
       "      <td>Wednesday</td>\n",
       "      <td>False</td>\n",
       "      <td>112.680000</td>\n",
       "      <td>108.110001</td>\n",
       "      <td>108.580002</td>\n",
       "      <td>109.260002</td>\n",
       "      <td>9740700</td>\n",
       "      <td>109.260002</td>\n",
       "    </tr>\n",
       "    <tr>\n",
       "      <th>2010-07-30</th>\n",
       "      <td>Friday</td>\n",
       "      <td>False</td>\n",
       "      <td>118.739998</td>\n",
       "      <td>114.510002</td>\n",
       "      <td>115.529999</td>\n",
       "      <td>117.889999</td>\n",
       "      <td>7077500</td>\n",
       "      <td>117.889999</td>\n",
       "    </tr>\n",
       "    <tr>\n",
       "      <th>2010-08-31</th>\n",
       "      <td>Tuesday</td>\n",
       "      <td>False</td>\n",
       "      <td>125.900002</td>\n",
       "      <td>122.500000</td>\n",
       "      <td>122.849998</td>\n",
       "      <td>124.830002</td>\n",
       "      <td>4225600</td>\n",
       "      <td>124.830002</td>\n",
       "    </tr>\n",
       "    <tr>\n",
       "      <th>2010-09-30</th>\n",
       "      <td>Thursday</td>\n",
       "      <td>False</td>\n",
       "      <td>160.929993</td>\n",
       "      <td>155.600006</td>\n",
       "      <td>160.009995</td>\n",
       "      <td>157.059998</td>\n",
       "      <td>7606000</td>\n",
       "      <td>157.059998</td>\n",
       "    </tr>\n",
       "    <tr>\n",
       "      <th>2010-10-29</th>\n",
       "      <td>Friday</td>\n",
       "      <td>False</td>\n",
       "      <td>168.500000</td>\n",
       "      <td>164.809998</td>\n",
       "      <td>165.800003</td>\n",
       "      <td>165.229996</td>\n",
       "      <td>4998500</td>\n",
       "      <td>165.229996</td>\n",
       "    </tr>\n",
       "    <tr>\n",
       "      <th>2010-11-30</th>\n",
       "      <td>Tuesday</td>\n",
       "      <td>False</td>\n",
       "      <td>177.699997</td>\n",
       "      <td>174.899994</td>\n",
       "      <td>176.949997</td>\n",
       "      <td>175.399994</td>\n",
       "      <td>6762200</td>\n",
       "      <td>175.399994</td>\n",
       "    </tr>\n",
       "    <tr>\n",
       "      <th>2010-12-31</th>\n",
       "      <td>Friday</td>\n",
       "      <td>False</td>\n",
       "      <td>182.300003</td>\n",
       "      <td>179.509995</td>\n",
       "      <td>181.960007</td>\n",
       "      <td>180.000000</td>\n",
       "      <td>3451900</td>\n",
       "      <td>180.000000</td>\n",
       "    </tr>\n",
       "    <tr>\n",
       "      <th>2011-01-31</th>\n",
       "      <td>Monday</td>\n",
       "      <td>False</td>\n",
       "      <td>171.440002</td>\n",
       "      <td>167.410004</td>\n",
       "      <td>170.160004</td>\n",
       "      <td>169.639999</td>\n",
       "      <td>6718100</td>\n",
       "      <td>169.639999</td>\n",
       "    </tr>\n",
       "    <tr>\n",
       "      <th>2011-02-28</th>\n",
       "      <td>Monday</td>\n",
       "      <td>False</td>\n",
       "      <td>175.889999</td>\n",
       "      <td>172.149994</td>\n",
       "      <td>173.910004</td>\n",
       "      <td>173.289993</td>\n",
       "      <td>6783200</td>\n",
       "      <td>173.289993</td>\n",
       "    </tr>\n",
       "    <tr>\n",
       "      <th>2011-03-31</th>\n",
       "      <td>Thursday</td>\n",
       "      <td>False</td>\n",
       "      <td>181.570007</td>\n",
       "      <td>178.500000</td>\n",
       "      <td>179.309998</td>\n",
       "      <td>180.130005</td>\n",
       "      <td>4826500</td>\n",
       "      <td>180.130005</td>\n",
       "    </tr>\n",
       "    <tr>\n",
       "      <th>2011-04-29</th>\n",
       "      <td>Friday</td>\n",
       "      <td>False</td>\n",
       "      <td>196.589996</td>\n",
       "      <td>193.779999</td>\n",
       "      <td>194.380005</td>\n",
       "      <td>195.809998</td>\n",
       "      <td>6640900</td>\n",
       "      <td>195.809998</td>\n",
       "    </tr>\n",
       "    <tr>\n",
       "      <th>2011-05-31</th>\n",
       "      <td>Tuesday</td>\n",
       "      <td>False</td>\n",
       "      <td>198.440002</td>\n",
       "      <td>195.029999</td>\n",
       "      <td>195.940002</td>\n",
       "      <td>196.690002</td>\n",
       "      <td>3409000</td>\n",
       "      <td>196.690002</td>\n",
       "    </tr>\n",
       "    <tr>\n",
       "      <th>2011-06-30</th>\n",
       "      <td>Thursday</td>\n",
       "      <td>False</td>\n",
       "      <td>205.199997</td>\n",
       "      <td>200.500000</td>\n",
       "      <td>200.779999</td>\n",
       "      <td>204.490005</td>\n",
       "      <td>4448100</td>\n",
       "      <td>204.490005</td>\n",
       "    </tr>\n",
       "    <tr>\n",
       "      <th>2011-07-29</th>\n",
       "      <td>Friday</td>\n",
       "      <td>False</td>\n",
       "      <td>225.750000</td>\n",
       "      <td>219.509995</td>\n",
       "      <td>221.289993</td>\n",
       "      <td>222.520004</td>\n",
       "      <td>5167700</td>\n",
       "      <td>222.520004</td>\n",
       "    </tr>\n",
       "    <tr>\n",
       "      <th>2011-08-31</th>\n",
       "      <td>Wednesday</td>\n",
       "      <td>False</td>\n",
       "      <td>216.169998</td>\n",
       "      <td>211.350006</td>\n",
       "      <td>212.270004</td>\n",
       "      <td>215.229996</td>\n",
       "      <td>7405000</td>\n",
       "      <td>215.229996</td>\n",
       "    </tr>\n",
       "    <tr>\n",
       "      <th>2011-09-30</th>\n",
       "      <td>Friday</td>\n",
       "      <td>False</td>\n",
       "      <td>223.000000</td>\n",
       "      <td>215.210007</td>\n",
       "      <td>218.190002</td>\n",
       "      <td>216.229996</td>\n",
       "      <td>6550300</td>\n",
       "      <td>216.229996</td>\n",
       "    </tr>\n",
       "  </tbody>\n",
       "</table>\n",
       "</div>"
      ],
      "text/plain": [
       "           Day of Week  Is start of Month        High         Low        Open  \\\n",
       "Date                                                                            \n",
       "2010-01-29      Friday              False  131.850006  124.139999  129.770004   \n",
       "2010-02-26      Friday              False  119.430000  117.000000  117.879997   \n",
       "2010-03-31   Wednesday              False  136.800003  134.479996  136.000000   \n",
       "2010-04-30      Friday              False  141.399994  136.910004  141.399994   \n",
       "2010-06-30   Wednesday              False  112.680000  108.110001  108.580002   \n",
       "2010-07-30      Friday              False  118.739998  114.510002  115.529999   \n",
       "2010-08-31     Tuesday              False  125.900002  122.500000  122.849998   \n",
       "2010-09-30    Thursday              False  160.929993  155.600006  160.009995   \n",
       "2010-10-29      Friday              False  168.500000  164.809998  165.800003   \n",
       "2010-11-30     Tuesday              False  177.699997  174.899994  176.949997   \n",
       "2010-12-31      Friday              False  182.300003  179.509995  181.960007   \n",
       "2011-01-31      Monday              False  171.440002  167.410004  170.160004   \n",
       "2011-02-28      Monday              False  175.889999  172.149994  173.910004   \n",
       "2011-03-31    Thursday              False  181.570007  178.500000  179.309998   \n",
       "2011-04-29      Friday              False  196.589996  193.779999  194.380005   \n",
       "2011-05-31     Tuesday              False  198.440002  195.029999  195.940002   \n",
       "2011-06-30    Thursday              False  205.199997  200.500000  200.779999   \n",
       "2011-07-29      Friday              False  225.750000  219.509995  221.289993   \n",
       "2011-08-31   Wednesday              False  216.169998  211.350006  212.270004   \n",
       "2011-09-30      Friday              False  223.000000  215.210007  218.190002   \n",
       "\n",
       "                 Close    Volume   Adj Close  \n",
       "Date                                          \n",
       "2010-01-29  125.410004  29471300  125.410004  \n",
       "2010-02-26  118.400002   5721600  118.400002  \n",
       "2010-03-31  135.770004   4600600  135.770004  \n",
       "2010-04-30  137.100006   6113500  137.100006  \n",
       "2010-06-30  109.260002   9740700  109.260002  \n",
       "2010-07-30  117.889999   7077500  117.889999  \n",
       "2010-08-31  124.830002   4225600  124.830002  \n",
       "2010-09-30  157.059998   7606000  157.059998  \n",
       "2010-10-29  165.229996   4998500  165.229996  \n",
       "2010-11-30  175.399994   6762200  175.399994  \n",
       "2010-12-31  180.000000   3451900  180.000000  \n",
       "2011-01-31  169.639999   6718100  169.639999  \n",
       "2011-02-28  173.289993   6783200  173.289993  \n",
       "2011-03-31  180.130005   4826500  180.130005  \n",
       "2011-04-29  195.809998   6640900  195.809998  \n",
       "2011-05-31  196.690002   3409000  196.690002  \n",
       "2011-06-30  204.490005   4448100  204.490005  \n",
       "2011-07-29  222.520004   5167700  222.520004  \n",
       "2011-08-31  215.229996   7405000  215.229996  \n",
       "2011-09-30  216.229996   6550300  216.229996  "
      ]
     },
     "execution_count": 146,
     "metadata": {},
     "output_type": "execute_result"
    }
   ],
   "source": [
    "mask = stocks.index.isin(times) #use isin method to extrat specific dates\n",
    "stocks[mask].head(20)"
   ]
  },
  {
   "cell_type": "code",
   "execution_count": 147,
   "metadata": {},
   "outputs": [
    {
     "data": {
      "text/html": [
       "<div>\n",
       "<style scoped>\n",
       "    .dataframe tbody tr th:only-of-type {\n",
       "        vertical-align: middle;\n",
       "    }\n",
       "\n",
       "    .dataframe tbody tr th {\n",
       "        vertical-align: top;\n",
       "    }\n",
       "\n",
       "    .dataframe thead th {\n",
       "        text-align: right;\n",
       "    }\n",
       "</style>\n",
       "<table border=\"1\" class=\"dataframe\">\n",
       "  <thead>\n",
       "    <tr style=\"text-align: right;\">\n",
       "      <th></th>\n",
       "      <th>Day of Week</th>\n",
       "      <th>Is start of Month</th>\n",
       "      <th>High</th>\n",
       "      <th>Low</th>\n",
       "      <th>Open</th>\n",
       "      <th>Close</th>\n",
       "      <th>Volume</th>\n",
       "      <th>Adj Close</th>\n",
       "    </tr>\n",
       "    <tr>\n",
       "      <th>Date</th>\n",
       "      <th></th>\n",
       "      <th></th>\n",
       "      <th></th>\n",
       "      <th></th>\n",
       "      <th></th>\n",
       "      <th></th>\n",
       "      <th></th>\n",
       "      <th></th>\n",
       "    </tr>\n",
       "  </thead>\n",
       "  <tbody>\n",
       "    <tr>\n",
       "      <th>2010-05-25</th>\n",
       "      <td>Tuesday</td>\n",
       "      <td>False</td>\n",
       "      <td>125.190002</td>\n",
       "      <td>118.500000</td>\n",
       "      <td>118.540001</td>\n",
       "      <td>124.860001</td>\n",
       "      <td>6913400</td>\n",
       "      <td>124.860001</td>\n",
       "    </tr>\n",
       "    <tr>\n",
       "      <th>2010-05-26</th>\n",
       "      <td>Wednesday</td>\n",
       "      <td>False</td>\n",
       "      <td>125.790001</td>\n",
       "      <td>122.300003</td>\n",
       "      <td>125.050003</td>\n",
       "      <td>123.209999</td>\n",
       "      <td>6964600</td>\n",
       "      <td>123.209999</td>\n",
       "    </tr>\n",
       "    <tr>\n",
       "      <th>2010-05-27</th>\n",
       "      <td>Thursday</td>\n",
       "      <td>False</td>\n",
       "      <td>126.849998</td>\n",
       "      <td>120.599998</td>\n",
       "      <td>124.980003</td>\n",
       "      <td>126.699997</td>\n",
       "      <td>4747700</td>\n",
       "      <td>126.699997</td>\n",
       "    </tr>\n",
       "    <tr>\n",
       "      <th>2010-05-28</th>\n",
       "      <td>Friday</td>\n",
       "      <td>False</td>\n",
       "      <td>127.599998</td>\n",
       "      <td>124.010002</td>\n",
       "      <td>126.070000</td>\n",
       "      <td>125.459999</td>\n",
       "      <td>3954800</td>\n",
       "      <td>125.459999</td>\n",
       "    </tr>\n",
       "    <tr>\n",
       "      <th>2010-06-01</th>\n",
       "      <td>Tuesday</td>\n",
       "      <td>True</td>\n",
       "      <td>126.570000</td>\n",
       "      <td>123.019997</td>\n",
       "      <td>124.970001</td>\n",
       "      <td>123.239998</td>\n",
       "      <td>3659500</td>\n",
       "      <td>123.239998</td>\n",
       "    </tr>\n",
       "    <tr>\n",
       "      <th>2010-06-02</th>\n",
       "      <td>Wednesday</td>\n",
       "      <td>False</td>\n",
       "      <td>126.430000</td>\n",
       "      <td>121.650002</td>\n",
       "      <td>124.019997</td>\n",
       "      <td>126.309998</td>\n",
       "      <td>4764700</td>\n",
       "      <td>126.309998</td>\n",
       "    </tr>\n",
       "    <tr>\n",
       "      <th>2010-06-03</th>\n",
       "      <td>Thursday</td>\n",
       "      <td>False</td>\n",
       "      <td>129.149994</td>\n",
       "      <td>124.849998</td>\n",
       "      <td>126.250000</td>\n",
       "      <td>128.759995</td>\n",
       "      <td>5276900</td>\n",
       "      <td>128.759995</td>\n",
       "    </tr>\n",
       "    <tr>\n",
       "      <th>2010-06-04</th>\n",
       "      <td>Friday</td>\n",
       "      <td>False</td>\n",
       "      <td>128.199997</td>\n",
       "      <td>122.180000</td>\n",
       "      <td>126.330002</td>\n",
       "      <td>122.769997</td>\n",
       "      <td>5497700</td>\n",
       "      <td>122.769997</td>\n",
       "    </tr>\n",
       "  </tbody>\n",
       "</table>\n",
       "</div>"
      ],
      "text/plain": [
       "           Day of Week  Is start of Month        High         Low        Open  \\\n",
       "Date                                                                            \n",
       "2010-05-25     Tuesday              False  125.190002  118.500000  118.540001   \n",
       "2010-05-26   Wednesday              False  125.790001  122.300003  125.050003   \n",
       "2010-05-27    Thursday              False  126.849998  120.599998  124.980003   \n",
       "2010-05-28      Friday              False  127.599998  124.010002  126.070000   \n",
       "2010-06-01     Tuesday               True  126.570000  123.019997  124.970001   \n",
       "2010-06-02   Wednesday              False  126.430000  121.650002  124.019997   \n",
       "2010-06-03    Thursday              False  129.149994  124.849998  126.250000   \n",
       "2010-06-04      Friday              False  128.199997  122.180000  126.330002   \n",
       "\n",
       "                 Close   Volume   Adj Close  \n",
       "Date                                         \n",
       "2010-05-25  124.860001  6913400  124.860001  \n",
       "2010-05-26  123.209999  6964600  123.209999  \n",
       "2010-05-27  126.699997  4747700  126.699997  \n",
       "2010-05-28  125.459999  3954800  125.459999  \n",
       "2010-06-01  123.239998  3659500  123.239998  \n",
       "2010-06-02  126.309998  4764700  126.309998  \n",
       "2010-06-03  128.759995  5276900  128.759995  \n",
       "2010-06-04  122.769997  5497700  122.769997  "
      ]
     },
     "execution_count": 147,
     "metadata": {},
     "output_type": "execute_result"
    }
   ],
   "source": [
    "stocks.loc[\"2010-05-25\":\"2010-06-05\"] \n",
    "# extract a apecific date range\n",
    "# 2010-5-31 was the end of the month and end of the business day, but it was a Federal holiday.\n",
    "# You ca use holidays library to solve this problem"
   ]
  },
  {
   "cell_type": "markdown",
   "metadata": {},
   "source": [
    "## The .truncate() Method"
   ]
  },
  {
   "cell_type": "code",
   "execution_count": 153,
   "metadata": {},
   "outputs": [
    {
     "data": {
      "text/html": [
       "<div>\n",
       "<style scoped>\n",
       "    .dataframe tbody tr th:only-of-type {\n",
       "        vertical-align: middle;\n",
       "    }\n",
       "\n",
       "    .dataframe tbody tr th {\n",
       "        vertical-align: top;\n",
       "    }\n",
       "\n",
       "    .dataframe thead th {\n",
       "        text-align: right;\n",
       "    }\n",
       "</style>\n",
       "<table border=\"1\" class=\"dataframe\">\n",
       "  <thead>\n",
       "    <tr style=\"text-align: right;\">\n",
       "      <th></th>\n",
       "      <th>High</th>\n",
       "      <th>Low</th>\n",
       "      <th>Open</th>\n",
       "      <th>Close</th>\n",
       "      <th>Volume</th>\n",
       "      <th>Adj Close</th>\n",
       "    </tr>\n",
       "    <tr>\n",
       "      <th>Date</th>\n",
       "      <th></th>\n",
       "      <th></th>\n",
       "      <th></th>\n",
       "      <th></th>\n",
       "      <th></th>\n",
       "      <th></th>\n",
       "    </tr>\n",
       "  </thead>\n",
       "  <tbody>\n",
       "    <tr>\n",
       "      <th>2010-01-04</th>\n",
       "      <td>136.610001</td>\n",
       "      <td>133.139999</td>\n",
       "      <td>136.250000</td>\n",
       "      <td>133.899994</td>\n",
       "      <td>7599900</td>\n",
       "      <td>133.899994</td>\n",
       "    </tr>\n",
       "    <tr>\n",
       "      <th>2010-01-05</th>\n",
       "      <td>135.479996</td>\n",
       "      <td>131.809998</td>\n",
       "      <td>133.429993</td>\n",
       "      <td>134.690002</td>\n",
       "      <td>8851900</td>\n",
       "      <td>134.690002</td>\n",
       "    </tr>\n",
       "    <tr>\n",
       "      <th>2010-01-06</th>\n",
       "      <td>134.729996</td>\n",
       "      <td>131.649994</td>\n",
       "      <td>134.600006</td>\n",
       "      <td>132.250000</td>\n",
       "      <td>7178800</td>\n",
       "      <td>132.250000</td>\n",
       "    </tr>\n",
       "    <tr>\n",
       "      <th>2010-01-07</th>\n",
       "      <td>132.320007</td>\n",
       "      <td>128.800003</td>\n",
       "      <td>132.009995</td>\n",
       "      <td>130.000000</td>\n",
       "      <td>11030200</td>\n",
       "      <td>130.000000</td>\n",
       "    </tr>\n",
       "    <tr>\n",
       "      <th>2010-01-08</th>\n",
       "      <td>133.679993</td>\n",
       "      <td>129.029999</td>\n",
       "      <td>130.559998</td>\n",
       "      <td>133.520004</td>\n",
       "      <td>9830500</td>\n",
       "      <td>133.520004</td>\n",
       "    </tr>\n",
       "  </tbody>\n",
       "</table>\n",
       "</div>"
      ],
      "text/plain": [
       "                  High         Low        Open       Close    Volume  \\\n",
       "Date                                                                   \n",
       "2010-01-04  136.610001  133.139999  136.250000  133.899994   7599900   \n",
       "2010-01-05  135.479996  131.809998  133.429993  134.690002   8851900   \n",
       "2010-01-06  134.729996  131.649994  134.600006  132.250000   7178800   \n",
       "2010-01-07  132.320007  128.800003  132.009995  130.000000  11030200   \n",
       "2010-01-08  133.679993  129.029999  130.559998  133.520004   9830500   \n",
       "\n",
       "             Adj Close  \n",
       "Date                    \n",
       "2010-01-04  133.899994  \n",
       "2010-01-05  134.690002  \n",
       "2010-01-06  132.250000  \n",
       "2010-01-07  130.000000  \n",
       "2010-01-08  133.520004  "
      ]
     },
     "execution_count": 153,
     "metadata": {},
     "output_type": "execute_result"
    }
   ],
   "source": [
    "company = \"AMZN\"\n",
    "start = \"2010-01-01\"\n",
    "end = \"2018-09-27\"\n",
    "stocks =  pdr.get_data_yahoo(company, start = start, end = dt.date.today())\n",
    "stocks.head()"
   ]
  },
  {
   "cell_type": "code",
   "execution_count": 154,
   "metadata": {},
   "outputs": [
    {
     "data": {
      "text/html": [
       "<div>\n",
       "<style scoped>\n",
       "    .dataframe tbody tr th:only-of-type {\n",
       "        vertical-align: middle;\n",
       "    }\n",
       "\n",
       "    .dataframe tbody tr th {\n",
       "        vertical-align: top;\n",
       "    }\n",
       "\n",
       "    .dataframe thead th {\n",
       "        text-align: right;\n",
       "    }\n",
       "</style>\n",
       "<table border=\"1\" class=\"dataframe\">\n",
       "  <thead>\n",
       "    <tr style=\"text-align: right;\">\n",
       "      <th></th>\n",
       "      <th>High</th>\n",
       "      <th>Low</th>\n",
       "      <th>Open</th>\n",
       "      <th>Close</th>\n",
       "      <th>Volume</th>\n",
       "      <th>Adj Close</th>\n",
       "    </tr>\n",
       "    <tr>\n",
       "      <th>Date</th>\n",
       "      <th></th>\n",
       "      <th></th>\n",
       "      <th></th>\n",
       "      <th></th>\n",
       "      <th></th>\n",
       "      <th></th>\n",
       "    </tr>\n",
       "  </thead>\n",
       "  <tbody>\n",
       "    <tr>\n",
       "      <th>2018-08-01</th>\n",
       "      <td>1798.439941</td>\n",
       "      <td>1776.020020</td>\n",
       "      <td>1784.000000</td>\n",
       "      <td>1797.170044</td>\n",
       "      <td>4153100</td>\n",
       "      <td>1797.170044</td>\n",
       "    </tr>\n",
       "    <tr>\n",
       "      <th>2018-08-02</th>\n",
       "      <td>1836.560059</td>\n",
       "      <td>1786.000000</td>\n",
       "      <td>1788.770020</td>\n",
       "      <td>1834.329956</td>\n",
       "      <td>4354700</td>\n",
       "      <td>1834.329956</td>\n",
       "    </tr>\n",
       "    <tr>\n",
       "      <th>2018-08-03</th>\n",
       "      <td>1841.000000</td>\n",
       "      <td>1821.500000</td>\n",
       "      <td>1837.739990</td>\n",
       "      <td>1823.290039</td>\n",
       "      <td>3460500</td>\n",
       "      <td>1823.290039</td>\n",
       "    </tr>\n",
       "    <tr>\n",
       "      <th>2018-08-06</th>\n",
       "      <td>1847.770020</td>\n",
       "      <td>1818.920044</td>\n",
       "      <td>1825.810059</td>\n",
       "      <td>1847.750000</td>\n",
       "      <td>3391800</td>\n",
       "      <td>1847.750000</td>\n",
       "    </tr>\n",
       "    <tr>\n",
       "      <th>2018-08-07</th>\n",
       "      <td>1869.719971</td>\n",
       "      <td>1846.270020</td>\n",
       "      <td>1854.530029</td>\n",
       "      <td>1862.479980</td>\n",
       "      <td>3377500</td>\n",
       "      <td>1862.479980</td>\n",
       "    </tr>\n",
       "    <tr>\n",
       "      <th>2018-08-08</th>\n",
       "      <td>1891.510010</td>\n",
       "      <td>1854.500000</td>\n",
       "      <td>1861.000000</td>\n",
       "      <td>1886.520020</td>\n",
       "      <td>3963000</td>\n",
       "      <td>1886.520020</td>\n",
       "    </tr>\n",
       "    <tr>\n",
       "      <th>2018-08-09</th>\n",
       "      <td>1914.569946</td>\n",
       "      <td>1877.479980</td>\n",
       "      <td>1882.000000</td>\n",
       "      <td>1898.520020</td>\n",
       "      <td>4849900</td>\n",
       "      <td>1898.520020</td>\n",
       "    </tr>\n",
       "    <tr>\n",
       "      <th>2018-08-10</th>\n",
       "      <td>1899.500000</td>\n",
       "      <td>1878.209961</td>\n",
       "      <td>1888.510010</td>\n",
       "      <td>1886.300049</td>\n",
       "      <td>3639900</td>\n",
       "      <td>1886.300049</td>\n",
       "    </tr>\n",
       "    <tr>\n",
       "      <th>2018-08-13</th>\n",
       "      <td>1925.000000</td>\n",
       "      <td>1893.670044</td>\n",
       "      <td>1898.500000</td>\n",
       "      <td>1896.199951</td>\n",
       "      <td>5512600</td>\n",
       "      <td>1896.199951</td>\n",
       "    </tr>\n",
       "    <tr>\n",
       "      <th>2018-08-14</th>\n",
       "      <td>1921.010010</td>\n",
       "      <td>1900.000000</td>\n",
       "      <td>1919.390015</td>\n",
       "      <td>1919.650024</td>\n",
       "      <td>3986100</td>\n",
       "      <td>1919.650024</td>\n",
       "    </tr>\n",
       "    <tr>\n",
       "      <th>2018-08-15</th>\n",
       "      <td>1916.209961</td>\n",
       "      <td>1869.790039</td>\n",
       "      <td>1909.550049</td>\n",
       "      <td>1882.619995</td>\n",
       "      <td>7700700</td>\n",
       "      <td>1882.619995</td>\n",
       "    </tr>\n",
       "    <tr>\n",
       "      <th>2018-08-16</th>\n",
       "      <td>1905.000000</td>\n",
       "      <td>1883.550049</td>\n",
       "      <td>1903.939941</td>\n",
       "      <td>1886.520020</td>\n",
       "      <td>3957100</td>\n",
       "      <td>1886.520020</td>\n",
       "    </tr>\n",
       "    <tr>\n",
       "      <th>2018-08-17</th>\n",
       "      <td>1888.000000</td>\n",
       "      <td>1855.550049</td>\n",
       "      <td>1885.800049</td>\n",
       "      <td>1882.219971</td>\n",
       "      <td>4104300</td>\n",
       "      <td>1882.219971</td>\n",
       "    </tr>\n",
       "    <tr>\n",
       "      <th>2018-08-20</th>\n",
       "      <td>1891.750000</td>\n",
       "      <td>1866.060059</td>\n",
       "      <td>1890.569946</td>\n",
       "      <td>1876.709961</td>\n",
       "      <td>2862000</td>\n",
       "      <td>1876.709961</td>\n",
       "    </tr>\n",
       "    <tr>\n",
       "      <th>2018-08-21</th>\n",
       "      <td>1897.750000</td>\n",
       "      <td>1874.410034</td>\n",
       "      <td>1880.000000</td>\n",
       "      <td>1883.420044</td>\n",
       "      <td>3105600</td>\n",
       "      <td>1883.420044</td>\n",
       "    </tr>\n",
       "    <tr>\n",
       "      <th>2018-08-22</th>\n",
       "      <td>1905.800049</td>\n",
       "      <td>1876.640015</td>\n",
       "      <td>1876.640015</td>\n",
       "      <td>1904.900024</td>\n",
       "      <td>3080500</td>\n",
       "      <td>1904.900024</td>\n",
       "    </tr>\n",
       "    <tr>\n",
       "      <th>2018-08-23</th>\n",
       "      <td>1919.500000</td>\n",
       "      <td>1900.760010</td>\n",
       "      <td>1907.170044</td>\n",
       "      <td>1902.900024</td>\n",
       "      <td>3563000</td>\n",
       "      <td>1902.900024</td>\n",
       "    </tr>\n",
       "    <tr>\n",
       "      <th>2018-08-24</th>\n",
       "      <td>1916.010010</td>\n",
       "      <td>1902.540039</td>\n",
       "      <td>1910.510010</td>\n",
       "      <td>1905.390015</td>\n",
       "      <td>2800900</td>\n",
       "      <td>1905.390015</td>\n",
       "    </tr>\n",
       "    <tr>\n",
       "      <th>2018-08-27</th>\n",
       "      <td>1927.699951</td>\n",
       "      <td>1909.280029</td>\n",
       "      <td>1915.000000</td>\n",
       "      <td>1927.680054</td>\n",
       "      <td>3569000</td>\n",
       "      <td>1927.680054</td>\n",
       "    </tr>\n",
       "    <tr>\n",
       "      <th>2018-08-28</th>\n",
       "      <td>1941.780029</td>\n",
       "      <td>1928.819946</td>\n",
       "      <td>1937.729980</td>\n",
       "      <td>1932.819946</td>\n",
       "      <td>3100700</td>\n",
       "      <td>1932.819946</td>\n",
       "    </tr>\n",
       "    <tr>\n",
       "      <th>2018-08-29</th>\n",
       "      <td>1998.689941</td>\n",
       "      <td>1948.939941</td>\n",
       "      <td>1953.449951</td>\n",
       "      <td>1998.099976</td>\n",
       "      <td>6531800</td>\n",
       "      <td>1998.099976</td>\n",
       "    </tr>\n",
       "    <tr>\n",
       "      <th>2018-08-30</th>\n",
       "      <td>2025.569946</td>\n",
       "      <td>1986.900024</td>\n",
       "      <td>1997.420044</td>\n",
       "      <td>2002.380005</td>\n",
       "      <td>7277300</td>\n",
       "      <td>2002.380005</td>\n",
       "    </tr>\n",
       "    <tr>\n",
       "      <th>2018-08-31</th>\n",
       "      <td>2022.380005</td>\n",
       "      <td>2004.739990</td>\n",
       "      <td>2007.000000</td>\n",
       "      <td>2012.709961</td>\n",
       "      <td>4204400</td>\n",
       "      <td>2012.709961</td>\n",
       "    </tr>\n",
       "  </tbody>\n",
       "</table>\n",
       "</div>"
      ],
      "text/plain": [
       "                   High          Low         Open        Close   Volume  \\\n",
       "Date                                                                      \n",
       "2018-08-01  1798.439941  1776.020020  1784.000000  1797.170044  4153100   \n",
       "2018-08-02  1836.560059  1786.000000  1788.770020  1834.329956  4354700   \n",
       "2018-08-03  1841.000000  1821.500000  1837.739990  1823.290039  3460500   \n",
       "2018-08-06  1847.770020  1818.920044  1825.810059  1847.750000  3391800   \n",
       "2018-08-07  1869.719971  1846.270020  1854.530029  1862.479980  3377500   \n",
       "2018-08-08  1891.510010  1854.500000  1861.000000  1886.520020  3963000   \n",
       "2018-08-09  1914.569946  1877.479980  1882.000000  1898.520020  4849900   \n",
       "2018-08-10  1899.500000  1878.209961  1888.510010  1886.300049  3639900   \n",
       "2018-08-13  1925.000000  1893.670044  1898.500000  1896.199951  5512600   \n",
       "2018-08-14  1921.010010  1900.000000  1919.390015  1919.650024  3986100   \n",
       "2018-08-15  1916.209961  1869.790039  1909.550049  1882.619995  7700700   \n",
       "2018-08-16  1905.000000  1883.550049  1903.939941  1886.520020  3957100   \n",
       "2018-08-17  1888.000000  1855.550049  1885.800049  1882.219971  4104300   \n",
       "2018-08-20  1891.750000  1866.060059  1890.569946  1876.709961  2862000   \n",
       "2018-08-21  1897.750000  1874.410034  1880.000000  1883.420044  3105600   \n",
       "2018-08-22  1905.800049  1876.640015  1876.640015  1904.900024  3080500   \n",
       "2018-08-23  1919.500000  1900.760010  1907.170044  1902.900024  3563000   \n",
       "2018-08-24  1916.010010  1902.540039  1910.510010  1905.390015  2800900   \n",
       "2018-08-27  1927.699951  1909.280029  1915.000000  1927.680054  3569000   \n",
       "2018-08-28  1941.780029  1928.819946  1937.729980  1932.819946  3100700   \n",
       "2018-08-29  1998.689941  1948.939941  1953.449951  1998.099976  6531800   \n",
       "2018-08-30  2025.569946  1986.900024  1997.420044  2002.380005  7277300   \n",
       "2018-08-31  2022.380005  2004.739990  2007.000000  2012.709961  4204400   \n",
       "\n",
       "              Adj Close  \n",
       "Date                     \n",
       "2018-08-01  1797.170044  \n",
       "2018-08-02  1834.329956  \n",
       "2018-08-03  1823.290039  \n",
       "2018-08-06  1847.750000  \n",
       "2018-08-07  1862.479980  \n",
       "2018-08-08  1886.520020  \n",
       "2018-08-09  1898.520020  \n",
       "2018-08-10  1886.300049  \n",
       "2018-08-13  1896.199951  \n",
       "2018-08-14  1919.650024  \n",
       "2018-08-15  1882.619995  \n",
       "2018-08-16  1886.520020  \n",
       "2018-08-17  1882.219971  \n",
       "2018-08-20  1876.709961  \n",
       "2018-08-21  1883.420044  \n",
       "2018-08-22  1904.900024  \n",
       "2018-08-23  1902.900024  \n",
       "2018-08-24  1905.390015  \n",
       "2018-08-27  1927.680054  \n",
       "2018-08-28  1932.819946  \n",
       "2018-08-29  1998.099976  \n",
       "2018-08-30  2002.380005  \n",
       "2018-08-31  2012.709961  "
      ]
     },
     "execution_count": 154,
     "metadata": {},
     "output_type": "execute_result"
    }
   ],
   "source": [
    "stocks.truncate(before =\"2018-08-01\", after=\"2018-08-31\") #slicing method called directly on a dataframe"
   ]
  },
  {
   "cell_type": "markdown",
   "metadata": {},
   "source": [
    "## pd.DateOffset Objects"
   ]
  },
  {
   "cell_type": "code",
   "execution_count": 157,
   "metadata": {},
   "outputs": [
    {
     "data": {
      "text/html": [
       "<div>\n",
       "<style scoped>\n",
       "    .dataframe tbody tr th:only-of-type {\n",
       "        vertical-align: middle;\n",
       "    }\n",
       "\n",
       "    .dataframe tbody tr th {\n",
       "        vertical-align: top;\n",
       "    }\n",
       "\n",
       "    .dataframe thead th {\n",
       "        text-align: right;\n",
       "    }\n",
       "</style>\n",
       "<table border=\"1\" class=\"dataframe\">\n",
       "  <thead>\n",
       "    <tr style=\"text-align: right;\">\n",
       "      <th></th>\n",
       "      <th>High</th>\n",
       "      <th>Low</th>\n",
       "      <th>Open</th>\n",
       "      <th>Close</th>\n",
       "      <th>Volume</th>\n",
       "      <th>Adj Close</th>\n",
       "    </tr>\n",
       "    <tr>\n",
       "      <th>Date</th>\n",
       "      <th></th>\n",
       "      <th></th>\n",
       "      <th></th>\n",
       "      <th></th>\n",
       "      <th></th>\n",
       "      <th></th>\n",
       "    </tr>\n",
       "  </thead>\n",
       "  <tbody>\n",
       "    <tr>\n",
       "      <th>2004-08-19</th>\n",
       "      <td>51.693783</td>\n",
       "      <td>47.669952</td>\n",
       "      <td>49.676899</td>\n",
       "      <td>49.845802</td>\n",
       "      <td>44994500.0</td>\n",
       "      <td>49.845802</td>\n",
       "    </tr>\n",
       "    <tr>\n",
       "      <th>2004-08-20</th>\n",
       "      <td>54.187561</td>\n",
       "      <td>49.925285</td>\n",
       "      <td>50.178635</td>\n",
       "      <td>53.805050</td>\n",
       "      <td>23005800.0</td>\n",
       "      <td>53.805050</td>\n",
       "    </tr>\n",
       "    <tr>\n",
       "      <th>2004-08-23</th>\n",
       "      <td>56.373344</td>\n",
       "      <td>54.172661</td>\n",
       "      <td>55.017166</td>\n",
       "      <td>54.346527</td>\n",
       "      <td>18393200.0</td>\n",
       "      <td>54.346527</td>\n",
       "    </tr>\n",
       "    <tr>\n",
       "      <th>2004-08-24</th>\n",
       "      <td>55.439419</td>\n",
       "      <td>51.450363</td>\n",
       "      <td>55.260582</td>\n",
       "      <td>52.096165</td>\n",
       "      <td>15361800.0</td>\n",
       "      <td>52.096165</td>\n",
       "    </tr>\n",
       "    <tr>\n",
       "      <th>2004-08-25</th>\n",
       "      <td>53.651051</td>\n",
       "      <td>51.604362</td>\n",
       "      <td>52.140873</td>\n",
       "      <td>52.657513</td>\n",
       "      <td>9257400.0</td>\n",
       "      <td>52.657513</td>\n",
       "    </tr>\n",
       "  </tbody>\n",
       "</table>\n",
       "</div>"
      ],
      "text/plain": [
       "                 High        Low       Open      Close      Volume  Adj Close\n",
       "Date                                                                         \n",
       "2004-08-19  51.693783  47.669952  49.676899  49.845802  44994500.0  49.845802\n",
       "2004-08-20  54.187561  49.925285  50.178635  53.805050  23005800.0  53.805050\n",
       "2004-08-23  56.373344  54.172661  55.017166  54.346527  18393200.0  54.346527\n",
       "2004-08-24  55.439419  51.450363  55.260582  52.096165  15361800.0  52.096165\n",
       "2004-08-25  53.651051  51.604362  52.140873  52.657513   9257400.0  52.657513"
      ]
     },
     "execution_count": 157,
     "metadata": {},
     "output_type": "execute_result"
    }
   ],
   "source": [
    "company = \"GOOG\"\n",
    "start = \"2010-01-01\"\n",
    "end = \"2018-09-27\"\n",
    "stocks =  pdr.get_data_yahoo(company, start = dt.date(2000, 1, 1), end = dt.datetime.now()) # get the current time\n",
    "stocks.head()"
   ]
  },
  {
   "cell_type": "code",
   "execution_count": 159,
   "metadata": {},
   "outputs": [
    {
     "data": {
      "text/html": [
       "<div>\n",
       "<style scoped>\n",
       "    .dataframe tbody tr th:only-of-type {\n",
       "        vertical-align: middle;\n",
       "    }\n",
       "\n",
       "    .dataframe tbody tr th {\n",
       "        vertical-align: top;\n",
       "    }\n",
       "\n",
       "    .dataframe thead th {\n",
       "        text-align: right;\n",
       "    }\n",
       "</style>\n",
       "<table border=\"1\" class=\"dataframe\">\n",
       "  <thead>\n",
       "    <tr style=\"text-align: right;\">\n",
       "      <th></th>\n",
       "      <th>High</th>\n",
       "      <th>Low</th>\n",
       "      <th>Open</th>\n",
       "      <th>Close</th>\n",
       "      <th>Volume</th>\n",
       "      <th>Adj Close</th>\n",
       "    </tr>\n",
       "    <tr>\n",
       "      <th>Date</th>\n",
       "      <th></th>\n",
       "      <th></th>\n",
       "      <th></th>\n",
       "      <th></th>\n",
       "      <th></th>\n",
       "      <th></th>\n",
       "    </tr>\n",
       "  </thead>\n",
       "  <tbody>\n",
       "    <tr>\n",
       "      <th>2018-09-20</th>\n",
       "      <td>1189.890015</td>\n",
       "      <td>1173.359985</td>\n",
       "      <td>1179.989990</td>\n",
       "      <td>1186.869995</td>\n",
       "      <td>1210000.0</td>\n",
       "      <td>1186.869995</td>\n",
       "    </tr>\n",
       "    <tr>\n",
       "      <th>2018-09-21</th>\n",
       "      <td>1192.209961</td>\n",
       "      <td>1166.040039</td>\n",
       "      <td>1192.000000</td>\n",
       "      <td>1166.089966</td>\n",
       "      <td>4405600.0</td>\n",
       "      <td>1166.089966</td>\n",
       "    </tr>\n",
       "    <tr>\n",
       "      <th>2018-09-24</th>\n",
       "      <td>1178.000000</td>\n",
       "      <td>1146.910034</td>\n",
       "      <td>1157.170044</td>\n",
       "      <td>1173.369995</td>\n",
       "      <td>1271000.0</td>\n",
       "      <td>1173.369995</td>\n",
       "    </tr>\n",
       "    <tr>\n",
       "      <th>2018-09-25</th>\n",
       "      <td>1186.880005</td>\n",
       "      <td>1168.000000</td>\n",
       "      <td>1176.150024</td>\n",
       "      <td>1184.650024</td>\n",
       "      <td>977700.0</td>\n",
       "      <td>1184.650024</td>\n",
       "    </tr>\n",
       "    <tr>\n",
       "      <th>2018-09-26</th>\n",
       "      <td>1194.229980</td>\n",
       "      <td>1174.765015</td>\n",
       "      <td>1185.150024</td>\n",
       "      <td>1180.489990</td>\n",
       "      <td>1346800.0</td>\n",
       "      <td>1180.489990</td>\n",
       "    </tr>\n",
       "  </tbody>\n",
       "</table>\n",
       "</div>"
      ],
      "text/plain": [
       "                   High          Low         Open        Close     Volume  \\\n",
       "Date                                                                        \n",
       "2018-09-20  1189.890015  1173.359985  1179.989990  1186.869995  1210000.0   \n",
       "2018-09-21  1192.209961  1166.040039  1192.000000  1166.089966  4405600.0   \n",
       "2018-09-24  1178.000000  1146.910034  1157.170044  1173.369995  1271000.0   \n",
       "2018-09-25  1186.880005  1168.000000  1176.150024  1184.650024   977700.0   \n",
       "2018-09-26  1194.229980  1174.765015  1185.150024  1180.489990  1346800.0   \n",
       "\n",
       "              Adj Close  \n",
       "Date                     \n",
       "2018-09-20  1186.869995  \n",
       "2018-09-21  1166.089966  \n",
       "2018-09-24  1173.369995  \n",
       "2018-09-25  1184.650024  \n",
       "2018-09-26  1180.489990  "
      ]
     },
     "execution_count": 159,
     "metadata": {},
     "output_type": "execute_result"
    }
   ],
   "source": [
    "stocks.tail()"
   ]
  },
  {
   "cell_type": "code",
   "execution_count": 162,
   "metadata": {},
   "outputs": [
    {
     "data": {
      "text/plain": [
       "datetime.datetime(2018, 9, 27, 11, 16, 18, 669708)"
      ]
     },
     "execution_count": 162,
     "metadata": {},
     "output_type": "execute_result"
    }
   ],
   "source": [
    "dt.datetime.now()"
   ]
  },
  {
   "cell_type": "code",
   "execution_count": 161,
   "metadata": {},
   "outputs": [
    {
     "data": {
      "text/plain": [
       "datetime.date(2018, 9, 27)"
      ]
     },
     "execution_count": 161,
     "metadata": {},
     "output_type": "execute_result"
    }
   ],
   "source": [
    "dt.date.today()"
   ]
  },
  {
   "cell_type": "code",
   "execution_count": 163,
   "metadata": {},
   "outputs": [
    {
     "data": {
      "text/plain": [
       "DatetimeIndex(['2004-08-19', '2004-08-20', '2004-08-23', '2004-08-24',\n",
       "               '2004-08-25', '2004-08-26', '2004-08-27', '2004-08-30',\n",
       "               '2004-08-31', '2004-09-01',\n",
       "               ...\n",
       "               '2018-09-13', '2018-09-14', '2018-09-17', '2018-09-18',\n",
       "               '2018-09-19', '2018-09-20', '2018-09-21', '2018-09-24',\n",
       "               '2018-09-25', '2018-09-26'],\n",
       "              dtype='datetime64[ns]', name='Date', length=3552, freq=None)"
      ]
     },
     "execution_count": 163,
     "metadata": {},
     "output_type": "execute_result"
    }
   ],
   "source": [
    "stocks.index"
   ]
  },
  {
   "cell_type": "code",
   "execution_count": 164,
   "metadata": {},
   "outputs": [
    {
     "data": {
      "text/plain": [
       "DatetimeIndex(['2004-08-24', '2004-08-25', '2004-08-28', '2004-08-29',\n",
       "               '2004-08-30', '2004-08-31', '2004-09-01', '2004-09-04',\n",
       "               '2004-09-05', '2004-09-06',\n",
       "               ...\n",
       "               '2018-09-18', '2018-09-19', '2018-09-22', '2018-09-23',\n",
       "               '2018-09-24', '2018-09-25', '2018-09-26', '2018-09-29',\n",
       "               '2018-09-30', '2018-10-01'],\n",
       "              dtype='datetime64[ns]', name='Date', length=3552, freq=None)"
      ]
     },
     "execution_count": 164,
     "metadata": {},
     "output_type": "execute_result"
    }
   ],
   "source": [
    "stocks.index + pd.DateOffset(days = 5) #add 5 days to every day"
   ]
  },
  {
   "cell_type": "code",
   "execution_count": 165,
   "metadata": {},
   "outputs": [
    {
     "data": {
      "text/plain": [
       "DatetimeIndex(['2004-09-02', '2004-09-03', '2004-09-06', '2004-09-07',\n",
       "               '2004-09-08', '2004-09-09', '2004-09-10', '2004-09-13',\n",
       "               '2004-09-14', '2004-09-15',\n",
       "               ...\n",
       "               '2018-09-27', '2018-09-28', '2018-10-01', '2018-10-02',\n",
       "               '2018-10-03', '2018-10-04', '2018-10-05', '2018-10-08',\n",
       "               '2018-10-09', '2018-10-10'],\n",
       "              dtype='datetime64[ns]', name='Date', length=3552, freq=None)"
      ]
     },
     "execution_count": 165,
     "metadata": {},
     "output_type": "execute_result"
    }
   ],
   "source": [
    "stocks.index + pd.DateOffset(weeks = 2) #add 2 weeks to every day"
   ]
  },
  {
   "cell_type": "code",
   "execution_count": 166,
   "metadata": {},
   "outputs": [
    {
     "data": {
      "text/plain": [
       "DatetimeIndex(['2004-05-19', '2004-05-20', '2004-05-23', '2004-05-24',\n",
       "               '2004-05-25', '2004-05-26', '2004-05-27', '2004-05-30',\n",
       "               '2004-05-31', '2004-06-01',\n",
       "               ...\n",
       "               '2018-06-13', '2018-06-14', '2018-06-17', '2018-06-18',\n",
       "               '2018-06-19', '2018-06-20', '2018-06-21', '2018-06-24',\n",
       "               '2018-06-25', '2018-06-26'],\n",
       "              dtype='datetime64[ns]', name='Date', length=3552, freq=None)"
      ]
     },
     "execution_count": 166,
     "metadata": {},
     "output_type": "execute_result"
    }
   ],
   "source": [
    "stocks.index - pd.DateOffset(months = 3) #subtract 3 months from every day"
   ]
  },
  {
   "cell_type": "code",
   "execution_count": 168,
   "metadata": {},
   "outputs": [
    {
     "data": {
      "text/plain": [
       "DatetimeIndex(['2003-08-19', '2003-08-20', '2003-08-23', '2003-08-24',\n",
       "               '2003-08-25', '2003-08-26', '2003-08-27', '2003-08-30',\n",
       "               '2003-08-31', '2003-09-01',\n",
       "               ...\n",
       "               '2017-09-13', '2017-09-14', '2017-09-17', '2017-09-18',\n",
       "               '2017-09-19', '2017-09-20', '2017-09-21', '2017-09-24',\n",
       "               '2017-09-25', '2017-09-26'],\n",
       "              dtype='datetime64[ns]', name='Date', length=3552, freq=None)"
      ]
     },
     "execution_count": 168,
     "metadata": {},
     "output_type": "execute_result"
    }
   ],
   "source": [
    "stocks.index - pd.DateOffset(years = 1) #subtract 1 year from every day"
   ]
  },
  {
   "cell_type": "code",
   "execution_count": 169,
   "metadata": {},
   "outputs": [
    {
     "data": {
      "text/plain": [
       "DatetimeIndex(['2004-08-19 06:00:00', '2004-08-20 06:00:00',\n",
       "               '2004-08-23 06:00:00', '2004-08-24 06:00:00',\n",
       "               '2004-08-25 06:00:00', '2004-08-26 06:00:00',\n",
       "               '2004-08-27 06:00:00', '2004-08-30 06:00:00',\n",
       "               '2004-08-31 06:00:00', '2004-09-01 06:00:00',\n",
       "               ...\n",
       "               '2018-09-13 06:00:00', '2018-09-14 06:00:00',\n",
       "               '2018-09-17 06:00:00', '2018-09-18 06:00:00',\n",
       "               '2018-09-19 06:00:00', '2018-09-20 06:00:00',\n",
       "               '2018-09-21 06:00:00', '2018-09-24 06:00:00',\n",
       "               '2018-09-25 06:00:00', '2018-09-26 06:00:00'],\n",
       "              dtype='datetime64[ns]', name='Date', length=3552, freq=None)"
      ]
     },
     "execution_count": 169,
     "metadata": {},
     "output_type": "execute_result"
    }
   ],
   "source": [
    "stocks.index + pd.DateOffset(hours = 6) #add 6 hours to every day"
   ]
  },
  {
   "cell_type": "code",
   "execution_count": 170,
   "metadata": {},
   "outputs": [
    {
     "data": {
      "text/plain": [
       "DatetimeIndex(['2003-05-19', '2003-05-20', '2003-05-23', '2003-05-24',\n",
       "               '2003-05-25', '2003-05-26', '2003-05-27', '2003-05-30',\n",
       "               '2003-05-31', '2003-06-01',\n",
       "               ...\n",
       "               '2017-06-13', '2017-06-14', '2017-06-17', '2017-06-18',\n",
       "               '2017-06-19', '2017-06-20', '2017-06-21', '2017-06-24',\n",
       "               '2017-06-25', '2017-06-26'],\n",
       "              dtype='datetime64[ns]', name='Date', length=3552, freq=None)"
      ]
     },
     "execution_count": 170,
     "metadata": {},
     "output_type": "execute_result"
    }
   ],
   "source": [
    "stocks.index - pd.DateOffset(years = 1, months = 6) #subtract 1.5 year from every day"
   ]
  },
  {
   "cell_type": "markdown",
   "metadata": {},
   "source": [
    "## More Fun wiht pd.DataOffset Objects"
   ]
  },
  {
   "cell_type": "code",
   "execution_count": 6,
   "metadata": {},
   "outputs": [
    {
     "data": {
      "text/html": [
       "<div>\n",
       "<style scoped>\n",
       "    .dataframe tbody tr th:only-of-type {\n",
       "        vertical-align: middle;\n",
       "    }\n",
       "\n",
       "    .dataframe tbody tr th {\n",
       "        vertical-align: top;\n",
       "    }\n",
       "\n",
       "    .dataframe thead th {\n",
       "        text-align: right;\n",
       "    }\n",
       "</style>\n",
       "<table border=\"1\" class=\"dataframe\">\n",
       "  <thead>\n",
       "    <tr style=\"text-align: right;\">\n",
       "      <th></th>\n",
       "      <th>High</th>\n",
       "      <th>Low</th>\n",
       "      <th>Open</th>\n",
       "      <th>Close</th>\n",
       "      <th>Volume</th>\n",
       "      <th>Adj Close</th>\n",
       "    </tr>\n",
       "    <tr>\n",
       "      <th>Date</th>\n",
       "      <th></th>\n",
       "      <th></th>\n",
       "      <th></th>\n",
       "      <th></th>\n",
       "      <th></th>\n",
       "      <th></th>\n",
       "    </tr>\n",
       "  </thead>\n",
       "  <tbody>\n",
       "    <tr>\n",
       "      <th>2004-08-19</th>\n",
       "      <td>51.693783</td>\n",
       "      <td>47.669952</td>\n",
       "      <td>49.676899</td>\n",
       "      <td>49.845802</td>\n",
       "      <td>44994500.0</td>\n",
       "      <td>49.845802</td>\n",
       "    </tr>\n",
       "    <tr>\n",
       "      <th>2004-08-20</th>\n",
       "      <td>54.187561</td>\n",
       "      <td>49.925285</td>\n",
       "      <td>50.178635</td>\n",
       "      <td>53.805050</td>\n",
       "      <td>23005800.0</td>\n",
       "      <td>53.805050</td>\n",
       "    </tr>\n",
       "    <tr>\n",
       "      <th>2004-08-23</th>\n",
       "      <td>56.373344</td>\n",
       "      <td>54.172661</td>\n",
       "      <td>55.017166</td>\n",
       "      <td>54.346527</td>\n",
       "      <td>18393200.0</td>\n",
       "      <td>54.346527</td>\n",
       "    </tr>\n",
       "    <tr>\n",
       "      <th>2004-08-24</th>\n",
       "      <td>55.439419</td>\n",
       "      <td>51.450363</td>\n",
       "      <td>55.260582</td>\n",
       "      <td>52.096165</td>\n",
       "      <td>15361800.0</td>\n",
       "      <td>52.096165</td>\n",
       "    </tr>\n",
       "    <tr>\n",
       "      <th>2004-08-25</th>\n",
       "      <td>53.651051</td>\n",
       "      <td>51.604362</td>\n",
       "      <td>52.140873</td>\n",
       "      <td>52.657513</td>\n",
       "      <td>9257400.0</td>\n",
       "      <td>52.657513</td>\n",
       "    </tr>\n",
       "  </tbody>\n",
       "</table>\n",
       "</div>"
      ],
      "text/plain": [
       "                 High        Low       Open      Close      Volume  Adj Close\n",
       "Date                                                                         \n",
       "2004-08-19  51.693783  47.669952  49.676899  49.845802  44994500.0  49.845802\n",
       "2004-08-20  54.187561  49.925285  50.178635  53.805050  23005800.0  53.805050\n",
       "2004-08-23  56.373344  54.172661  55.017166  54.346527  18393200.0  54.346527\n",
       "2004-08-24  55.439419  51.450363  55.260582  52.096165  15361800.0  52.096165\n",
       "2004-08-25  53.651051  51.604362  52.140873  52.657513   9257400.0  52.657513"
      ]
     },
     "execution_count": 6,
     "metadata": {},
     "output_type": "execute_result"
    }
   ],
   "source": [
    "company = \"GOOG\"\n",
    "start = \"2010-01-01\"\n",
    "end = \"2018-09-27\"\n",
    "stocks =  pdr.get_data_yahoo(company, start = dt.date(2000, 1, 1), end = dt.datetime.now()) # get the current time\n",
    "stocks.head()"
   ]
  },
  {
   "cell_type": "code",
   "execution_count": 7,
   "metadata": {},
   "outputs": [
    {
     "data": {
      "text/plain": [
       "DatetimeIndex(['2004-08-31', '2004-08-31', '2004-08-31', '2004-08-31',\n",
       "               '2004-08-31', '2004-08-31', '2004-08-31', '2004-08-31',\n",
       "               '2004-09-30', '2004-09-30',\n",
       "               ...\n",
       "               '2018-09-30', '2018-09-30', '2018-09-30', '2018-09-30',\n",
       "               '2018-09-30', '2018-09-30', '2018-09-30', '2018-09-30',\n",
       "               '2018-09-30', '2018-09-30'],\n",
       "              dtype='datetime64[ns]', name='Date', length=3553, freq=None)"
      ]
     },
     "execution_count": 7,
     "metadata": {},
     "output_type": "execute_result"
    }
   ],
   "source": [
    "stocks.index + pd.tseries.offsets.MonthEnd() \n",
    "# Retrun next available month end \n",
    "# end of Aug., 2004-08-31 is rounded to next available end of month, 2004-09-30."
   ]
  },
  {
   "cell_type": "code",
   "execution_count": 8,
   "metadata": {},
   "outputs": [
    {
     "data": {
      "text/plain": [
       "DatetimeIndex(['2004-07-31', '2004-07-31', '2004-07-31', '2004-07-31',\n",
       "               '2004-07-31', '2004-07-31', '2004-07-31', '2004-07-31',\n",
       "               '2004-07-31', '2004-08-31',\n",
       "               ...\n",
       "               '2018-08-31', '2018-08-31', '2018-08-31', '2018-08-31',\n",
       "               '2018-08-31', '2018-08-31', '2018-08-31', '2018-08-31',\n",
       "               '2018-08-31', '2018-08-31'],\n",
       "              dtype='datetime64[ns]', name='Date', length=3553, freq=None)"
      ]
     },
     "execution_count": 8,
     "metadata": {},
     "output_type": "execute_result"
    }
   ],
   "source": [
    "stocks.index -pd.tseries.offsets.MonthEnd() \n",
    "# Retrun previous available month end \n",
    "# end of Aug., 2004-08-31 is rounded to 2004-07-31"
   ]
  },
  {
   "cell_type": "code",
   "execution_count": 9,
   "metadata": {},
   "outputs": [
    {
     "data": {
      "text/plain": [
       "DatetimeIndex(['2004-09-01', '2004-09-01', '2004-09-01', '2004-09-01',\n",
       "               '2004-09-01', '2004-09-01', '2004-09-01', '2004-09-01',\n",
       "               '2004-09-01', '2004-10-01',\n",
       "               ...\n",
       "               '2018-10-01', '2018-10-01', '2018-10-01', '2018-10-01',\n",
       "               '2018-10-01', '2018-10-01', '2018-10-01', '2018-10-01',\n",
       "               '2018-10-01', '2018-10-01'],\n",
       "              dtype='datetime64[ns]', name='Date', length=3553, freq=None)"
      ]
     },
     "execution_count": 9,
     "metadata": {},
     "output_type": "execute_result"
    }
   ],
   "source": [
    "stocks.index + pd.tseries.offsets.MonthBegin() "
   ]
  },
  {
   "cell_type": "markdown",
   "metadata": {},
   "source": [
    "## import pandas.tseries.offsets "
   ]
  },
  {
   "cell_type": "code",
   "execution_count": 10,
   "metadata": {},
   "outputs": [],
   "source": [
    "from pandas.tseries.offsets import *   # import everything within this layer"
   ]
  },
  {
   "cell_type": "code",
   "execution_count": 11,
   "metadata": {},
   "outputs": [
    {
     "data": {
      "text/plain": [
       "DatetimeIndex(['2004-07-31', '2004-07-31', '2004-07-31', '2004-07-31',\n",
       "               '2004-07-31', '2004-07-31', '2004-07-31', '2004-07-31',\n",
       "               '2004-07-31', '2004-08-31',\n",
       "               ...\n",
       "               '2018-08-31', '2018-08-31', '2018-08-31', '2018-08-31',\n",
       "               '2018-08-31', '2018-08-31', '2018-08-31', '2018-08-31',\n",
       "               '2018-08-31', '2018-08-31'],\n",
       "              dtype='datetime64[ns]', name='Date', length=3553, freq=None)"
      ]
     },
     "execution_count": 11,
     "metadata": {},
     "output_type": "execute_result"
    }
   ],
   "source": [
    "stocks.index - MonthEnd() \n",
    "# Retrun previous available month end \n",
    "# end of Aug., 2004-08-31 is rounded to 2004-07-31"
   ]
  },
  {
   "cell_type": "code",
   "execution_count": 12,
   "metadata": {},
   "outputs": [
    {
     "data": {
      "text/plain": [
       "DatetimeIndex(['2004-07-30', '2004-07-30', '2004-07-30', '2004-07-30',\n",
       "               '2004-07-30', '2004-07-30', '2004-07-30', '2004-07-30',\n",
       "               '2004-07-30', '2004-08-31',\n",
       "               ...\n",
       "               '2018-08-31', '2018-08-31', '2018-08-31', '2018-08-31',\n",
       "               '2018-08-31', '2018-08-31', '2018-08-31', '2018-08-31',\n",
       "               '2018-08-31', '2018-08-31'],\n",
       "              dtype='datetime64[ns]', name='Date', length=3553, freq=None)"
      ]
     },
     "execution_count": 12,
     "metadata": {},
     "output_type": "execute_result"
    }
   ],
   "source": [
    "stocks.index - BMonthEnd()  #Business Month End"
   ]
  },
  {
   "cell_type": "code",
   "execution_count": 13,
   "metadata": {},
   "outputs": [
    {
     "data": {
      "text/plain": [
       "DatetimeIndex(['2004-09-30', '2004-09-30', '2004-09-30', '2004-09-30',\n",
       "               '2004-09-30', '2004-09-30', '2004-09-30', '2004-09-30',\n",
       "               '2004-09-30', '2004-09-30',\n",
       "               ...\n",
       "               '2018-09-30', '2018-09-30', '2018-09-30', '2018-09-30',\n",
       "               '2018-09-30', '2018-09-30', '2018-09-30', '2018-09-30',\n",
       "               '2018-09-30', '2018-09-30'],\n",
       "              dtype='datetime64[ns]', name='Date', length=3553, freq=None)"
      ]
     },
     "execution_count": 13,
     "metadata": {},
     "output_type": "execute_result"
    }
   ],
   "source": [
    "stocks.index + QuarterEnd() #Next quarter end"
   ]
  },
  {
   "cell_type": "code",
   "execution_count": 15,
   "metadata": {},
   "outputs": [
    {
     "data": {
      "text/plain": [
       "DatetimeIndex(['2004-06-01', '2004-06-01', '2004-06-01', '2004-06-01',\n",
       "               '2004-06-01', '2004-06-01', '2004-06-01', '2004-06-01',\n",
       "               '2004-06-01', '2004-06-01',\n",
       "               ...\n",
       "               '2018-09-01', '2018-09-01', '2018-09-01', '2018-09-01',\n",
       "               '2018-09-01', '2018-09-01', '2018-09-01', '2018-09-01',\n",
       "               '2018-09-01', '2018-09-01'],\n",
       "              dtype='datetime64[ns]', name='Date', length=3553, freq=None)"
      ]
     },
     "execution_count": 15,
     "metadata": {},
     "output_type": "execute_result"
    }
   ],
   "source": [
    "stocks.index - QuarterBegin()"
   ]
  },
  {
   "cell_type": "code",
   "execution_count": 16,
   "metadata": {},
   "outputs": [
    {
     "data": {
      "text/plain": [
       "DatetimeIndex(['2004-01-01', '2004-01-01', '2004-01-01', '2004-01-01',\n",
       "               '2004-01-01', '2004-01-01', '2004-01-01', '2004-01-01',\n",
       "               '2004-01-01', '2004-01-01',\n",
       "               ...\n",
       "               '2018-01-01', '2018-01-01', '2018-01-01', '2018-01-01',\n",
       "               '2018-01-01', '2018-01-01', '2018-01-01', '2018-01-01',\n",
       "               '2018-01-01', '2018-01-01'],\n",
       "              dtype='datetime64[ns]', name='Date', length=3553, freq=None)"
      ]
     },
     "execution_count": 16,
     "metadata": {},
     "output_type": "execute_result"
    }
   ],
   "source": [
    "stocks.index - YearBegin()"
   ]
  },
  {
   "cell_type": "markdown",
   "metadata": {},
   "source": [
    "## The Timedelta Object\n",
    "represents time duration"
   ]
  },
  {
   "cell_type": "code",
   "execution_count": 17,
   "metadata": {},
   "outputs": [
    {
     "data": {
      "text/plain": [
       "Timestamp('2016-03-31 00:00:00')"
      ]
     },
     "execution_count": 17,
     "metadata": {},
     "output_type": "execute_result"
    }
   ],
   "source": [
    "pd.Timestamp(\"2016-03-31\") # represnts specific moment in time"
   ]
  },
  {
   "cell_type": "code",
   "execution_count": 29,
   "metadata": {},
   "outputs": [],
   "source": [
    "timeA = pd.Timestamp(\"2016-03-31\")"
   ]
  },
  {
   "cell_type": "code",
   "execution_count": 30,
   "metadata": {},
   "outputs": [],
   "source": [
    "timeB = pd.Timestamp(\"2016-03-20\")"
   ]
  },
  {
   "cell_type": "code",
   "execution_count": 31,
   "metadata": {},
   "outputs": [
    {
     "data": {
      "text/plain": [
       "Timedelta('11 days 00:00:00')"
      ]
     },
     "execution_count": 31,
     "metadata": {},
     "output_type": "execute_result"
    }
   ],
   "source": [
    "timeA - timeB # duration in time"
   ]
  },
  {
   "cell_type": "code",
   "execution_count": 32,
   "metadata": {},
   "outputs": [
    {
     "data": {
      "text/plain": [
       "Timedelta('-11 days +00:00:00')"
      ]
     },
     "execution_count": 32,
     "metadata": {},
     "output_type": "execute_result"
    }
   ],
   "source": [
    "timeB - timeA"
   ]
  },
  {
   "cell_type": "code",
   "execution_count": 33,
   "metadata": {},
   "outputs": [
    {
     "data": {
      "text/plain": [
       "pandas._libs.tslibs.timedeltas.Timedelta"
      ]
     },
     "execution_count": 33,
     "metadata": {},
     "output_type": "execute_result"
    }
   ],
   "source": [
    "type(timeA - timeB)"
   ]
  },
  {
   "cell_type": "code",
   "execution_count": 34,
   "metadata": {},
   "outputs": [
    {
     "data": {
      "text/plain": [
       "pandas._libs.tslibs.timestamps.Timestamp"
      ]
     },
     "execution_count": 34,
     "metadata": {},
     "output_type": "execute_result"
    }
   ],
   "source": [
    "type(timeA)"
   ]
  },
  {
   "cell_type": "code",
   "execution_count": 36,
   "metadata": {},
   "outputs": [
    {
     "data": {
      "text/plain": [
       "Timedelta('10 days 12:45:00')"
      ]
     },
     "execution_count": 36,
     "metadata": {},
     "output_type": "execute_result"
    }
   ],
   "source": [
    "pd.Timedelta(days = 3, hours = 12, minutes = 45, weeks = 1) \n",
    "# specific time span\n",
    "# years does not work"
   ]
  },
  {
   "cell_type": "code",
   "execution_count": 39,
   "metadata": {},
   "outputs": [
    {
     "data": {
      "text/plain": [
       "Timedelta('10 days 00:00:00')"
      ]
     },
     "execution_count": 39,
     "metadata": {},
     "output_type": "execute_result"
    }
   ],
   "source": [
    "pd.Timedelta(\"10 days\")"
   ]
  },
  {
   "cell_type": "code",
   "execution_count": 43,
   "metadata": {},
   "outputs": [
    {
     "data": {
      "text/plain": [
       "Timedelta('14 days 06:12:30')"
      ]
     },
     "execution_count": 43,
     "metadata": {},
     "output_type": "execute_result"
    }
   ],
   "source": [
    "pd.Timedelta(\"14 days 6 hours 12 minutes 30 seconds\")\n",
    "# weeks doesn not work"
   ]
  },
  {
   "cell_type": "markdown",
   "metadata": {},
   "source": [
    "## Timedeltas in a Dataset"
   ]
  },
  {
   "cell_type": "code",
   "execution_count": 49,
   "metadata": {},
   "outputs": [
    {
     "data": {
      "text/html": [
       "<div>\n",
       "<style scoped>\n",
       "    .dataframe tbody tr th:only-of-type {\n",
       "        vertical-align: middle;\n",
       "    }\n",
       "\n",
       "    .dataframe tbody tr th {\n",
       "        vertical-align: top;\n",
       "    }\n",
       "\n",
       "    .dataframe thead th {\n",
       "        text-align: right;\n",
       "    }\n",
       "</style>\n",
       "<table border=\"1\" class=\"dataframe\">\n",
       "  <thead>\n",
       "    <tr style=\"text-align: right;\">\n",
       "      <th></th>\n",
       "      <th>order_date</th>\n",
       "      <th>delivery_date</th>\n",
       "    </tr>\n",
       "    <tr>\n",
       "      <th>ID</th>\n",
       "      <th></th>\n",
       "      <th></th>\n",
       "    </tr>\n",
       "  </thead>\n",
       "  <tbody>\n",
       "    <tr>\n",
       "      <th>1</th>\n",
       "      <td>1998-05-24</td>\n",
       "      <td>1999-02-05</td>\n",
       "    </tr>\n",
       "    <tr>\n",
       "      <th>2</th>\n",
       "      <td>1992-04-22</td>\n",
       "      <td>1998-03-06</td>\n",
       "    </tr>\n",
       "    <tr>\n",
       "      <th>4</th>\n",
       "      <td>1991-02-10</td>\n",
       "      <td>1992-08-26</td>\n",
       "    </tr>\n",
       "    <tr>\n",
       "      <th>5</th>\n",
       "      <td>1992-07-21</td>\n",
       "      <td>1997-11-20</td>\n",
       "    </tr>\n",
       "    <tr>\n",
       "      <th>7</th>\n",
       "      <td>1993-09-02</td>\n",
       "      <td>1998-06-10</td>\n",
       "    </tr>\n",
       "  </tbody>\n",
       "</table>\n",
       "</div>"
      ],
      "text/plain": [
       "   order_date delivery_date\n",
       "ID                         \n",
       "1  1998-05-24    1999-02-05\n",
       "2  1992-04-22    1998-03-06\n",
       "4  1991-02-10    1992-08-26\n",
       "5  1992-07-21    1997-11-20\n",
       "7  1993-09-02    1998-06-10"
      ]
     },
     "execution_count": 49,
     "metadata": {},
     "output_type": "execute_result"
    }
   ],
   "source": [
    "shipping = pd.read_csv(\"ecommerce.csv\", index_col = \"ID\", parse_dates = [\"order_date\", \"delivery_date\"]) \n",
    "shipping.head()\n",
    "# \"index_col\" sets ID as an Index\n",
    "# pandas is default to string. \"parse_dates\" explicitly tell that we want to interprete days as datetimes "
   ]
  },
  {
   "cell_type": "code",
   "execution_count": 51,
   "metadata": {},
   "outputs": [
    {
     "data": {
      "text/html": [
       "<div>\n",
       "<style scoped>\n",
       "    .dataframe tbody tr th:only-of-type {\n",
       "        vertical-align: middle;\n",
       "    }\n",
       "\n",
       "    .dataframe tbody tr th {\n",
       "        vertical-align: top;\n",
       "    }\n",
       "\n",
       "    .dataframe thead th {\n",
       "        text-align: right;\n",
       "    }\n",
       "</style>\n",
       "<table border=\"1\" class=\"dataframe\">\n",
       "  <thead>\n",
       "    <tr style=\"text-align: right;\">\n",
       "      <th></th>\n",
       "      <th>order_date</th>\n",
       "      <th>delivery_date</th>\n",
       "      <th>delivery_time</th>\n",
       "    </tr>\n",
       "    <tr>\n",
       "      <th>ID</th>\n",
       "      <th></th>\n",
       "      <th></th>\n",
       "      <th></th>\n",
       "    </tr>\n",
       "  </thead>\n",
       "  <tbody>\n",
       "    <tr>\n",
       "      <th>1</th>\n",
       "      <td>1998-05-24</td>\n",
       "      <td>1999-02-05</td>\n",
       "      <td>257 days</td>\n",
       "    </tr>\n",
       "    <tr>\n",
       "      <th>2</th>\n",
       "      <td>1992-04-22</td>\n",
       "      <td>1998-03-06</td>\n",
       "      <td>2144 days</td>\n",
       "    </tr>\n",
       "    <tr>\n",
       "      <th>4</th>\n",
       "      <td>1991-02-10</td>\n",
       "      <td>1992-08-26</td>\n",
       "      <td>563 days</td>\n",
       "    </tr>\n",
       "    <tr>\n",
       "      <th>5</th>\n",
       "      <td>1992-07-21</td>\n",
       "      <td>1997-11-20</td>\n",
       "      <td>1948 days</td>\n",
       "    </tr>\n",
       "    <tr>\n",
       "      <th>7</th>\n",
       "      <td>1993-09-02</td>\n",
       "      <td>1998-06-10</td>\n",
       "      <td>1742 days</td>\n",
       "    </tr>\n",
       "  </tbody>\n",
       "</table>\n",
       "</div>"
      ],
      "text/plain": [
       "   order_date delivery_date delivery_time\n",
       "ID                                       \n",
       "1  1998-05-24    1999-02-05      257 days\n",
       "2  1992-04-22    1998-03-06     2144 days\n",
       "4  1991-02-10    1992-08-26      563 days\n",
       "5  1992-07-21    1997-11-20     1948 days\n",
       "7  1993-09-02    1998-06-10     1742 days"
      ]
     },
     "execution_count": 51,
     "metadata": {},
     "output_type": "execute_result"
    }
   ],
   "source": [
    "shipping[\"delivery_time\"] = shipping[\"delivery_date\"] - shipping[\"order_date\"]\n",
    "shipping.head()"
   ]
  },
  {
   "cell_type": "code",
   "execution_count": 54,
   "metadata": {},
   "outputs": [
    {
     "data": {
      "text/html": [
       "<div>\n",
       "<style scoped>\n",
       "    .dataframe tbody tr th:only-of-type {\n",
       "        vertical-align: middle;\n",
       "    }\n",
       "\n",
       "    .dataframe tbody tr th {\n",
       "        vertical-align: top;\n",
       "    }\n",
       "\n",
       "    .dataframe thead th {\n",
       "        text-align: right;\n",
       "    }\n",
       "</style>\n",
       "<table border=\"1\" class=\"dataframe\">\n",
       "  <thead>\n",
       "    <tr style=\"text-align: right;\">\n",
       "      <th></th>\n",
       "      <th>order_date</th>\n",
       "      <th>delivery_date</th>\n",
       "      <th>delivery_time</th>\n",
       "      <th>twice_as_long</th>\n",
       "    </tr>\n",
       "    <tr>\n",
       "      <th>ID</th>\n",
       "      <th></th>\n",
       "      <th></th>\n",
       "      <th></th>\n",
       "      <th></th>\n",
       "    </tr>\n",
       "  </thead>\n",
       "  <tbody>\n",
       "    <tr>\n",
       "      <th>1</th>\n",
       "      <td>1998-05-24</td>\n",
       "      <td>1999-02-05</td>\n",
       "      <td>257 days</td>\n",
       "      <td>1999-10-20</td>\n",
       "    </tr>\n",
       "    <tr>\n",
       "      <th>2</th>\n",
       "      <td>1992-04-22</td>\n",
       "      <td>1998-03-06</td>\n",
       "      <td>2144 days</td>\n",
       "      <td>2004-01-18</td>\n",
       "    </tr>\n",
       "    <tr>\n",
       "      <th>4</th>\n",
       "      <td>1991-02-10</td>\n",
       "      <td>1992-08-26</td>\n",
       "      <td>563 days</td>\n",
       "      <td>1994-03-12</td>\n",
       "    </tr>\n",
       "    <tr>\n",
       "      <th>5</th>\n",
       "      <td>1992-07-21</td>\n",
       "      <td>1997-11-20</td>\n",
       "      <td>1948 days</td>\n",
       "      <td>2003-03-22</td>\n",
       "    </tr>\n",
       "    <tr>\n",
       "      <th>7</th>\n",
       "      <td>1993-09-02</td>\n",
       "      <td>1998-06-10</td>\n",
       "      <td>1742 days</td>\n",
       "      <td>2003-03-18</td>\n",
       "    </tr>\n",
       "  </tbody>\n",
       "</table>\n",
       "</div>"
      ],
      "text/plain": [
       "   order_date delivery_date delivery_time twice_as_long\n",
       "ID                                                     \n",
       "1  1998-05-24    1999-02-05      257 days    1999-10-20\n",
       "2  1992-04-22    1998-03-06     2144 days    2004-01-18\n",
       "4  1991-02-10    1992-08-26      563 days    1994-03-12\n",
       "5  1992-07-21    1997-11-20     1948 days    2003-03-22\n",
       "7  1993-09-02    1998-06-10     1742 days    2003-03-18"
      ]
     },
     "execution_count": 54,
     "metadata": {},
     "output_type": "execute_result"
    }
   ],
   "source": [
    "shipping[\"twice_as_long\"] = shipping[\"delivery_date\"] + shipping[\"delivery_time\"]\n",
    "shipping.head()"
   ]
  },
  {
   "cell_type": "code",
   "execution_count": 55,
   "metadata": {},
   "outputs": [
    {
     "data": {
      "text/plain": [
       "order_date        datetime64[ns]\n",
       "delivery_date     datetime64[ns]\n",
       "delivery_time    timedelta64[ns]\n",
       "twice_as_long     datetime64[ns]\n",
       "dtype: object"
      ]
     },
     "execution_count": 55,
     "metadata": {},
     "output_type": "execute_result"
    }
   ],
   "source": [
    "shipping.dtypes"
   ]
  },
  {
   "cell_type": "code",
   "execution_count": 59,
   "metadata": {},
   "outputs": [
    {
     "data": {
      "text/html": [
       "<div>\n",
       "<style scoped>\n",
       "    .dataframe tbody tr th:only-of-type {\n",
       "        vertical-align: middle;\n",
       "    }\n",
       "\n",
       "    .dataframe tbody tr th {\n",
       "        vertical-align: top;\n",
       "    }\n",
       "\n",
       "    .dataframe thead th {\n",
       "        text-align: right;\n",
       "    }\n",
       "</style>\n",
       "<table border=\"1\" class=\"dataframe\">\n",
       "  <thead>\n",
       "    <tr style=\"text-align: right;\">\n",
       "      <th></th>\n",
       "      <th>order_date</th>\n",
       "      <th>delivery_date</th>\n",
       "      <th>delivery_time</th>\n",
       "      <th>twice_as_long</th>\n",
       "    </tr>\n",
       "    <tr>\n",
       "      <th>ID</th>\n",
       "      <th></th>\n",
       "      <th></th>\n",
       "      <th></th>\n",
       "      <th></th>\n",
       "    </tr>\n",
       "  </thead>\n",
       "  <tbody>\n",
       "    <tr>\n",
       "      <th>2</th>\n",
       "      <td>1992-04-22</td>\n",
       "      <td>1998-03-06</td>\n",
       "      <td>2144 days</td>\n",
       "      <td>2004-01-18</td>\n",
       "    </tr>\n",
       "    <tr>\n",
       "      <th>4</th>\n",
       "      <td>1991-02-10</td>\n",
       "      <td>1992-08-26</td>\n",
       "      <td>563 days</td>\n",
       "      <td>1994-03-12</td>\n",
       "    </tr>\n",
       "    <tr>\n",
       "      <th>5</th>\n",
       "      <td>1992-07-21</td>\n",
       "      <td>1997-11-20</td>\n",
       "      <td>1948 days</td>\n",
       "      <td>2003-03-22</td>\n",
       "    </tr>\n",
       "    <tr>\n",
       "      <th>7</th>\n",
       "      <td>1993-09-02</td>\n",
       "      <td>1998-06-10</td>\n",
       "      <td>1742 days</td>\n",
       "      <td>2003-03-18</td>\n",
       "    </tr>\n",
       "    <tr>\n",
       "      <th>9</th>\n",
       "      <td>1990-01-25</td>\n",
       "      <td>1994-10-02</td>\n",
       "      <td>1711 days</td>\n",
       "      <td>1999-06-09</td>\n",
       "    </tr>\n",
       "  </tbody>\n",
       "</table>\n",
       "</div>"
      ],
      "text/plain": [
       "   order_date delivery_date delivery_time twice_as_long\n",
       "ID                                                     \n",
       "2  1992-04-22    1998-03-06     2144 days    2004-01-18\n",
       "4  1991-02-10    1992-08-26      563 days    1994-03-12\n",
       "5  1992-07-21    1997-11-20     1948 days    2003-03-22\n",
       "7  1993-09-02    1998-06-10     1742 days    2003-03-18\n",
       "9  1990-01-25    1994-10-02     1711 days    1999-06-09"
      ]
     },
     "execution_count": 59,
     "metadata": {},
     "output_type": "execute_result"
    }
   ],
   "source": [
    "mask = shipping[\"delivery_time\"] > \"365 days\" # pandas can figure out string value\n",
    "shipping[mask].head()"
   ]
  },
  {
   "cell_type": "code",
   "execution_count": 60,
   "metadata": {},
   "outputs": [
    {
     "data": {
      "text/plain": [
       "Timedelta('8 days 00:00:00')"
      ]
     },
     "execution_count": 60,
     "metadata": {},
     "output_type": "execute_result"
    }
   ],
   "source": [
    "shipping[\"delivery_time\"].min() "
   ]
  },
  {
   "cell_type": "code",
   "execution_count": 61,
   "metadata": {},
   "outputs": [
    {
     "data": {
      "text/plain": [
       "Timedelta('1217 days 22:53:53.532934')"
      ]
     },
     "execution_count": 61,
     "metadata": {},
     "output_type": "execute_result"
    }
   ],
   "source": [
    "shipping[\"delivery_time\"].mean() "
   ]
  },
  {
   "cell_type": "code",
   "execution_count": 62,
   "metadata": {},
   "outputs": [
    {
     "data": {
      "text/plain": [
       "Timedelta('998 days 00:00:00')"
      ]
     },
     "execution_count": 62,
     "metadata": {},
     "output_type": "execute_result"
    }
   ],
   "source": [
    "shipping[\"delivery_time\"].median() "
   ]
  },
  {
   "cell_type": "markdown",
   "metadata": {},
   "source": [
    "### appendix"
   ]
  },
  {
   "cell_type": "code",
   "execution_count": 17,
   "metadata": {},
   "outputs": [
    {
     "name": "stdout",
     "output_type": "stream",
     "text": [
      "Collecting pandas-datareader\n",
      "  Using cached https://files.pythonhosted.org/packages/be/76/639c60ede26458dadf76bacaa9cbcc76f8cc5082fb2b2d90d0a90c699d36/pandas_datareader-0.6.0-py2.py3-none-any.whl\n",
      "Requirement already satisfied: requests>=2.3.0 in /usr/local/lib/python3.6/dist-packages (from pandas-datareader) (2.19.1)\n",
      "Requirement already satisfied: wrapt in /usr/local/lib/python3.6/dist-packages (from pandas-datareader) (1.10.11)\n",
      "Requirement already satisfied: lxml in /usr/local/lib/python3.6/dist-packages (from pandas-datareader) (4.0.0)\n",
      "Requirement already satisfied: pandas>=0.19.2 in /usr/local/lib/python3.6/dist-packages (from pandas-datareader) (0.23.4)\n",
      "Collecting requests-file (from pandas-datareader)\n",
      "  Using cached https://files.pythonhosted.org/packages/23/9c/6e63c23c39e53d3df41c77a3d05a49a42c4e1383a6d2a5e3233161b89dbf/requests_file-1.4.3-py2.py3-none-any.whl\n",
      "Collecting requests-ftp (from pandas-datareader)\n",
      "  Using cached https://files.pythonhosted.org/packages/3d/ca/14b2ad1e93b5195eeaf56b86b7ecfd5ea2d5754a68d17aeb1e5b9f95b3cf/requests-ftp-0.3.1.tar.gz\n",
      "Requirement already satisfied: idna<2.8,>=2.5 in /usr/local/lib/python3.6/dist-packages (from requests>=2.3.0->pandas-datareader) (2.7)\n",
      "Requirement already satisfied: urllib3<1.24,>=1.21.1 in /usr/local/lib/python3.6/dist-packages (from requests>=2.3.0->pandas-datareader) (1.23)\n",
      "Requirement already satisfied: certifi>=2017.4.17 in /usr/local/lib/python3.6/dist-packages (from requests>=2.3.0->pandas-datareader) (2018.8.24)\n",
      "Requirement already satisfied: chardet<3.1.0,>=3.0.2 in /usr/local/lib/python3.6/dist-packages (from requests>=2.3.0->pandas-datareader) (3.0.4)\n",
      "Requirement already satisfied: pytz>=2011k in /usr/local/lib/python3.6/dist-packages (from pandas>=0.19.2->pandas-datareader) (2018.5)\n",
      "Requirement already satisfied: python-dateutil>=2.5.0 in /usr/local/lib/python3.6/dist-packages (from pandas>=0.19.2->pandas-datareader) (2.7.3)\n",
      "Requirement already satisfied: numpy>=1.9.0 in /usr/local/lib/python3.6/dist-packages (from pandas>=0.19.2->pandas-datareader) (1.15.1)\n",
      "Requirement already satisfied: six in /usr/local/lib/python3.6/dist-packages (from requests-file->pandas-datareader) (1.11.0)\n",
      "Building wheels for collected packages: requests-ftp\n",
      "  Running setup.py bdist_wheel for requests-ftp ... \u001b[?25ldone\n",
      "\u001b[?25h  Stored in directory: /home/nbuser/.cache/pip/wheels/2a/98/32/37195e45a3392a73d9f65c488cbea30fe5bad76aaef4d6b020\n",
      "Successfully built requests-ftp\n",
      "Installing collected packages: requests-file, requests-ftp, pandas-datareader\n",
      "Successfully installed pandas-datareader-0.6.0 requests-file-1.4.3 requests-ftp-0.3.1\n"
     ]
    }
   ],
   "source": [
    "! pip3 install pandas-datareader"
   ]
  },
  {
   "cell_type": "code",
   "execution_count": 6,
   "metadata": {},
   "outputs": [
    {
     "name": "stdout",
     "output_type": "stream",
     "text": [
      "Collecting git+https://github.com/pydata/pandas-datareader.git\n",
      "  Cloning https://github.com/pydata/pandas-datareader.git to /tmp/pip-req-build-6p0lhltw\n",
      "Requirement already satisfied (use --upgrade to upgrade): pandas-datareader==0.7.0 from git+https://github.com/pydata/pandas-datareader.git in /home/nbuser/.local/lib/python3.6/site-packages\n",
      "Requirement already satisfied: pandas>=0.19.2 in /usr/local/lib/python3.6/dist-packages (from pandas-datareader==0.7.0) (0.23.4)\n",
      "Requirement already satisfied: requests>=2.3.0 in /usr/local/lib/python3.6/dist-packages (from pandas-datareader==0.7.0) (2.19.1)\n",
      "Requirement already satisfied: wrapt in /usr/local/lib/python3.6/dist-packages (from pandas-datareader==0.7.0) (1.10.11)\n",
      "Requirement already satisfied: lxml in /usr/local/lib/python3.6/dist-packages (from pandas-datareader==0.7.0) (4.0.0)\n",
      "Requirement already satisfied: python-dateutil>=2.5.0 in /usr/local/lib/python3.6/dist-packages (from pandas>=0.19.2->pandas-datareader==0.7.0) (2.7.3)\n",
      "Requirement already satisfied: numpy>=1.9.0 in /usr/local/lib/python3.6/dist-packages (from pandas>=0.19.2->pandas-datareader==0.7.0) (1.15.1)\n",
      "Requirement already satisfied: pytz>=2011k in /usr/local/lib/python3.6/dist-packages (from pandas>=0.19.2->pandas-datareader==0.7.0) (2018.5)\n",
      "Requirement already satisfied: idna<2.8,>=2.5 in /usr/local/lib/python3.6/dist-packages (from requests>=2.3.0->pandas-datareader==0.7.0) (2.7)\n",
      "Requirement already satisfied: chardet<3.1.0,>=3.0.2 in /usr/local/lib/python3.6/dist-packages (from requests>=2.3.0->pandas-datareader==0.7.0) (3.0.4)\n",
      "Requirement already satisfied: certifi>=2017.4.17 in /usr/local/lib/python3.6/dist-packages (from requests>=2.3.0->pandas-datareader==0.7.0) (2018.8.24)\n",
      "Requirement already satisfied: urllib3<1.24,>=1.21.1 in /usr/local/lib/python3.6/dist-packages (from requests>=2.3.0->pandas-datareader==0.7.0) (1.23)\n",
      "Requirement already satisfied: six>=1.5 in /usr/local/lib/python3.6/dist-packages (from python-dateutil>=2.5.0->pandas>=0.19.2->pandas-datareader==0.7.0) (1.11.0)\n",
      "Building wheels for collected packages: pandas-datareader\n",
      "  Running setup.py bdist_wheel for pandas-datareader ... \u001b[?25ldone\n",
      "\u001b[?25h  Stored in directory: /tmp/pip-ephem-wheel-cache-2vzkkcqq/wheels/5f/4c/e3/f9e4e92cb4498744a91d53d37b840fb1959c286bf660740040\n",
      "Successfully built pandas-datareader\n"
     ]
    }
   ],
   "source": [
    "! pip3 install git+https://github.com/pydata/pandas-datareader.git"
   ]
  },
  {
   "cell_type": "code",
   "execution_count": 4,
   "metadata": {},
   "outputs": [
    {
     "name": "stdout",
     "output_type": "stream",
     "text": [
      "Requirement already up-to-date: pandas-datareader in /home/nbuser/.local/lib/python2.7/site-packages (0.7.0)\n",
      "Requirement already satisfied, skipping upgrade: pandas>=0.19.2 in /usr/local/lib/python2.7/dist-packages (from pandas-datareader) (0.23.4)\n",
      "Requirement already satisfied, skipping upgrade: wrapt in /usr/local/lib/python2.7/dist-packages (from pandas-datareader) (1.10.11)\n",
      "Requirement already satisfied, skipping upgrade: requests>=2.3.0 in /usr/local/lib/python2.7/dist-packages (from pandas-datareader) (2.19.1)\n",
      "Requirement already satisfied, skipping upgrade: lxml in /usr/local/lib/python2.7/dist-packages (from pandas-datareader) (4.0.0)\n",
      "Requirement already satisfied, skipping upgrade: numpy>=1.9.0 in /usr/local/lib/python2.7/dist-packages (from pandas>=0.19.2->pandas-datareader) (1.15.1)\n",
      "Requirement already satisfied, skipping upgrade: python-dateutil>=2.5.0 in /usr/local/lib/python2.7/dist-packages (from pandas>=0.19.2->pandas-datareader) (2.7.3)\n",
      "Requirement already satisfied, skipping upgrade: pytz>=2011k in /usr/local/lib/python2.7/dist-packages (from pandas>=0.19.2->pandas-datareader) (2018.5)\n",
      "Requirement already satisfied, skipping upgrade: certifi>=2017.4.17 in /usr/local/lib/python2.7/dist-packages (from requests>=2.3.0->pandas-datareader) (2018.8.24)\n",
      "Requirement already satisfied, skipping upgrade: chardet<3.1.0,>=3.0.2 in /usr/local/lib/python2.7/dist-packages (from requests>=2.3.0->pandas-datareader) (3.0.4)\n",
      "Requirement already satisfied, skipping upgrade: urllib3<1.24,>=1.21.1 in /usr/local/lib/python2.7/dist-packages (from requests>=2.3.0->pandas-datareader) (1.23)\n",
      "Requirement already satisfied, skipping upgrade: idna<2.8,>=2.5 in /usr/local/lib/python2.7/dist-packages (from requests>=2.3.0->pandas-datareader) (2.7)\n",
      "Requirement already satisfied, skipping upgrade: six>=1.5 in /usr/local/lib/python2.7/dist-packages (from python-dateutil>=2.5.0->pandas>=0.19.2->pandas-datareader) (1.11.0)\n"
     ]
    }
   ],
   "source": [
    "! pip install pandas-datareader --upgrade"
   ]
  },
  {
   "cell_type": "code",
   "execution_count": 9,
   "metadata": {},
   "outputs": [
    {
     "name": "stdout",
     "output_type": "stream",
     "text": [
      "Collecting tiingo\n",
      "  Downloading https://files.pythonhosted.org/packages/bd/49/5c8f99477a1642079f0f411604b6359bdc8b6b657ff1e0104b2eca4c9f30/tiingo-0.8.0-py2.py3-none-any.whl\n",
      "Requirement already satisfied: requests in /usr/local/lib/python3.6/dist-packages (from tiingo) (2.19.1)\n",
      "Requirement already satisfied: urllib3<1.24,>=1.21.1 in /usr/local/lib/python3.6/dist-packages (from requests->tiingo) (1.23)\n",
      "Requirement already satisfied: certifi>=2017.4.17 in /usr/local/lib/python3.6/dist-packages (from requests->tiingo) (2018.8.24)\n",
      "Requirement already satisfied: chardet<3.1.0,>=3.0.2 in /usr/local/lib/python3.6/dist-packages (from requests->tiingo) (3.0.4)\n",
      "Requirement already satisfied: idna<2.8,>=2.5 in /usr/local/lib/python3.6/dist-packages (from requests->tiingo) (2.7)\n",
      "Installing collected packages: tiingo\n",
      "Successfully installed tiingo-0.8.0\n"
     ]
    }
   ],
   "source": [
    "! pip3 install tiingo"
   ]
  },
  {
   "cell_type": "code",
   "execution_count": 15,
   "metadata": {},
   "outputs": [
    {
     "name": "stdout",
     "output_type": "stream",
     "text": [
      "Collecting fix_yahoo_finance\n",
      "  Using cached https://files.pythonhosted.org/packages/0a/96/d44330e427f5368cb8abd25997b72956a31b52073d285c4d5cd56e5fdc17/fix-yahoo-finance-0.0.22.tar.gz\n",
      "Requirement already satisfied: pandas in /usr/local/lib/python3.6/dist-packages (from fix_yahoo_finance) (0.23.4)\n",
      "Requirement already satisfied: numpy in /usr/local/lib/python3.6/dist-packages (from fix_yahoo_finance) (1.15.1)\n",
      "Requirement already satisfied: requests in /usr/local/lib/python3.6/dist-packages (from fix_yahoo_finance) (2.19.1)\n",
      "Collecting multitasking (from fix_yahoo_finance)\n",
      "  Using cached https://files.pythonhosted.org/packages/ac/1a/0750416c5e3683d170757e423f097fdf78ceb9ccdc65658b24341664e53e/multitasking-0.0.7.tar.gz\n",
      "Requirement already satisfied: python-dateutil>=2.5.0 in /usr/local/lib/python3.6/dist-packages (from pandas->fix_yahoo_finance) (2.7.3)\n",
      "Requirement already satisfied: pytz>=2011k in /usr/local/lib/python3.6/dist-packages (from pandas->fix_yahoo_finance) (2018.5)\n",
      "Requirement already satisfied: certifi>=2017.4.17 in /usr/local/lib/python3.6/dist-packages (from requests->fix_yahoo_finance) (2018.8.24)\n",
      "Requirement already satisfied: urllib3<1.24,>=1.21.1 in /usr/local/lib/python3.6/dist-packages (from requests->fix_yahoo_finance) (1.23)\n",
      "Requirement already satisfied: chardet<3.1.0,>=3.0.2 in /usr/local/lib/python3.6/dist-packages (from requests->fix_yahoo_finance) (3.0.4)\n",
      "Requirement already satisfied: idna<2.8,>=2.5 in /usr/local/lib/python3.6/dist-packages (from requests->fix_yahoo_finance) (2.7)\n",
      "Requirement already satisfied: six>=1.5 in /usr/local/lib/python3.6/dist-packages (from python-dateutil>=2.5.0->pandas->fix_yahoo_finance) (1.11.0)\n",
      "Building wheels for collected packages: fix-yahoo-finance, multitasking\n",
      "  Running setup.py bdist_wheel for fix-yahoo-finance ... \u001b[?25ldone\n",
      "\u001b[?25h  Stored in directory: /home/nbuser/.cache/pip/wheels/2c/ca/ce/218a19aaecf63fd74c75d6a6772b1a799fa05826d8762bfd83\n",
      "  Running setup.py bdist_wheel for multitasking ... \u001b[?25ldone\n",
      "\u001b[?25h  Stored in directory: /home/nbuser/.cache/pip/wheels/41/e4/48/af808a1c57f43f104042abdaf80fa623ab213ca0268ba4189c\n",
      "Successfully built fix-yahoo-finance multitasking\n",
      "Installing collected packages: multitasking, fix-yahoo-finance\n",
      "\u001b[33m  The script sample is installed in '/home/nbuser/.local/bin' which is not on PATH.\n",
      "  Consider adding this directory to PATH or, if you prefer to suppress this warning, use --no-warn-script-location.\u001b[0m\n",
      "Successfully installed fix-yahoo-finance-0.0.22 multitasking-0.0.7\n"
     ]
    }
   ],
   "source": [
    "!pip3 install fix_yahoo_finance"
   ]
  },
  {
   "cell_type": "code",
   "execution_count": 8,
   "metadata": {},
   "outputs": [
    {
     "name": "stdout",
     "output_type": "stream",
     "text": [
      "Collecting quandl\n",
      "  Downloading https://files.pythonhosted.org/packages/d3/70/c05e132321ae2375f26428e7097230b3b735a31d6b78077d5f15b3fb0e6b/Quandl-3.4.2-py2.py3-none-any.whl\n",
      "Requirement already satisfied: pandas>=0.14 in /usr/local/lib/python3.6/dist-packages (from quandl) (0.23.4)\n",
      "Collecting inflection>=0.3.1 (from quandl)\n",
      "  Downloading https://files.pythonhosted.org/packages/d5/35/a6eb45b4e2356fe688b21570864d4aa0d0a880ce387defe9c589112077f8/inflection-0.3.1.tar.gz\n",
      "Requirement already satisfied: requests>=2.7.0 in /usr/local/lib/python3.6/dist-packages (from quandl) (2.19.1)\n",
      "Requirement already satisfied: numpy>=1.8 in /usr/local/lib/python3.6/dist-packages (from quandl) (1.15.1)\n",
      "Collecting more-itertools (from quandl)\n",
      "\u001b[?25l  Downloading https://files.pythonhosted.org/packages/79/b1/eace304ef66bd7d3d8b2f78cc374b73ca03bc53664d78151e9df3b3996cc/more_itertools-4.3.0-py3-none-any.whl (48kB)\n",
      "\u001b[K    100% |████████████████████████████████| 51kB 273kB/s eta 0:00:01\n",
      "\u001b[?25hRequirement already satisfied: python-dateutil in /usr/local/lib/python3.6/dist-packages (from quandl) (2.7.3)\n",
      "Requirement already satisfied: six in /usr/local/lib/python3.6/dist-packages (from quandl) (1.11.0)\n",
      "Requirement already satisfied: pytz>=2011k in /usr/local/lib/python3.6/dist-packages (from pandas>=0.14->quandl) (2018.5)\n",
      "Requirement already satisfied: certifi>=2017.4.17 in /usr/local/lib/python3.6/dist-packages (from requests>=2.7.0->quandl) (2018.8.24)\n",
      "Requirement already satisfied: chardet<3.1.0,>=3.0.2 in /usr/local/lib/python3.6/dist-packages (from requests>=2.7.0->quandl) (3.0.4)\n",
      "Requirement already satisfied: urllib3<1.24,>=1.21.1 in /usr/local/lib/python3.6/dist-packages (from requests>=2.7.0->quandl) (1.23)\n",
      "Requirement already satisfied: idna<2.8,>=2.5 in /usr/local/lib/python3.6/dist-packages (from requests>=2.7.0->quandl) (2.7)\n",
      "Building wheels for collected packages: inflection\n",
      "  Running setup.py bdist_wheel for inflection ... \u001b[?25ldone\n",
      "\u001b[?25h  Stored in directory: /home/nbuser/.cache/pip/wheels/9f/5a/d3/6fc3bf6516d2a3eb7e18f9f28b472110b59325f3f258fe9211\n",
      "Successfully built inflection\n",
      "Installing collected packages: inflection, more-itertools, quandl\n",
      "Successfully installed inflection-0.3.1 more-itertools-4.3.0 quandl-3.4.2\n"
     ]
    }
   ],
   "source": [
    "! pip3 install quandl"
   ]
  },
  {
   "cell_type": "code",
   "execution_count": 172,
   "metadata": {},
   "outputs": [
    {
     "ename": "SyntaxError",
     "evalue": "Invalid format used for Quandl database code.         The correct format is: `DATABASE_CODE/DATASET_CODE` (<string>)",
     "output_type": "error",
     "traceback": [
      "Traceback \u001b[0;36m(most recent call last)\u001b[0m:\n",
      "  File \u001b[1;32m\"/usr/local/lib/python3.6/dist-packages/IPython/core/interactiveshell.py\"\u001b[0m, line \u001b[1;32m2961\u001b[0m, in \u001b[1;35mrun_code\u001b[0m\n    exec(code_obj, self.user_global_ns, self.user_ns)\n",
      "  File \u001b[1;32m\"<ipython-input-172-c3800fc4b815>\"\u001b[0m, line \u001b[1;32m3\u001b[0m, in \u001b[1;35m<module>\u001b[0m\n    data = quandl.get(\"SPY\", start_date=\"2018-01-01\", end_date=\"2018-01-01\", api_key= \"your key\")\n",
      "  File \u001b[1;32m\"/home/nbuser/.local/lib/python3.6/site-packages/quandl/get.py\"\u001b[0m, line \u001b[1;32m48\u001b[0m, in \u001b[1;35mget\u001b[0m\n    data = Dataset(dataset_args['code']).data(params=kwargs, handle_column_not_found=True)\n",
      "\u001b[0;36m  File \u001b[0;32m\"/home/nbuser/.local/lib/python3.6/site-packages/quandl/model/dataset.py\"\u001b[0;36m, line \u001b[0;32m28\u001b[0;36m, in \u001b[0;35m__init__\u001b[0;36m\u001b[0m\n\u001b[0;31m    raise SyntaxError(Message.ERROR_INVALID_DATABASE_CODE_FROMAT)\u001b[0m\n",
      "\u001b[0;36m  File \u001b[0;32m\"<string>\"\u001b[0;36m, line \u001b[0;32munknown\u001b[0m\n\u001b[0;31mSyntaxError\u001b[0m\u001b[0;31m:\u001b[0m Invalid format used for Quandl database code.         The correct format is: `DATABASE_CODE/DATASET_CODE`\n"
     ]
    }
   ],
   "source": [
    "import matplotlib.pyplot as plt\n",
    "import quandl\n",
    "data = quandl.get(\"SPY\", start_date=\"2018-01-01\", end_date=\"2018-01-01\", api_key= \"your key\")\n",
    "data.Close.plot()\n",
    "plt.show()"
   ]
  },
  {
   "cell_type": "code",
   "execution_count": null,
   "metadata": {},
   "outputs": [],
   "source": []
  }
 ],
 "metadata": {
  "kernelspec": {
   "display_name": "Python 3",
   "language": "python",
   "name": "python3"
  },
  "language_info": {
   "codemirror_mode": {
    "name": "ipython",
    "version": 3
   },
   "file_extension": ".py",
   "mimetype": "text/x-python",
   "name": "python",
   "nbconvert_exporter": "python",
   "pygments_lexer": "ipython3",
   "version": "3.6.5"
  }
 },
 "nbformat": 4,
 "nbformat_minor": 2
}
